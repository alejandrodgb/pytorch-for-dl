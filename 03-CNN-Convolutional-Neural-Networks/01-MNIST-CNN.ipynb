{
 "cells": [
  {
   "cell_type": "markdown",
   "id": "5510f74b-7358-4cb2-abb7-427d1ae5ca53",
   "metadata": {},
   "source": [
    "# Libaries"
   ]
  },
  {
   "cell_type": "code",
   "execution_count": 56,
   "id": "8417b5c4-7189-4156-b5ed-5b38d7716bdd",
   "metadata": {},
   "outputs": [],
   "source": [
    "import torch\n",
    "import torch.nn as nn\n",
    "import torch.nn.functional as F\n",
    "from torch.utils.data import DataLoader\n",
    "from torchvision import datasets, transforms\n",
    "from torchvision.utils import make_grid\n",
    "\n",
    "import numpy as np\n",
    "import pandas as pd\n",
    "import seaborn as sns\n",
    "from sklearn.metrics import confusion_matrix\n",
    "import matplotlib.pyplot as plt\n",
    "%matplotlib inline"
   ]
  },
  {
   "cell_type": "markdown",
   "id": "6aa063a8-ddc2-4510-938d-f076140cfaaf",
   "metadata": {},
   "source": [
    "# Load Data"
   ]
  },
  {
   "cell_type": "code",
   "execution_count": 6,
   "id": "9ba61fb8-ae46-4644-9d61-deb68d9cc73f",
   "metadata": {},
   "outputs": [],
   "source": [
    "transform = transforms.ToTensor()\n",
    "\n",
    "train_data = datasets.MNIST(root='../Data', train=True, download=True, transform=transform)\n",
    "test_data = datasets.MNIST(root='../Data', train=False, download=True, transform=transform)"
   ]
  },
  {
   "cell_type": "code",
   "execution_count": 8,
   "id": "80f24fe9-d63a-454c-a9ed-17ebdc267c60",
   "metadata": {},
   "outputs": [
    {
     "data": {
      "text/plain": [
       "Dataset MNIST\n",
       "    Number of datapoints: 60000\n",
       "    Root location: ../Data\n",
       "    Split: Train\n",
       "    StandardTransform\n",
       "Transform: ToTensor()"
      ]
     },
     "execution_count": 8,
     "metadata": {},
     "output_type": "execute_result"
    }
   ],
   "source": [
    "train_data"
   ]
  },
  {
   "cell_type": "code",
   "execution_count": 9,
   "id": "3a04d78c-7db6-4b74-bee9-873f764f24af",
   "metadata": {},
   "outputs": [
    {
     "data": {
      "text/plain": [
       "Dataset MNIST\n",
       "    Number of datapoints: 10000\n",
       "    Root location: ../Data\n",
       "    Split: Test\n",
       "    StandardTransform\n",
       "Transform: ToTensor()"
      ]
     },
     "execution_count": 9,
     "metadata": {},
     "output_type": "execute_result"
    }
   ],
   "source": [
    "test_data"
   ]
  },
  {
   "cell_type": "markdown",
   "id": "642eb945-9773-4b6c-bc1d-4cb217ead8df",
   "metadata": {},
   "source": [
    "## Create dataloaders"
   ]
  },
  {
   "cell_type": "code",
   "execution_count": 20,
   "id": "10c0e25f-bd89-4e88-bbb0-c387a2eef32e",
   "metadata": {},
   "outputs": [],
   "source": [
    "train_loader = DataLoader(train_data, batch_size=10, shuffle=True)\n",
    "test_loader = DataLoader(test_data, batch_size=10, shuffle=False)"
   ]
  },
  {
   "cell_type": "markdown",
   "id": "a276f451-2304-4c78-8356-b1b7c25dbe12",
   "metadata": {},
   "source": [
    "# Define a Convolutional Model"
   ]
  },
  {
   "cell_type": "markdown",
   "id": "8436bcd1-7bf2-4631-a70e-9bb2e7fcdb37",
   "metadata": {},
   "source": [
    "## Explaining convolutions"
   ]
  },
  {
   "cell_type": "markdown",
   "id": "0860d509-105c-4c3d-83e8-36941cc24d73",
   "metadata": {},
   "source": [
    "Images loaded with MNIST dataset are single colour channel so the in-channel will be one."
   ]
  },
  {
   "cell_type": "code",
   "execution_count": 25,
   "id": "43e7ef0a-d232-430e-b651-3f5f3f56a7b2",
   "metadata": {},
   "outputs": [],
   "source": [
    "# Create two convolutions. Out channels were chosen at random\n",
    "conv1 = nn.Conv2d(in_channels=1, out_channels=6, kernel_size=3, stride=1)\n",
    "conv2 = nn.Conv2d(6,16,3,1)"
   ]
  },
  {
   "cell_type": "code",
   "execution_count": 26,
   "id": "0dfe0362-bfb6-4b6f-b470-a46ba04c1c47",
   "metadata": {},
   "outputs": [],
   "source": [
    "# Extract a single image from train data\n",
    "X_train, y_train = train_data[0]"
   ]
  },
  {
   "cell_type": "markdown",
   "id": "9c2003b3-085e-4541-a81c-e9147a1fa81c",
   "metadata": {},
   "source": [
    "The convolution expects a batch of one channel so we need to reshape the data to provide the required shape = `[1,1,28,28]`"
   ]
  },
  {
   "cell_type": "code",
   "execution_count": 29,
   "id": "efbab14e-ce52-4254-9a7e-feebe6ccf113",
   "metadata": {},
   "outputs": [
    {
     "data": {
      "text/plain": [
       "torch.Size([1, 1, 28, 28])"
      ]
     },
     "execution_count": 29,
     "metadata": {},
     "output_type": "execute_result"
    }
   ],
   "source": [
    "x = X_train.view(1,1,28,28)\n",
    "x.shape"
   ]
  },
  {
   "cell_type": "code",
   "execution_count": 30,
   "id": "cec3c8bf-82af-46e2-aeac-3fbc5089e0c9",
   "metadata": {},
   "outputs": [
    {
     "data": {
      "text/plain": [
       "torch.Size([1, 6, 26, 26])"
      ]
     },
     "execution_count": 30,
     "metadata": {},
     "output_type": "execute_result"
    }
   ],
   "source": [
    "# Perform the convolution and activation of the image\n",
    "x = F.relu(conv1(x))\n",
    "x.shape"
   ]
  },
  {
   "cell_type": "code",
   "execution_count": 31,
   "id": "c7b8664b-61d5-4fd7-b029-260f082451ed",
   "metadata": {},
   "outputs": [],
   "source": [
    "# Max pooling of the data\n",
    "x = F.max_pool2d(x,2,2)"
   ]
  },
  {
   "cell_type": "code",
   "execution_count": 32,
   "id": "1cb0cb9e-ec41-4608-a9bb-2b0033c08868",
   "metadata": {},
   "outputs": [
    {
     "data": {
      "text/plain": [
       "torch.Size([1, 6, 13, 13])"
      ]
     },
     "execution_count": 32,
     "metadata": {},
     "output_type": "execute_result"
    }
   ],
   "source": [
    "x.shape"
   ]
  },
  {
   "cell_type": "code",
   "execution_count": 33,
   "id": "891a4412-b1c9-482c-b05e-0b4b3f7166b5",
   "metadata": {},
   "outputs": [
    {
     "data": {
      "text/plain": [
       "torch.Size([1, 16, 11, 11])"
      ]
     },
     "execution_count": 33,
     "metadata": {},
     "output_type": "execute_result"
    }
   ],
   "source": [
    "# Pass it through the second convolutional layer\n",
    "x = F.relu(conv2(x))\n",
    "x.shape"
   ]
  },
  {
   "cell_type": "code",
   "execution_count": 34,
   "id": "40f13d0d-2990-4f21-a4f3-5aea3db66879",
   "metadata": {},
   "outputs": [
    {
     "data": {
      "text/plain": [
       "torch.Size([1, 16, 5, 5])"
      ]
     },
     "execution_count": 34,
     "metadata": {},
     "output_type": "execute_result"
    }
   ],
   "source": [
    "x = F.max_pool2d(x,2,2)\n",
    "x.shape"
   ]
  },
  {
   "cell_type": "markdown",
   "id": "5e4dd852-def3-4dd2-a5f4-d7c8aad96d8d",
   "metadata": {},
   "source": [
    "The total size is 16, 5, 5 because of the convolutions with no padding and then the pooling. We will then feed this as flat input to a fully connected layer. When flattening it then we will have the batch of images x (16x5x5 = 400)"
   ]
  },
  {
   "cell_type": "code",
   "execution_count": 35,
   "id": "e40f75f6-e7e4-49ae-a672-12ac897992b0",
   "metadata": {},
   "outputs": [
    {
     "data": {
      "text/plain": [
       "torch.Size([1, 400])"
      ]
     },
     "execution_count": 35,
     "metadata": {},
     "output_type": "execute_result"
    }
   ],
   "source": [
    "x.view(-1,16*5*5).shape"
   ]
  },
  {
   "cell_type": "markdown",
   "id": "acc265df-051d-45e4-8b84-29c8c71a1aa3",
   "metadata": {},
   "source": [
    "## Model definition"
   ]
  },
  {
   "cell_type": "code",
   "execution_count": 94,
   "id": "3455a894-f395-4c8b-8617-1ffd60307856",
   "metadata": {},
   "outputs": [],
   "source": [
    "class ConvolutionalNetwork(nn.Module):\n",
    "    \n",
    "    def __init__(self):\n",
    "        \n",
    "        # Initialise nn.Module\n",
    "        super().__init__()\n",
    "        \n",
    "        # First convolution, 1 input, 6 out channels, 3x3 kernel, 1px stride\n",
    "        self.conv1 = nn.Conv2d(1,6,3,1)\n",
    "        \n",
    "        # Second convolution, 6 inputs, 16 out channels, 3x3 kernel, 1px stride\n",
    "        self.conv2 = nn.Conv2d(6,16,3,1)\n",
    "        \n",
    "        # Three fully connected linear layers\n",
    "        self.fc1 = nn.Linear(5*5*16,120)\n",
    "        self.fc2 = nn.Linear(120,84)\n",
    "        self.fc3 = nn.Linear(84,10)\n",
    "        \n",
    "    def forward(self, X):\n",
    "        # Convolution, activation, and max pooling through first two convolution layers\n",
    "        X = F.relu(self.conv1(X))\n",
    "        X = F.max_pool2d(X,2,2)\n",
    "        X = F.relu(self.conv2(X))\n",
    "        X = F.max_pool2d(X,2,2)\n",
    "        \n",
    "        # Flatten to [batch number, input after convolutions and pooling]\n",
    "        X = X.view(-1,16*5*5)\n",
    "        \n",
    "        # Pass and activation through two fully connected layers\n",
    "        X = F.relu(self.fc1(X))\n",
    "        X = F.relu(self.fc2(X))\n",
    "        \n",
    "        # Pass through third fully connected layer\n",
    "        X = self.fc3(X)\n",
    "        \n",
    "        # Final activation to return the probability of belonging to a given class\n",
    "        return F.log_softmax(X, dim=1)"
   ]
  },
  {
   "cell_type": "code",
   "execution_count": 95,
   "id": "691f76c4-82ce-47d7-90d1-7ebcb308caf7",
   "metadata": {},
   "outputs": [
    {
     "data": {
      "text/plain": [
       "ConvolutionalNetwork(\n",
       "  (conv1): Conv2d(1, 6, kernel_size=(3, 3), stride=(1, 1))\n",
       "  (conv2): Conv2d(6, 16, kernel_size=(3, 3), stride=(1, 1))\n",
       "  (fc1): Linear(in_features=400, out_features=120, bias=True)\n",
       "  (fc2): Linear(in_features=120, out_features=84, bias=True)\n",
       "  (fc3): Linear(in_features=84, out_features=10, bias=True)\n",
       ")"
      ]
     },
     "execution_count": 95,
     "metadata": {},
     "output_type": "execute_result"
    }
   ],
   "source": [
    "# Instantiate the model\n",
    "torch.manual_seed(42)\n",
    "model = ConvolutionalNetwork()\n",
    "model"
   ]
  },
  {
   "cell_type": "code",
   "execution_count": 96,
   "id": "f20e3a95-f679-4c11-a1c1-6dae7aede239",
   "metadata": {},
   "outputs": [
    {
     "name": "stdout",
     "output_type": "stream",
     "text": [
      "54\n",
      "6\n",
      "864\n",
      "16\n",
      "48000\n",
      "120\n",
      "10080\n",
      "84\n",
      "840\n",
      "10\n",
      "--------\n",
      "60074\n"
     ]
    }
   ],
   "source": [
    "# Checking the number of parameters\n",
    "n=0\n",
    "for param in model.parameters():\n",
    "    n += param.numel()\n",
    "    print(param.numel())\n",
    "print(f'--------\\n{n}')"
   ]
  },
  {
   "cell_type": "code",
   "execution_count": 97,
   "id": "5fe33e3f-3162-4a70-94ea-3abf25df6d77",
   "metadata": {},
   "outputs": [],
   "source": [
    "# Define the loss function and optimiser\n",
    "criterion = nn.CrossEntropyLoss()\n",
    "optimiser = torch.optim.Adam(model.parameters(),lr=0.001)"
   ]
  },
  {
   "cell_type": "markdown",
   "id": "867cda51-0ff2-49d6-921b-8846fbc4f5c6",
   "metadata": {},
   "source": [
    "## Training the model"
   ]
  },
  {
   "cell_type": "code",
   "execution_count": 98,
   "id": "b42a5b02-e0be-48b0-947f-691928aaf9b8",
   "metadata": {},
   "outputs": [
    {
     "name": "stdout",
     "output_type": "stream",
     "text": [
      "epoch =  1\tloss = 0.03970578\taccuracy =  94.303%\n",
      "epoch =  2\tloss = 0.03162561\taccuracy =  97.960%\n",
      "epoch =  3\tloss = 0.00421886\taccuracy =  98.490%\n",
      "epoch =  4\tloss = 0.00010060\taccuracy =  98.827%\n",
      "epoch =  5\tloss = 0.00059553\taccuracy =  99.010%\n",
      "Training time = 1.54 min\n"
     ]
    }
   ],
   "source": [
    "import time\n",
    "start_time = time.time()\n",
    "\n",
    "epochs = 5\n",
    "# Trackers\n",
    "train_loss = []\n",
    "train_correct = []\n",
    "\n",
    "# Epoch training\n",
    "for i in range(epochs):\n",
    "    trn_correct = 0\n",
    "    tot = 0\n",
    "    \n",
    "    for X_train, y_train in train_loader:\n",
    "        # Apply the model\n",
    "        y_pred = model(X_train)\n",
    "        loss = criterion(y_pred, y_train)\n",
    "        \n",
    "        # Update parameters\n",
    "        optimiser.zero_grad()\n",
    "        loss.backward()\n",
    "        optimiser.step()\n",
    "        \n",
    "        # Track training accuracy\n",
    "        tot += X_train.shape[0]\n",
    "        predicted = torch.max(y_pred.data,1)[1]\n",
    "        batch_corr = (predicted==y_train).sum()\n",
    "        trn_correct += batch_corr\n",
    "        \n",
    "    print(f'epoch = {i+1:2}\\tloss = {loss.item():10.8f}\\taccuracy = {trn_correct/tot*100:7.3f}%')\n",
    "    train_loss.append(loss.data)\n",
    "    train_correct.append(trn_correct)\n",
    "\n",
    "print(f'Training time = {(time.time()-start_time)/60:.2f} min')"
   ]
  },
  {
   "cell_type": "code",
   "execution_count": 102,
   "id": "2e78915f-e729-4b49-b969-f7d4658f7cb5",
   "metadata": {},
   "outputs": [
    {
     "data": {
      "image/png": "[encoded data removed]",
      "text/plain": [
       "<Figure size 432x288 with 1 Axes>"
      ]
     },
     "metadata": {
      "needs_background": "light"
     },
     "output_type": "display_data"
    }
   ],
   "source": [
    "plt.plot(train_loss);"
   ]
  },
  {
   "cell_type": "markdown",
   "id": "919e74c3-be3f-4f3b-9c25-5dffcc2b2def",
   "metadata": {},
   "source": [
    "## Test the model"
   ]
  },
  {
   "cell_type": "code",
   "execution_count": 103,
   "id": "aecbf4d8-9a17-4639-bde4-7ad2c2a1f8ee",
   "metadata": {},
   "outputs": [
    {
     "name": "stdout",
     "output_type": "stream",
     "text": [
      "loss = 0.00005284\taccuracy =  98.760%\n"
     ]
    }
   ],
   "source": [
    "tst_corr = 0\n",
    "tst_tot = 0\n",
    "\n",
    "pred_total = []\n",
    "y_test_total = []\n",
    "\n",
    "with torch.no_grad():\n",
    "    for X_test, y_test in test_loader:\n",
    "        # Apply the model\n",
    "        y_pred = model(X_test)\n",
    "        loss = criterion(y_pred, y_test)\n",
    "        \n",
    "        # Track accuracy\n",
    "        tst_tot += X_test.shape[0]\n",
    "        predicted = torch.max(y_pred.data, 1)[1]\n",
    "        batch_corr = (predicted==y_test).sum()\n",
    "        tst_corr += batch_corr\n",
    "        \n",
    "        pred_total.append(predicted)\n",
    "        y_test_total.append(y_test)\n",
    "        \n",
    "    print(f'loss = {loss.item():10.8f}\\taccuracy = {tst_corr/tst_tot*100:7.3f}%')"
   ]
  },
  {
   "cell_type": "code",
   "execution_count": 104,
   "id": "e5f14bf2-8953-4107-b7d2-0e67ab1923fc",
   "metadata": {},
   "outputs": [],
   "source": [
    "y_test_total = torch.concat(y_test_total)\n",
    "pred_total = torch.concat(pred_total)\n",
    "cm = confusion_matrix(y_test_total, pred_total)"
   ]
  },
  {
   "cell_type": "code",
   "execution_count": 105,
   "id": "3504a6d8-cd80-405d-979d-2e54cd2ed37e",
   "metadata": {},
   "outputs": [
    {
     "data": {
      "text/plain": [
       "[Text(0.5, 15.0, 'Predicted'), Text(33.0, 0.5, 'Actual')]"
      ]
     },
     "execution_count": 105,
     "metadata": {},
     "output_type": "execute_result"
    },
    {
     "data": {
      "image/png": "[encoded data removed]",
      "text/plain": [
       "<Figure size 432x288 with 2 Axes>"
      ]
     },
     "metadata": {
      "needs_background": "light"
     },
     "output_type": "display_data"
    }
   ],
   "source": [
    "cm_plot = sns.heatmap(cm,annot=True,cmap='Blues',fmt='g')\n",
    "cm_plot.set(xlabel='Predicted',ylabel='Actual')"
   ]
  },
  {
   "cell_type": "markdown",
   "id": "ae23c5b8-ab7b-4434-aa3b-9ab3ffc4ae8e",
   "metadata": {},
   "source": [
    "# Examine Misses"
   ]
  },
  {
   "cell_type": "code",
   "execution_count": 106,
   "id": "2ce16bd5-423b-4593-8801-3aa53a16dca1",
   "metadata": {},
   "outputs": [
    {
     "data": {
      "text/plain": [
       "(124,)"
      ]
     },
     "execution_count": 106,
     "metadata": {},
     "output_type": "execute_result"
    }
   ],
   "source": [
    "# Get missed items indexes\n",
    "missed_idx = np.where(pred_total.numpy()!=y_test_total.numpy())[0]\n",
    "missed_idx.shape"
   ]
  },
  {
   "cell_type": "code",
   "execution_count": 107,
   "id": "823c9e5a-457e-4c59-849b-6b3eb0fb067f",
   "metadata": {},
   "outputs": [],
   "source": [
    "# Setup iterator for verification\n",
    "row = iter(np.array_split(missed_idx,len(missed_idx)//10))"
   ]
  },
  {
   "cell_type": "code",
   "execution_count": 109,
   "id": "7244d68b-d87c-4545-b569-13e9d284a8fb",
   "metadata": {},
   "outputs": [
    {
     "data": {
      "image/png": "[encoded data removed]",
      "text/plain": [
       "<Figure size 432x288 with 12 Axes>"
      ]
     },
     "metadata": {},
     "output_type": "display_data"
    }
   ],
   "source": [
    "nextrow = next(row)\n",
    "lab = y_test_total.index_select(0,torch.tensor(nextrow)).numpy()\n",
    "guess = pred_total.index_select(0,torch.tensor(nextrow)).numpy()\n",
    "#print(\"Index:\", nextrow)\n",
    "#print(\"Label:\", lab)\n",
    "#print(\"Pred :\", guess)\n",
    "\n",
    "images = test_data.data[nextrow]\n",
    "fig, axs = plt.subplots(nrows=1, ncols=len(nextrow)+1)\n",
    "for ax, im, l, g in zip(axs, images, lab, guess):\n",
    "    ax.imshow(im)\n",
    "    ax.set_xticks([])\n",
    "    ax.set_yticks([])\n",
    "    ax.set_title(f'{l}\\n{g}')\n",
    "ax = axs[-1]\n",
    "ax.imshow(np.zeros_like(images[0]))\n",
    "ax.set_xticks([])\n",
    "ax.set_yticks([])\n",
    "ax.set_title(f'Label\\nPred ');"
   ]
  }
 ],
 "metadata": {
  "kernelspec": {
   "display_name": "Python 3 (ipykernel)",
   "language": "python",
   "name": "python3"
  },
  "language_info": {
   "codemirror_mode": {
    "name": "ipython",
    "version": 3
   },
   "file_extension": ".py",
   "mimetype": "text/x-python",
   "name": "python",
   "nbconvert_exporter": "python",
   "pygments_lexer": "ipython3",
   "version": "3.9.7"
  },
  "toc-showtags": false
 },
 "nbformat": 4,
 "nbformat_minor": 5
}
