{
 "cells": [
  {
   "cell_type": "markdown",
   "id": "243d2628-a0e4-41c4-a726-fa949443dec0",
   "metadata": {},
   "source": [
    "# Imports"
   ]
  },
  {
   "cell_type": "code",
   "execution_count": 1,
   "id": "02969b8d-f806-4394-90f9-d42f6bba011b",
   "metadata": {},
   "outputs": [],
   "source": [
    "import torch\n",
    "import torch.nn as nn\n",
    "import torch.nn.functional as F\n",
    "from torch.utils.data import DataLoader\n",
    "from torchvision import datasets, transforms\n",
    "\n",
    "import time\n",
    "import seaborn as sns\n",
    "\n",
    "import numpy as np\n",
    "import pandas as pd\n",
    "from sklearn.metrics import confusion_matrix\n",
    "import matplotlib.pyplot as plt"
   ]
  },
  {
   "cell_type": "markdown",
   "id": "cd87d698-192d-48d0-8986-94ccc3e17398",
   "metadata": {},
   "source": [
    "# MNIST Dataset"
   ]
  },
  {
   "cell_type": "markdown",
   "id": "ec023e8d-f75e-4781-ae29-4fac30a6f2f0",
   "metadata": {},
   "source": [
    "The MNIST dataset is automatically downloaded on first use by pytorch. To use it we need to convert the images to tensors using `torchvision.transforms.ToTensor()`"
   ]
  },
  {
   "cell_type": "code",
   "execution_count": 2,
   "id": "964996f5-5690-4b55-8d80-7e0b3b6de3c5",
   "metadata": {},
   "outputs": [],
   "source": [
    "transform = transforms.ToTensor()"
   ]
  },
  {
   "cell_type": "markdown",
   "id": "a8930e13-5278-4b49-8011-c5452b4e24d0",
   "metadata": {},
   "source": [
    "## Loading the data"
   ]
  },
  {
   "cell_type": "markdown",
   "id": "0d168807-17b2-49d9-ae06-94019a1fea0e",
   "metadata": {},
   "source": [
    "Loading training data"
   ]
  },
  {
   "cell_type": "code",
   "execution_count": 3,
   "id": "e88fc47d-c015-41e9-8da4-b164f07a035d",
   "metadata": {},
   "outputs": [
    {
     "data": {
      "text/plain": [
       "Dataset MNIST\n",
       "    Number of datapoints: 60000\n",
       "    Root location: ../Data\n",
       "    Split: Train\n",
       "    StandardTransform\n",
       "Transform: ToTensor()"
      ]
     },
     "execution_count": 3,
     "metadata": {},
     "output_type": "execute_result"
    }
   ],
   "source": [
    "train_data = datasets.MNIST(root='../Data', train=True, download=True, transform=transform)\n",
    "train_data"
   ]
  },
  {
   "cell_type": "markdown",
   "id": "7ba24187-d6ca-45c2-b227-f81b7dd7edc7",
   "metadata": {},
   "source": [
    "Load test data"
   ]
  },
  {
   "cell_type": "code",
   "execution_count": 4,
   "id": "875f5c36-c1d1-4a91-9b9a-9ed56c2fb0b1",
   "metadata": {},
   "outputs": [
    {
     "data": {
      "text/plain": [
       "Dataset MNIST\n",
       "    Number of datapoints: 10000\n",
       "    Root location: ../Data\n",
       "    Split: Test\n",
       "    StandardTransform\n",
       "Transform: ToTensor()"
      ]
     },
     "execution_count": 4,
     "metadata": {},
     "output_type": "execute_result"
    }
   ],
   "source": [
    "test_data = datasets.MNIST(root='../Data', train=False, download=True, transform=transform)\n",
    "test_data"
   ]
  },
  {
   "cell_type": "markdown",
   "id": "49798bbb-9515-443b-abcf-22ce47711604",
   "metadata": {},
   "source": [
    "## Exploring the data"
   ]
  },
  {
   "cell_type": "code",
   "execution_count": 5,
   "id": "80989296-e7f2-487d-8829-f7b7fe5c3b1b",
   "metadata": {},
   "outputs": [
    {
     "data": {
      "text/plain": [
       "torchvision.datasets.mnist.MNIST"
      ]
     },
     "execution_count": 5,
     "metadata": {},
     "output_type": "execute_result"
    }
   ],
   "source": [
    "type(train_data)"
   ]
  },
  {
   "cell_type": "code",
   "execution_count": 6,
   "id": "691cf107-2349-4844-a6e5-8e77b6715dcc",
   "metadata": {},
   "outputs": [
    {
     "data": {
      "text/plain": [
       "tuple"
      ]
     },
     "execution_count": 6,
     "metadata": {},
     "output_type": "execute_result"
    }
   ],
   "source": [
    "type(train_data[0])"
   ]
  },
  {
   "cell_type": "code",
   "execution_count": 7,
   "id": "c1a2755c-f310-4be6-b770-2f9c1ea639b5",
   "metadata": {},
   "outputs": [],
   "source": [
    "image,label = train_data[0]"
   ]
  },
  {
   "cell_type": "markdown",
   "id": "8723614f-b37e-44cb-a0a0-8ea838ebfbde",
   "metadata": {},
   "source": [
    "The tuple is composed by the image with three channels. Given that it is a greyscale image the RGB channel is 1."
   ]
  },
  {
   "cell_type": "code",
   "execution_count": 8,
   "id": "25cbf5e9-4cdb-4376-a40b-e095f0416075",
   "metadata": {},
   "outputs": [
    {
     "data": {
      "text/plain": [
       "torch.Size([1, 28, 28])"
      ]
     },
     "execution_count": 8,
     "metadata": {},
     "output_type": "execute_result"
    }
   ],
   "source": [
    "image.shape"
   ]
  },
  {
   "cell_type": "code",
   "execution_count": 9,
   "id": "b939f905-d253-457d-920b-22526445460e",
   "metadata": {},
   "outputs": [
    {
     "data": {
      "text/plain": [
       "5"
      ]
     },
     "execution_count": 9,
     "metadata": {},
     "output_type": "execute_result"
    }
   ],
   "source": [
    "label"
   ]
  },
  {
   "cell_type": "markdown",
   "id": "4c5797ce-6183-4d73-afc4-baa341e010aa",
   "metadata": {},
   "source": [
    "Using `plt` we can visualise the image in the default colourscale. Given that it has a single colour channel we can drop it."
   ]
  },
  {
   "cell_type": "code",
   "execution_count": 10,
   "id": "8b38586b-00d4-4b1b-b9bf-c6b039b1c8b6",
   "metadata": {},
   "outputs": [
    {
     "data": {
      "text/plain": [
       "<matplotlib.image.AxesImage at 0x7fc392c19c10>"
      ]
     },
     "execution_count": 10,
     "metadata": {},
     "output_type": "execute_result"
    },
    {
     "data": {
      "image/png": "[encoded data removed]",
      "text/plain": [
       "<Figure size 432x288 with 1 Axes>"
      ]
     },
     "metadata": {
      "needs_background": "light"
     },
     "output_type": "display_data"
    }
   ],
   "source": [
    "plt.imshow(image.reshape((28,28)))"
   ]
  },
  {
   "cell_type": "markdown",
   "id": "55cc084b-0db7-4d9c-a41f-96a52e531691",
   "metadata": {},
   "source": [
    "Change colour mapping to be greyscale and greyscale inverted"
   ]
  },
  {
   "cell_type": "code",
   "execution_count": 11,
   "id": "fb98a4d4-8bc1-48c2-9fec-8e77cc02a16d",
   "metadata": {},
   "outputs": [
    {
     "data": {
      "text/plain": [
       "<matplotlib.image.AxesImage at 0x7fc3602aa970>"
      ]
     },
     "execution_count": 11,
     "metadata": {},
     "output_type": "execute_result"
    },
    {
     "data": {
      "image/png": "[encoded data removed]",
      "text/plain": [
       "<Figure size 432x288 with 1 Axes>"
      ]
     },
     "metadata": {
      "needs_background": "light"
     },
     "output_type": "display_data"
    }
   ],
   "source": [
    "plt.imshow(image.reshape((28,28)),cmap='gray')"
   ]
  },
  {
   "cell_type": "code",
   "execution_count": 12,
   "id": "770d9657-4280-4ac3-819c-2f9c39dc71b2",
   "metadata": {},
   "outputs": [
    {
     "data": {
      "text/plain": [
       "<matplotlib.image.AxesImage at 0x7fc37893b880>"
      ]
     },
     "execution_count": 12,
     "metadata": {},
     "output_type": "execute_result"
    },
    {
     "data": {
      "image/png": "[encoded data removed]",
      "text/plain": [
       "<Figure size 432x288 with 1 Axes>"
      ]
     },
     "metadata": {
      "needs_background": "light"
     },
     "output_type": "display_data"
    }
   ],
   "source": [
    "plt.imshow(image.reshape((28,28)),cmap='gist_yarg')"
   ]
  },
  {
   "cell_type": "markdown",
   "id": "a4f99aba-40db-4309-aa84-3e2787e28488",
   "metadata": {},
   "source": [
    "# Batch loading with DataLoader"
   ]
  },
  {
   "cell_type": "markdown",
   "id": "88c7138c-5e99-4aa0-8ddb-3bc908a73427",
   "metadata": {},
   "source": [
    "The total number of parameters is:\n",
    "\n",
    "- 748 incoming features \n",
    "- 120 and 84 neuron hidden layers\n",
    "- 10 output features\n",
    "\n",
    "$(784 \\times 120) + 120 + (120 \\times 84) + 84 + (84 \\times 10) + 10 = 105,215$\n",
    "\n",
    "Given the number of parameters, it makes sense to load the training data in batches using `DataLoader`"
   ]
  },
  {
   "cell_type": "code",
   "execution_count": 13,
   "id": "0d9fed35-876a-4f3e-a8df-154dad401d2d",
   "metadata": {},
   "outputs": [],
   "source": [
    "torch.manual_seed(101)\n",
    "\n",
    "train_loader = DataLoader(train_data, batch_size=100, shuffle=True)\n",
    "\n",
    "test_loader = DataLoader(test_data, batch_size=500, shuffle=False)"
   ]
  },
  {
   "cell_type": "markdown",
   "id": "01377d86-fb39-4a27-8423-b3490854eb85",
   "metadata": {},
   "source": [
    "## Visualising a batch"
   ]
  },
  {
   "cell_type": "code",
   "execution_count": 14,
   "id": "3e754753-c3d7-49b0-a356-16f238cd7498",
   "metadata": {},
   "outputs": [],
   "source": [
    "from torchvision.utils import make_grid"
   ]
  },
  {
   "cell_type": "markdown",
   "id": "d4e56d5f-12f8-4939-8508-c5c197d710d5",
   "metadata": {},
   "source": [
    "Load the first batch into `images` and `labels`"
   ]
  },
  {
   "cell_type": "code",
   "execution_count": 15,
   "id": "10d96e5d-c4a6-4839-a2a3-2390bb8a2fe5",
   "metadata": {},
   "outputs": [],
   "source": [
    "for images,labels in train_loader:\n",
    "    break"
   ]
  },
  {
   "cell_type": "code",
   "execution_count": 16,
   "id": "1393fd87-38a4-4aeb-824a-2aa6d647170c",
   "metadata": {},
   "outputs": [
    {
     "name": "stdout",
     "output_type": "stream",
     "text": [
      "Labels:  [7 2 3 5 8 5 3 6 9 9 1 3]\n"
     ]
    },
    {
     "data": {
      "image/png": "[encoded data removed]",
      "text/plain": [
       "<Figure size 720x288 with 1 Axes>"
      ]
     },
     "metadata": {
      "needs_background": "light"
     },
     "output_type": "display_data"
    }
   ],
   "source": [
    "# Print the first 12 labels\n",
    "print('Labels: ', labels[:12].numpy())\n",
    "\n",
    "# Print the first 12 images\n",
    "im = make_grid(images[:12], nrow=12)  # the default nrow is 8\n",
    "plt.figure(figsize=(10,4))\n",
    "# We need to transpose the images from CWH to WHC\n",
    "plt.imshow(np.transpose(im.numpy(), (1, 2, 0)));"
   ]
  },
  {
   "cell_type": "markdown",
   "id": "3868ae61-b948-4a83-8578-d8e57b694bfc",
   "metadata": {
    "tags": []
   },
   "source": [
    "# Define the model"
   ]
  },
  {
   "cell_type": "code",
   "execution_count": 17,
   "id": "b71bf126-8aaf-412c-92da-167f13122b15",
   "metadata": {},
   "outputs": [],
   "source": [
    "'''class MultilayerPerceptron(nn.Module):\n",
    "    def __init__(self, in_sz=784, out_sz=10, layers=[120,84]):\n",
    "        super().__init__()\n",
    "        self.fc1 = nn.Linear(in_sz,layers[0])\n",
    "        self.fc2 = nn.Linear(layers[0],layers[1])\n",
    "        self.fc3 = nn.Linear(layers[1],out_sz)\n",
    "    \n",
    "    def forward(self,X):\n",
    "        X = F.relu(self.fc1(X))\n",
    "        X = F.relu(self.fc2(X))\n",
    "        X = self.fc3(X)\n",
    "        return F.log_softmax(X, dim=1)'''"
   ]
  },
  {
   "cell_type": "code",
   "execution_count": 18,
   "id": "198091dd-e5ae-4715-991c-007f2c6912e0",
   "metadata": {},
   "outputs": [
    {
     "data": {
      "text/plain": [
       "MultilayerPerceptron(\n",
       "  (fc1): Linear(in_features=784, out_features=120, bias=True)\n",
       "  (fc2): Linear(in_features=120, out_features=84, bias=True)\n",
       "  (fc3): Linear(in_features=84, out_features=10, bias=True)\n",
       ")"
      ]
     },
     "execution_count": 18,
     "metadata": {},
     "output_type": "execute_result"
    }
   ],
   "source": [
    "'''torch.manual_seed(101)\n",
    "model = MultilayerPerceptron()\n",
    "model'''"
   ]
  },
  {
   "cell_type": "code",
   "execution_count": 19,
   "id": "03525c3a-e6d0-4149-b7a0-8d3f5d2492a4",
   "metadata": {},
   "outputs": [],
   "source": [
    "class MultilayerPerceptron(nn.Module):\n",
    "    \n",
    "    def __init__(self, in_sz=784, out_sz=10, layers=[120,84]):\n",
    "\n",
    "        super().__init__()\n",
    "        \n",
    "        layer_list = []\n",
    "        for l in layers:\n",
    "            layer_list.append(nn.Linear(in_sz,l))\n",
    "            layer_list.append(nn.ReLU(inplace=True))\n",
    "            in_sz = l\n",
    "        \n",
    "        layer_list.append(nn.Linear(layers[-1],out_sz))\n",
    "        layer_list.append(nn.LogSoftmax(dim=1))\n",
    "    \n",
    "        \n",
    "        self.layers = nn.Sequential(*layer_list)\n",
    "        \n",
    "    def forward(self,X):\n",
    "    \n",
    "        return self.layers(X)         "
   ]
  },
  {
   "cell_type": "code",
   "execution_count": 20,
   "id": "4a8c1aca-4248-420d-8baa-ea326103df37",
   "metadata": {},
   "outputs": [
    {
     "data": {
      "text/plain": [
       "MultilayerPerceptron(\n",
       "  (layers): Sequential(\n",
       "    (0): Linear(in_features=784, out_features=120, bias=True)\n",
       "    (1): ReLU(inplace=True)\n",
       "    (2): Linear(in_features=120, out_features=84, bias=True)\n",
       "    (3): ReLU(inplace=True)\n",
       "    (4): Linear(in_features=84, out_features=10, bias=True)\n",
       "    (5): LogSoftmax(dim=1)\n",
       "  )\n",
       ")"
      ]
     },
     "execution_count": 20,
     "metadata": {},
     "output_type": "execute_result"
    }
   ],
   "source": [
    "torch.manual_seed(101)\n",
    "model = MultilayerPerceptron()\n",
    "model"
   ]
  },
  {
   "cell_type": "markdown",
   "id": "5b974ac0-3352-4ee0-8091-6ba488d49379",
   "metadata": {},
   "source": [
    "With an input size of 784 features, two hidden layers of 120 and 84 neurons, and an output layer with 10 neurons, the model has 105,214 parameters."
   ]
  },
  {
   "cell_type": "code",
   "execution_count": 21,
   "id": "dccd4020-29e8-488e-9b43-ced2200657cc",
   "metadata": {},
   "outputs": [],
   "source": [
    "def count_parameters(model):\n",
    "    params = [p.numel() for p in model.parameters()]\n",
    "    for item in params:\n",
    "        print(f'{item:>6}')\n",
    "    print(f'______\\n{sum(params):>6}')"
   ]
  },
  {
   "cell_type": "code",
   "execution_count": 22,
   "id": "a2402b1c-bddc-4a62-be21-208248f6110d",
   "metadata": {},
   "outputs": [
    {
     "name": "stdout",
     "output_type": "stream",
     "text": [
      " 94080\n",
      "   120\n",
      " 10080\n",
      "    84\n",
      "   840\n",
      "    10\n",
      "______\n",
      "105214\n"
     ]
    }
   ],
   "source": [
    "count_parameters(model)"
   ]
  },
  {
   "cell_type": "markdown",
   "id": "1b78da06-72b1-4c5f-86cc-69023da61f2b",
   "metadata": {},
   "source": [
    "## Define loss function and optimiser"
   ]
  },
  {
   "cell_type": "code",
   "execution_count": 23,
   "id": "83944308-62a8-4cfd-80ef-0d42d6bf9d15",
   "metadata": {},
   "outputs": [],
   "source": [
    "criterion = nn.CrossEntropyLoss()\n",
    "optimizer = torch.optim.Adam(model.parameters(), lr=0.001)"
   ]
  },
  {
   "cell_type": "markdown",
   "id": "00ab4359-a059-4b8d-bfa4-d52e24eb01a8",
   "metadata": {},
   "source": [
    "## Flattening the data"
   ]
  },
  {
   "cell_type": "markdown",
   "id": "9c1249a6-1d10-4304-8d2c-f1043a01d95c",
   "metadata": {},
   "source": [
    "The model will be expeciting rows with 784 inputs. We will need to flatten the data. Current shape of a batch is 100 images, one colour channel, and a matrix of 28 by 28. We will need 100 images by 784 parameters.\n",
    "\n",
    "`[100,1,28,28] --> [100,784]`\n",
    "\n",
    "We can use the `.view()` function."
   ]
  },
  {
   "cell_type": "code",
   "execution_count": 24,
   "id": "53e07baf-c49b-44fd-b1cd-2274c3f4e542",
   "metadata": {},
   "outputs": [
    {
     "data": {
      "text/plain": [
       "torch.Size([100, 1, 28, 28])"
      ]
     },
     "execution_count": 24,
     "metadata": {},
     "output_type": "execute_result"
    }
   ],
   "source": [
    "# Current shape\n",
    "images.shape"
   ]
  },
  {
   "cell_type": "code",
   "execution_count": 25,
   "id": "9cfb78b9-d348-4590-b31e-c56dada8266d",
   "metadata": {},
   "outputs": [
    {
     "data": {
      "text/plain": [
       "torch.Size([100, 784])"
      ]
     },
     "execution_count": 25,
     "metadata": {},
     "output_type": "execute_result"
    }
   ],
   "source": [
    "images.view(100,-1).shape"
   ]
  },
  {
   "cell_type": "markdown",
   "id": "32cd0576-b2d2-4e78-a10c-8cf2f7c2340c",
   "metadata": {
    "tags": []
   },
   "source": [
    "## Model training"
   ]
  },
  {
   "cell_type": "markdown",
   "id": "ccf89c0f-b240-4e0c-8353-f9b4cee68bc4",
   "metadata": {
    "tags": []
   },
   "source": [
    "### Custom model"
   ]
  },
  {
   "cell_type": "code",
   "execution_count": 26,
   "id": "d1ce86fb-1158-4f6e-8545-15651ec9ef5c",
   "metadata": {},
   "outputs": [
    {
     "name": "stdout",
     "output_type": "stream",
     "text": [
      "epoch:   1  loss:  0.137658    accuracy: 89.582%\n",
      "epoch:   2  loss:  0.132700    accuracy: 95.347%\n",
      "epoch:   3  loss:  0.046429    accuracy: 96.722%\n",
      "epoch:   4  loss:  0.027433    accuracy: 97.500%\n",
      "epoch:   5  loss:  0.078452    accuracy: 98.025%\n",
      "epoch:   6  loss:  0.024285    accuracy: 98.403%\n",
      "epoch:   7  loss:  0.034916    accuracy: 98.697%\n",
      "epoch:   8  loss:  0.027247    accuracy: 98.902%\n",
      "epoch:   9  loss:  0.042940    accuracy: 99.147%\n",
      "epoch:  10  loss:  0.046022    accuracy: 99.267%\n",
      "Duration:0.97 min\n"
     ]
    }
   ],
   "source": [
    "start_time = time.time()\n",
    "\n",
    "epochs = 10\n",
    "train_losses = []\n",
    "train_correct = []\n",
    "train_total = []\n",
    "\n",
    "for i in range(epochs):\n",
    "    trn_corr = 0\n",
    "    trn_tot = 0\n",
    "    i+=1\n",
    "    \n",
    "    for X_train,y_train in train_loader:\n",
    "        # Batch size\n",
    "        b_sz = X_train.shape[0]\n",
    "        \n",
    "        # Predict result\n",
    "        y_pred = model(X_train.view(b_sz,-1))\n",
    "        # Calculate the loss\n",
    "        loss = criterion(y_pred, y_train)\n",
    "        \n",
    "        # Count correct predictions\n",
    "        predicted = torch.max(y_pred,1)[1]\n",
    "        batch_corr = (predicted == y_train).sum()\n",
    "        trn_corr += batch_corr\n",
    "        trn_tot += b_sz\n",
    "        \n",
    "        # Update parameters\n",
    "        optimizer.zero_grad()\n",
    "        loss.backward()\n",
    "        optimizer.step()\n",
    "    \n",
    "    # Update train loss and accuracy for epoch\n",
    "    train_losses.append(loss)\n",
    "    train_correct.append(trn_corr)\n",
    "    train_total.append(trn_tot)\n",
    "    print(f'epoch: {i:3}  loss:{loss.item():10.6f}    accuracy:{(trn_corr/trn_tot)*100:7.3f}%')\n",
    "\n",
    "\n",
    "total_time = time.time() - start_time\n",
    "print(f'Duration:{total_time/60:.2f} min')"
   ]
  },
  {
   "cell_type": "code",
   "execution_count": 27,
   "id": "034fe8d0-18ca-433b-a7bb-00abef6a4e99",
   "metadata": {},
   "outputs": [
    {
     "data": {
      "image/png": "[encoded data removed]",
      "text/plain": [
       "<Figure size 432x288 with 1 Axes>"
      ]
     },
     "metadata": {
      "needs_background": "light"
     },
     "output_type": "display_data"
    }
   ],
   "source": [
    "plt.plot(range(epochs), [l.item() for l in train_losses])\n",
    "plt.ylabel('Loss')\n",
    "plt.xlabel('epoch');"
   ]
  },
  {
   "cell_type": "markdown",
   "id": "6dd18ba1-998a-4ac4-b94c-9a626fed4bac",
   "metadata": {
    "jp-MarkdownHeadingCollapsed": true,
    "tags": []
   },
   "source": [
    "### Original model"
   ]
  },
  {
   "cell_type": "code",
   "execution_count": 28,
   "id": "53d380d4-308d-4795-948c-29270fc42619",
   "metadata": {},
   "outputs": [
    {
     "data": {
      "text/plain": [
       "\"start_time = time.time()\\n\\nepochs = 10\\ntrain_losses = []\\ntrain_correct = []\\ntrain_total = []\\n\\nfor i in range(epochs):\\n    trn_corr = 0\\n    trn_tot = 0\\n    i+=1\\n    \\n    for X_train,y_train in train_loader:\\n        b_sz = X_train.shape[0]\\n        \\n        # Predict result\\n        y_pred = model(X_train.view(100,-1))\\n        # Calculate the loss\\n        loss = criterion(y_pred, y_train)\\n        \\n        # Count correct predictions\\n        predicted = torch.max(y_pred,1)[1]\\n        batch_corr = (predicted == y_train).sum()\\n        trn_corr += batch_corr\\n        trn_tot += b_sz\\n        \\n        # Update parameters\\n        optimizer.zero_grad()\\n        loss.backward()\\n        optimizer.step()\\n    \\n    # Update train loss and accuracy for epoch\\n    train_losses.append(loss)\\n    train_correct.append(trn_corr)\\n    train_total.append(trn_tot)\\n    print(f'epoch: {i:3}  loss:{loss.item():10.6f}    accuracy:{(trn_corr/trn_tot)*100:7.3f}%')\\n\\n\\ntotal_time = time.time() - start_time\\nprint(f'Duration:{total_time/60:.2f} min')\""
      ]
     },
     "execution_count": 28,
     "metadata": {},
     "output_type": "execute_result"
    }
   ],
   "source": [
    "'''start_time = time.time()\n",
    "\n",
    "epochs = 10\n",
    "train_losses = []\n",
    "train_correct = []\n",
    "train_total = []\n",
    "\n",
    "for i in range(epochs):\n",
    "    trn_corr = 0\n",
    "    trn_tot = 0\n",
    "    i+=1\n",
    "    \n",
    "    for X_train,y_train in train_loader:\n",
    "        b_sz = X_train.shape[0]\n",
    "        \n",
    "        # Predict result\n",
    "        y_pred = model(X_train.view(100,-1))\n",
    "        # Calculate the loss\n",
    "        loss = criterion(y_pred, y_train)\n",
    "        \n",
    "        # Count correct predictions\n",
    "        predicted = torch.max(y_pred,1)[1]\n",
    "        batch_corr = (predicted == y_train).sum()\n",
    "        trn_corr += batch_corr\n",
    "        trn_tot += b_sz\n",
    "        \n",
    "        # Update parameters\n",
    "        optimizer.zero_grad()\n",
    "        loss.backward()\n",
    "        optimizer.step()\n",
    "    \n",
    "    # Update train loss and accuracy for epoch\n",
    "    train_losses.append(loss)\n",
    "    train_correct.append(trn_corr)\n",
    "    train_total.append(trn_tot)\n",
    "    print(f'epoch: {i:3}  loss:{loss.item():10.6f}    accuracy:{(trn_corr/trn_tot)*100:7.3f}%')\n",
    "\n",
    "\n",
    "total_time = time.time() - start_time\n",
    "print(f'Duration:{total_time/60:.2f} min')'''"
   ]
  },
  {
   "cell_type": "code",
   "execution_count": 29,
   "id": "28e4a4fe-0681-45b3-b76b-c70904b601de",
   "metadata": {},
   "outputs": [
    {
     "data": {
      "text/plain": [
       "\"plt.plot(range(epochs), [l.item() for l in train_losses])\\nplt.ylabel('Loss')\\nplt.xlabel('epoch');\""
      ]
     },
     "execution_count": 29,
     "metadata": {},
     "output_type": "execute_result"
    }
   ],
   "source": [
    "'''plt.plot(range(epochs), [l.item() for l in train_losses])\n",
    "plt.ylabel('Loss')\n",
    "plt.xlabel('epoch');'''"
   ]
  },
  {
   "cell_type": "markdown",
   "id": "5228131b-f57c-4afe-9e9c-eeffb0ec9e5b",
   "metadata": {},
   "source": [
    "## Model testing"
   ]
  },
  {
   "cell_type": "code",
   "execution_count": 30,
   "id": "eca28c1e-3c8e-4f56-9b6a-591023a3c7b3",
   "metadata": {},
   "outputs": [
    {
     "name": "stdout",
     "output_type": "stream",
     "text": [
      "loss:  0.133621    accuracy: 97.850%\n"
     ]
    }
   ],
   "source": [
    "tst_corr = 0\n",
    "tst_tot = 0\n",
    "\n",
    "pred_total = []\n",
    "y_test_total = []\n",
    "\n",
    "with torch.no_grad():\n",
    "    \n",
    "    for X_test, y_test in test_loader:\n",
    "        # Batch size\n",
    "        b_sz = X_test.shape[0]\n",
    "        \n",
    "        # Predict the result\n",
    "        y_pred = model(X_test.view(b_sz,-1))\n",
    "        # Calculate the loss\n",
    "        loss = criterion(y_pred, y_test)\n",
    "        \n",
    "        # Count the correct predictions\n",
    "        predicted = torch.max(y_pred,1)[1]\n",
    "        batch_corr = (predicted==y_test).sum()\n",
    "        tst_corr += batch_corr\n",
    "        tst_tot += b_sz\n",
    "        \n",
    "        pred_total.append(predicted)\n",
    "        y_test_total.append(y_test)\n",
    "    \n",
    "    print(f'loss:{loss.item():10.6f}    accuracy:{(tst_corr/tst_tot)*100:7.3f}%')"
   ]
  },
  {
   "cell_type": "code",
   "execution_count": 31,
   "id": "7eef45ef-bf7b-401d-9773-8f697e10f652",
   "metadata": {},
   "outputs": [],
   "source": [
    "y_test_total = torch.concat(y_test_total)\n",
    "pred_total = torch.concat(pred_total)\n",
    "cm = confusion_matrix(y_test_total, pred_total)"
   ]
  },
  {
   "cell_type": "code",
   "execution_count": 32,
   "id": "ba29fb29-e7c8-4c44-bd9e-883f9454f1b4",
   "metadata": {},
   "outputs": [
    {
     "data": {
      "image/png": "[encoded data removed]",
      "text/plain": [
       "<Figure size 432x288 with 2 Axes>"
      ]
     },
     "metadata": {
      "needs_background": "light"
     },
     "output_type": "display_data"
    }
   ],
   "source": [
    "cm_plot = sns.heatmap(cm,annot=True, cmap='Blues',fmt='g')\n",
    "cm_plot.set(xlabel='Predicted',ylabel='Actual');"
   ]
  },
  {
   "cell_type": "markdown",
   "id": "65556b0a-69fe-4981-955d-ad58ec5ff264",
   "metadata": {},
   "source": [
    "# Examine Misses"
   ]
  },
  {
   "cell_type": "code",
   "execution_count": 154,
   "id": "6ee34399-2e3f-49bf-b8b7-b733be929a61",
   "metadata": {},
   "outputs": [
    {
     "data": {
      "text/plain": [
       "(215,)"
      ]
     },
     "execution_count": 154,
     "metadata": {},
     "output_type": "execute_result"
    }
   ],
   "source": [
    "# Get missed items indexes\n",
    "misses_idx = np.where(pred_total.numpy()!=y_test_total.numpy())[0]\n",
    "# Split in batches\n",
    "misses_idx.shape"
   ]
  },
  {
   "cell_type": "code",
   "execution_count": 155,
   "id": "047e3efb-8225-4c68-9714-a1395269143c",
   "metadata": {},
   "outputs": [],
   "source": [
    "# Setup iterator\n",
    "row = iter(np.array_split(misses_idx, len(misses_idx)//10))"
   ]
  },
  {
   "cell_type": "code",
   "execution_count": 169,
   "id": "99af9aa6-0183-4e5f-aa93-e27b34c1131e",
   "metadata": {},
   "outputs": [
    {
     "name": "stdout",
     "output_type": "stream",
     "text": [
      "Index: [3533 3558 3565 3567 3597 3662 3674 3718 3751 3757]\n",
      "Label: [4 5 5 8 9 8 8 4 7 8]\n",
      "Guess: [9 0 8 5 3 0 3 9 2 3]\n"
     ]
    },
    {
     "data": {
      "image/png": "[encoded data removed]",
      "text/plain": [
       "<Figure size 432x288 with 10 Axes>"
      ]
     },
     "metadata": {},
     "output_type": "display_data"
    }
   ],
   "source": [
    "nextrow = next(row)\n",
    "lab = y_test_total.index_select(0,torch.tensor(nextrow)).numpy()\n",
    "gs = pred_total.index_select(0,torch.tensor(nextrow)).numpy()\n",
    "print(\"Index:\", nextrow)\n",
    "print(\"Label:\", lab)\n",
    "print(\"Guess:\", gs)\n",
    "\n",
    "images = test_data.data[nextrow]\n",
    "#im = make_grid(images, nrow=11)\n",
    "fix, axs = plt.subplots(nrows=1, ncols=len(nextrow))\n",
    "for ax, im, l, g in zip(axs,images, lab, gs):\n",
    "    ax.imshow(im)\n",
    "    ax.set_xticks([])\n",
    "    ax.set_yticks([])\n",
    "    ax.set_title(f'{l}\\n{g}')"
   ]
  }
 ],
 "metadata": {
  "kernelspec": {
   "display_name": "Python 3 (ipykernel)",
   "language": "python",
   "name": "python3"
  },
  "language_info": {
   "codemirror_mode": {
    "name": "ipython",
    "version": 3
   },
   "file_extension": ".py",
   "mimetype": "text/x-python",
   "name": "python",
   "nbconvert_exporter": "python",
   "pygments_lexer": "ipython3",
   "version": "3.9.7"
  },
  "toc-autonumbering": false,
  "toc-showcode": false,
  "toc-showmarkdowntxt": false
 },
 "nbformat": 4,
 "nbformat_minor": 5
}
