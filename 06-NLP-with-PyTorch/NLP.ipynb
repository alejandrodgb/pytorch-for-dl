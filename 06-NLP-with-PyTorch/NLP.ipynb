{
 "cells": [
  {
   "cell_type": "markdown",
   "id": "15de4d48-e885-4e34-bfe7-988149ff567d",
   "metadata": {},
   "source": [
    "# NLP\n",
    "\n",
    "- Networks do not understand raw text so all text has to be encoded.\n",
    "- Then it needs to be one-hot encoded"
   ]
  },
  {
   "cell_type": "markdown",
   "id": "78959278-9e24-43a3-bdbe-908518d127b9",
   "metadata": {},
   "source": [
    "# Libraries"
   ]
  },
  {
   "cell_type": "code",
   "execution_count": 2,
   "id": "8d80803e-49ee-4d37-808a-900844185c4f",
   "metadata": {},
   "outputs": [],
   "source": [
    "import torch\n",
    "from torch import nn\n",
    "import torch.nn.functional as F\n",
    "\n",
    "import numpy as np\n",
    "import matplotlib.pyplot as plt\n",
    "%matplotlib inline"
   ]
  },
  {
   "cell_type": "markdown",
   "id": "ecff4b27-b535-43f5-90cd-5f9235e3a8c4",
   "metadata": {},
   "source": [
    "# Data"
   ]
  },
  {
   "cell_type": "markdown",
   "id": "49f5253c-d293-4e24-b565-c03fb50ff7f0",
   "metadata": {},
   "source": [
    "## Read data"
   ]
  },
  {
   "cell_type": "code",
   "execution_count": 3,
   "id": "bcaf992a-97b8-4393-98d1-3dcca4b9d685",
   "metadata": {},
   "outputs": [],
   "source": [
    "with open('../Data/shakespeare.txt','r', encoding='utf8') as f:\n",
    "    text = f.read()"
   ]
  },
  {
   "cell_type": "code",
   "execution_count": 6,
   "id": "893be459-9459-40e2-9e03-47e164680c96",
   "metadata": {},
   "outputs": [
    {
     "name": "stdout",
     "output_type": "stream",
     "text": [
      "\n",
      "                     1\n",
      "  From fairest creatures we desire increase,\n",
      "  That thereby beauty's rose might never die,\n",
      "  But as the riper should by time decease,\n",
      "  His tender heir might bear his memory:\n",
      "  But thou contracted to thine own bright eyes,\n",
      "  Feed'st thy light's flame with self-substantial fuel,\n",
      "  Making a famine where abundance lies,\n",
      "  Thy self thy foe, to thy sweet self too cruel:\n",
      "  Thou that art now the world's fresh ornament,\n",
      "  And only herald to the gaudy spring,\n",
      "  Within thine own bud buriest thy content,\n",
      "  And tender churl mak'st waste in niggarding:\n",
      "    Pity the world, or else this glutton be,\n",
      "    To eat the world's due, by the grave and thee.\n",
      "\n",
      "\n",
      "                     2\n",
      "  When forty winters shall besiege thy brow,\n",
      "  And dig deep trenches in thy beauty's field,\n",
      "  Thy youth's proud livery so gazed on now,\n",
      "  Will be a tattered weed of small worth held:  \n",
      "  Then being asked, where all thy beauty lies,\n",
      "  Where all the treasure of thy lusty days;\n",
      "  To say within thine own deep su\n"
     ]
    }
   ],
   "source": [
    "print(text[:1000])"
   ]
  },
  {
   "cell_type": "markdown",
   "id": "0e4c08c5-8acf-4b5d-be92-bd7ad06068e5",
   "metadata": {},
   "source": [
    "## Encoding text\n",
    "\n",
    "We will create a set of all characters, assign an id to each character, and build two dictionaries one with id > text, another with text > id"
   ]
  },
  {
   "cell_type": "code",
   "execution_count": 17,
   "id": "694ed8d8-bcdf-46be-a08d-cca34b4aba29",
   "metadata": {},
   "outputs": [
    {
     "data": {
      "text/plain": [
       "84"
      ]
     },
     "execution_count": 17,
     "metadata": {},
     "output_type": "execute_result"
    }
   ],
   "source": [
    "# Create a set of all unique characters in the text\n",
    "all_characters = set(text)\n",
    "len(all_characters)"
   ]
  },
  {
   "cell_type": "code",
   "execution_count": 24,
   "id": "528be15c-11c9-4c8d-88b6-0e129e647139",
   "metadata": {
    "collapsed": true,
    "jupyter": {
     "outputs_hidden": true
    },
    "tags": []
   },
   "outputs": [
    {
     "data": {
      "text/plain": [
       "{0: 'y',\n",
       " 1: 'Y',\n",
       " 2: '.',\n",
       " 3: 't',\n",
       " 4: ',',\n",
       " 5: '>',\n",
       " 6: '7',\n",
       " 7: 'Z',\n",
       " 8: '-',\n",
       " 9: 'M',\n",
       " 10: 'W',\n",
       " 11: '0',\n",
       " 12: 'P',\n",
       " 13: 'G',\n",
       " 14: 'd',\n",
       " 15: '_',\n",
       " 16: ']',\n",
       " 17: \"'\",\n",
       " 18: '1',\n",
       " 19: '4',\n",
       " 20: '`',\n",
       " 21: 'a',\n",
       " 22: 'V',\n",
       " 23: 'p',\n",
       " 24: 'f',\n",
       " 25: 'h',\n",
       " 26: 'w',\n",
       " 27: 'z',\n",
       " 28: '9',\n",
       " 29: 'e',\n",
       " 30: '?',\n",
       " 31: '}',\n",
       " 32: 'S',\n",
       " 33: 'A',\n",
       " 34: 'Q',\n",
       " 35: 'u',\n",
       " 36: ')',\n",
       " 37: 'j',\n",
       " 38: 'K',\n",
       " 39: 'J',\n",
       " 40: 'b',\n",
       " 41: '<',\n",
       " 42: 'F',\n",
       " 43: 'T',\n",
       " 44: 'l',\n",
       " 45: 'm',\n",
       " 46: 'C',\n",
       " 47: 'o',\n",
       " 48: ';',\n",
       " 49: 'v',\n",
       " 50: 'c',\n",
       " 51: 'k',\n",
       " 52: 'i',\n",
       " 53: 'r',\n",
       " 54: ':',\n",
       " 55: 'X',\n",
       " 56: 'n',\n",
       " 57: '3',\n",
       " 58: 'D',\n",
       " 59: '\\n',\n",
       " 60: '2',\n",
       " 61: '&',\n",
       " 62: 'I',\n",
       " 63: 'q',\n",
       " 64: ' ',\n",
       " 65: '5',\n",
       " 66: 'N',\n",
       " 67: '(',\n",
       " 68: 'H',\n",
       " 69: 's',\n",
       " 70: 'x',\n",
       " 71: 'g',\n",
       " 72: '[',\n",
       " 73: '6',\n",
       " 74: '8',\n",
       " 75: '!',\n",
       " 76: 'R',\n",
       " 77: 'B',\n",
       " 78: 'E',\n",
       " 79: '\"',\n",
       " 80: 'U',\n",
       " 81: 'L',\n",
       " 82: '|',\n",
       " 83: 'O'}"
      ]
     },
     "execution_count": 24,
     "metadata": {},
     "output_type": "execute_result"
    }
   ],
   "source": [
    "# Create a decoder that reads the ID and returns the character.\n",
    "# Assign an ID to each character and save it in a dictionary\n",
    "decoder = dict(enumerate(all_characters))\n",
    "decoder"
   ]
  },
  {
   "cell_type": "code",
   "execution_count": 25,
   "id": "f88b71ac-ff0a-4431-852d-9ab7c583e014",
   "metadata": {
    "collapsed": true,
    "jupyter": {
     "outputs_hidden": true
    },
    "tags": []
   },
   "outputs": [
    {
     "data": {
      "text/plain": [
       "{'y': 0,\n",
       " 'Y': 1,\n",
       " '.': 2,\n",
       " 't': 3,\n",
       " ',': 4,\n",
       " '>': 5,\n",
       " '7': 6,\n",
       " 'Z': 7,\n",
       " '-': 8,\n",
       " 'M': 9,\n",
       " 'W': 10,\n",
       " '0': 11,\n",
       " 'P': 12,\n",
       " 'G': 13,\n",
       " 'd': 14,\n",
       " '_': 15,\n",
       " ']': 16,\n",
       " \"'\": 17,\n",
       " '1': 18,\n",
       " '4': 19,\n",
       " '`': 20,\n",
       " 'a': 21,\n",
       " 'V': 22,\n",
       " 'p': 23,\n",
       " 'f': 24,\n",
       " 'h': 25,\n",
       " 'w': 26,\n",
       " 'z': 27,\n",
       " '9': 28,\n",
       " 'e': 29,\n",
       " '?': 30,\n",
       " '}': 31,\n",
       " 'S': 32,\n",
       " 'A': 33,\n",
       " 'Q': 34,\n",
       " 'u': 35,\n",
       " ')': 36,\n",
       " 'j': 37,\n",
       " 'K': 38,\n",
       " 'J': 39,\n",
       " 'b': 40,\n",
       " '<': 41,\n",
       " 'F': 42,\n",
       " 'T': 43,\n",
       " 'l': 44,\n",
       " 'm': 45,\n",
       " 'C': 46,\n",
       " 'o': 47,\n",
       " ';': 48,\n",
       " 'v': 49,\n",
       " 'c': 50,\n",
       " 'k': 51,\n",
       " 'i': 52,\n",
       " 'r': 53,\n",
       " ':': 54,\n",
       " 'X': 55,\n",
       " 'n': 56,\n",
       " '3': 57,\n",
       " 'D': 58,\n",
       " '\\n': 59,\n",
       " '2': 60,\n",
       " '&': 61,\n",
       " 'I': 62,\n",
       " 'q': 63,\n",
       " ' ': 64,\n",
       " '5': 65,\n",
       " 'N': 66,\n",
       " '(': 67,\n",
       " 'H': 68,\n",
       " 's': 69,\n",
       " 'x': 70,\n",
       " 'g': 71,\n",
       " '[': 72,\n",
       " '6': 73,\n",
       " '8': 74,\n",
       " '!': 75,\n",
       " 'R': 76,\n",
       " 'B': 77,\n",
       " 'E': 78,\n",
       " '\"': 79,\n",
       " 'U': 80,\n",
       " 'L': 81,\n",
       " '|': 82,\n",
       " 'O': 83}"
      ]
     },
     "execution_count": 25,
     "metadata": {},
     "output_type": "execute_result"
    }
   ],
   "source": [
    "# Create an encoder that reads the character and returns the ID.\n",
    "encoder = {char:ind for ind,char in decoder.items()}\n",
    "encoder"
   ]
  },
  {
   "cell_type": "code",
   "execution_count": 26,
   "id": "6c2b79e0-84e4-451b-ba68-d207398dfa72",
   "metadata": {},
   "outputs": [
    {
     "data": {
      "text/plain": [
       "array([59, 64, 64, 64, 64, 64, 64, 64, 64, 64, 64, 64, 64, 64, 64, 64, 64,\n",
       "       64, 64, 64, 64, 64, 18, 59, 64, 64, 42, 53, 47, 45, 64, 24, 21, 52,\n",
       "       53, 29, 69,  3, 64, 50, 53, 29, 21,  3, 35, 53, 29, 69, 64, 26, 29,\n",
       "       64, 14, 29, 69, 52, 53, 29, 64, 52, 56, 50, 53, 29, 21, 69, 29,  4,\n",
       "       59, 64, 64, 43, 25, 21,  3, 64,  3, 25, 29, 53, 29, 40,  0, 64, 40,\n",
       "       29, 21, 35,  3,  0, 17, 69, 64, 53, 47, 69, 29, 64, 45, 52])"
      ]
     },
     "execution_count": 26,
     "metadata": {},
     "output_type": "execute_result"
    }
   ],
   "source": [
    "# Encode the text as a numpy array\n",
    "encoded_text = np.array([encoder[char] for char in text])\n",
    "encoded_text[:100]"
   ]
  },
  {
   "cell_type": "markdown",
   "id": "e99bf421-9391-4982-ab65-b3777530db83",
   "metadata": {},
   "source": [
    "## One-hot encoding\n",
    "\n",
    "We will be creating a one-hot encoding matrix of all characters in the text."
   ]
  },
  {
   "cell_type": "code",
   "execution_count": 49,
   "id": "92c40bc3-df22-496a-b929-5b06a11e4e08",
   "metadata": {},
   "outputs": [
    {
     "data": {
      "text/plain": [
       "(5445609,)"
      ]
     },
     "execution_count": 49,
     "metadata": {},
     "output_type": "execute_result"
    }
   ],
   "source": [
    "encoded_text.shape"
   ]
  },
  {
   "cell_type": "code",
   "execution_count": 50,
   "id": "964111e5-a50c-479a-bbed-ab8b143f0092",
   "metadata": {},
   "outputs": [],
   "source": [
    "def one_hot_encoder(encoded_text, num_uni_chars):\n",
    "    '''\n",
    "    Returns a one-hot encoded matrix of shape (encoded_text.size, unique_characters)\n",
    "    Parameters\n",
    "    ----------\n",
    "    - encoded_text [np.array]: batch of encoded text\n",
    "    - num_uni_chars [int]: number of unique characters in the text\n",
    "    '''\n",
    "    \n",
    "    # Create a matrix of zeros\n",
    "    one_hot = np.zeros((encoded_text.size,num_uni_chars))\n",
    "    \n",
    "    # Convert the matrix to Float32 to ensure Torch compatibility\n",
    "    one_hot = one_hot.astype(np.float32)\n",
    "    \n",
    "    # One-hot encode original matrix\n",
    "    one_hot[np.arange(one_hot.shape[0]),encoded_text.flatten()] = 1.0\n",
    "    \n",
    "    # Reshape to match the batch size. \n",
    "    one_hot = one_hot.reshape((*encoded_text.shape,num_uni_chars))\n",
    "    \n",
    "    return one_hot\n",
    "    "
   ]
  }
 ],
 "metadata": {
  "kernelspec": {
   "display_name": "Python 3 (ipykernel)",
   "language": "python",
   "name": "python3"
  },
  "language_info": {
   "codemirror_mode": {
    "name": "ipython",
    "version": 3
   },
   "file_extension": ".py",
   "mimetype": "text/x-python",
   "name": "python",
   "nbconvert_exporter": "python",
   "pygments_lexer": "ipython3",
   "version": "3.9.7"
  }
 },
 "nbformat": 4,
 "nbformat_minor": 5
}
