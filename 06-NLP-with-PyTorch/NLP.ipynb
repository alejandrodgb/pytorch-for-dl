{
  "cells": [
    {
      "cell_type": "markdown",
      "id": "15de4d48-e885-4e34-bfe7-988149ff567d",
      "metadata": {
        "id": "15de4d48-e885-4e34-bfe7-988149ff567d"
      },
      "source": [
        "# NLP\n",
        "\n",
        "- Networks do not understand raw text so all text has to be encoded.\n",
        "- Then it needs to be one-hot encoded"
      ]
    },
    {
      "cell_type": "markdown",
      "id": "78959278-9e24-43a3-bdbe-908518d127b9",
      "metadata": {
        "id": "78959278-9e24-43a3-bdbe-908518d127b9"
      },
      "source": [
        "# Libraries"
      ]
    },
    {
      "cell_type": "code",
      "execution_count": 29,
      "id": "8d80803e-49ee-4d37-808a-900844185c4f",
      "metadata": {
        "colab": {
          "base_uri": "https://localhost:8080/"
        },
        "id": "8d80803e-49ee-4d37-808a-900844185c4f",
        "outputId": "2116a0db-05b1-416d-9998-8229f50e0a17"
      },
      "outputs": [
        {
          "output_type": "stream",
          "name": "stdout",
          "text": [
            "Drive already mounted at /content/drive; to attempt to forcibly remount, call drive.mount(\"/content/drive\", force_remount=True).\n"
          ]
        }
      ],
      "source": [
        "import torch\n",
        "from torch import nn\n",
        "import torch.nn.functional as F\n",
        "\n",
        "from google.colab import drive\n",
        "drive.mount('/content/drive')\n",
        "\n",
        "import time\n",
        "import numpy as np\n",
        "import matplotlib.pyplot as plt\n",
        "%matplotlib inline"
      ]
    },
    {
      "cell_type": "code",
      "source": [
        "# GPU check\n",
        "torch.cuda.is_available()"
      ],
      "metadata": {
        "colab": {
          "base_uri": "https://localhost:8080/"
        },
        "id": "0aJ7rW2uqq1e",
        "outputId": "773b4e41-5d37-4eab-8a63-f937978e8945"
      },
      "id": "0aJ7rW2uqq1e",
      "execution_count": 30,
      "outputs": [
        {
          "output_type": "execute_result",
          "data": {
            "text/plain": [
              "True"
            ]
          },
          "metadata": {},
          "execution_count": 30
        }
      ]
    },
    {
      "cell_type": "markdown",
      "id": "ecff4b27-b535-43f5-90cd-5f9235e3a8c4",
      "metadata": {
        "id": "ecff4b27-b535-43f5-90cd-5f9235e3a8c4"
      },
      "source": [
        "# Data"
      ]
    },
    {
      "cell_type": "markdown",
      "id": "49f5253c-d293-4e24-b565-c03fb50ff7f0",
      "metadata": {
        "id": "49f5253c-d293-4e24-b565-c03fb50ff7f0"
      },
      "source": [
        "## Read data"
      ]
    },
    {
      "cell_type": "code",
      "execution_count": 31,
      "id": "bcaf992a-97b8-4393-98d1-3dcca4b9d685",
      "metadata": {
        "id": "bcaf992a-97b8-4393-98d1-3dcca4b9d685"
      },
      "outputs": [],
      "source": [
        "with open('/content/drive/MyDrive/AI Data/shakespeare.txt','r', encoding='utf8') as f:\n",
        "    text = f.read()"
      ]
    },
    {
      "cell_type": "code",
      "execution_count": 32,
      "id": "893be459-9459-40e2-9e03-47e164680c96",
      "metadata": {
        "colab": {
          "base_uri": "https://localhost:8080/"
        },
        "id": "893be459-9459-40e2-9e03-47e164680c96",
        "outputId": "ee88b7a9-0219-4924-e067-9d1fc39890c5"
      },
      "outputs": [
        {
          "output_type": "stream",
          "name": "stdout",
          "text": [
            "\n",
            "                     1\n",
            "  From fairest creatures we desire increase,\n",
            "  That thereby beauty's rose might never die,\n",
            "  But as the riper should by time decease,\n",
            "  His tender heir might bear his memory:\n",
            "  But thou contracted to thine own bright eyes,\n",
            "  Feed'st thy light's flame with self-substantial fuel,\n",
            "  Making a famine where abundance lies,\n",
            "  Thy self thy foe, to thy sweet self too cruel:\n",
            "  Thou that art now the world's fresh ornament,\n",
            "  And only herald to the gaudy spring,\n",
            "  Within thine own bud buriest thy content,\n",
            "  And tender churl mak'st waste in niggarding:\n",
            "    Pity the world, or else this glutton be,\n",
            "    To eat the world's due, by the grave and thee.\n",
            "\n",
            "\n",
            "                     2\n",
            "  When forty winters shall besiege thy brow,\n",
            "  And dig deep trenches in thy beauty's field,\n",
            "  Thy youth's proud livery so gazed on now,\n",
            "  Will be a tattered weed of small worth held:  \n",
            "  Then being asked, where all thy beauty lies,\n",
            "  Where all the treasure of thy lusty days;\n",
            "  To say within thine own deep su\n"
          ]
        }
      ],
      "source": [
        "print(text[:1000])"
      ]
    },
    {
      "cell_type": "markdown",
      "id": "0e4c08c5-8acf-4b5d-be92-bd7ad06068e5",
      "metadata": {
        "id": "0e4c08c5-8acf-4b5d-be92-bd7ad06068e5"
      },
      "source": [
        "## Encoding text\n",
        "\n",
        "We will create a set of all characters, assign an id to each character, and build two dictionaries one with id > text, another with text > id"
      ]
    },
    {
      "cell_type": "code",
      "execution_count": 33,
      "id": "694ed8d8-bcdf-46be-a08d-cca34b4aba29",
      "metadata": {
        "colab": {
          "base_uri": "https://localhost:8080/"
        },
        "id": "694ed8d8-bcdf-46be-a08d-cca34b4aba29",
        "outputId": "37a77eb1-689c-49e7-cc0a-00660f5aec55"
      },
      "outputs": [
        {
          "output_type": "execute_result",
          "data": {
            "text/plain": [
              "84"
            ]
          },
          "metadata": {},
          "execution_count": 33
        }
      ],
      "source": [
        "# Create a set of all unique characters in the text\n",
        "all_characters = set(text)\n",
        "len(all_characters)"
      ]
    },
    {
      "cell_type": "code",
      "execution_count": 34,
      "id": "528be15c-11c9-4c8d-88b6-0e129e647139",
      "metadata": {
        "tags": [],
        "colab": {
          "base_uri": "https://localhost:8080/"
        },
        "id": "528be15c-11c9-4c8d-88b6-0e129e647139",
        "outputId": "3790bda5-cea7-48ad-98d3-1f41a5f94705"
      },
      "outputs": [
        {
          "output_type": "execute_result",
          "data": {
            "text/plain": [
              "{0: 'b',\n",
              " 1: 'W',\n",
              " 2: 'z',\n",
              " 3: 'S',\n",
              " 4: 'r',\n",
              " 5: 'O',\n",
              " 6: 'K',\n",
              " 7: '1',\n",
              " 8: '3',\n",
              " 9: 'w',\n",
              " 10: 'u',\n",
              " 11: 'U',\n",
              " 12: '(',\n",
              " 13: ' ',\n",
              " 14: 'q',\n",
              " 15: 'I',\n",
              " 16: '8',\n",
              " 17: ':',\n",
              " 18: 'B',\n",
              " 19: 't',\n",
              " 20: 'd',\n",
              " 21: '}',\n",
              " 22: '>',\n",
              " 23: 'm',\n",
              " 24: 'y',\n",
              " 25: '&',\n",
              " 26: ';',\n",
              " 27: 'l',\n",
              " 28: '2',\n",
              " 29: 's',\n",
              " 30: \"'\",\n",
              " 31: 'M',\n",
              " 32: '5',\n",
              " 33: 'P',\n",
              " 34: 'C',\n",
              " 35: '9',\n",
              " 36: 'Q',\n",
              " 37: '.',\n",
              " 38: '_',\n",
              " 39: 'f',\n",
              " 40: 'A',\n",
              " 41: 'g',\n",
              " 42: 'k',\n",
              " 43: 'Y',\n",
              " 44: 'R',\n",
              " 45: 'e',\n",
              " 46: 'x',\n",
              " 47: 'X',\n",
              " 48: 'T',\n",
              " 49: ')',\n",
              " 50: '6',\n",
              " 51: '7',\n",
              " 52: 'n',\n",
              " 53: '?',\n",
              " 54: '\\n',\n",
              " 55: 'Z',\n",
              " 56: 'J',\n",
              " 57: '\"',\n",
              " 58: ']',\n",
              " 59: '!',\n",
              " 60: 'V',\n",
              " 61: 'c',\n",
              " 62: 'D',\n",
              " 63: '0',\n",
              " 64: 'N',\n",
              " 65: 'p',\n",
              " 66: 'j',\n",
              " 67: 'F',\n",
              " 68: 'h',\n",
              " 69: '4',\n",
              " 70: '<',\n",
              " 71: 'v',\n",
              " 72: '|',\n",
              " 73: 'G',\n",
              " 74: 'L',\n",
              " 75: '-',\n",
              " 76: '`',\n",
              " 77: 'a',\n",
              " 78: 'H',\n",
              " 79: 'o',\n",
              " 80: '[',\n",
              " 81: ',',\n",
              " 82: 'E',\n",
              " 83: 'i'}"
            ]
          },
          "metadata": {},
          "execution_count": 34
        }
      ],
      "source": [
        "# Create a decoder that reads the ID and returns the character.\n",
        "# Assign an ID to each character and save it in a dictionary\n",
        "decoder = dict(enumerate(all_characters))\n",
        "decoder"
      ]
    },
    {
      "cell_type": "code",
      "execution_count": 35,
      "id": "f88b71ac-ff0a-4431-852d-9ab7c583e014",
      "metadata": {
        "tags": [],
        "colab": {
          "base_uri": "https://localhost:8080/"
        },
        "id": "f88b71ac-ff0a-4431-852d-9ab7c583e014",
        "outputId": "223ccdfd-a460-4473-b097-d7f5ce4f71ce"
      },
      "outputs": [
        {
          "output_type": "execute_result",
          "data": {
            "text/plain": [
              "{'\\n': 54,\n",
              " ' ': 13,\n",
              " '!': 59,\n",
              " '\"': 57,\n",
              " '&': 25,\n",
              " \"'\": 30,\n",
              " '(': 12,\n",
              " ')': 49,\n",
              " ',': 81,\n",
              " '-': 75,\n",
              " '.': 37,\n",
              " '0': 63,\n",
              " '1': 7,\n",
              " '2': 28,\n",
              " '3': 8,\n",
              " '4': 69,\n",
              " '5': 32,\n",
              " '6': 50,\n",
              " '7': 51,\n",
              " '8': 16,\n",
              " '9': 35,\n",
              " ':': 17,\n",
              " ';': 26,\n",
              " '<': 70,\n",
              " '>': 22,\n",
              " '?': 53,\n",
              " 'A': 40,\n",
              " 'B': 18,\n",
              " 'C': 34,\n",
              " 'D': 62,\n",
              " 'E': 82,\n",
              " 'F': 67,\n",
              " 'G': 73,\n",
              " 'H': 78,\n",
              " 'I': 15,\n",
              " 'J': 56,\n",
              " 'K': 6,\n",
              " 'L': 74,\n",
              " 'M': 31,\n",
              " 'N': 64,\n",
              " 'O': 5,\n",
              " 'P': 33,\n",
              " 'Q': 36,\n",
              " 'R': 44,\n",
              " 'S': 3,\n",
              " 'T': 48,\n",
              " 'U': 11,\n",
              " 'V': 60,\n",
              " 'W': 1,\n",
              " 'X': 47,\n",
              " 'Y': 43,\n",
              " 'Z': 55,\n",
              " '[': 80,\n",
              " ']': 58,\n",
              " '_': 38,\n",
              " '`': 76,\n",
              " 'a': 77,\n",
              " 'b': 0,\n",
              " 'c': 61,\n",
              " 'd': 20,\n",
              " 'e': 45,\n",
              " 'f': 39,\n",
              " 'g': 41,\n",
              " 'h': 68,\n",
              " 'i': 83,\n",
              " 'j': 66,\n",
              " 'k': 42,\n",
              " 'l': 27,\n",
              " 'm': 23,\n",
              " 'n': 52,\n",
              " 'o': 79,\n",
              " 'p': 65,\n",
              " 'q': 14,\n",
              " 'r': 4,\n",
              " 's': 29,\n",
              " 't': 19,\n",
              " 'u': 10,\n",
              " 'v': 71,\n",
              " 'w': 9,\n",
              " 'x': 46,\n",
              " 'y': 24,\n",
              " 'z': 2,\n",
              " '|': 72,\n",
              " '}': 21}"
            ]
          },
          "metadata": {},
          "execution_count": 35
        }
      ],
      "source": [
        "# Create an encoder that reads the character and returns the ID.\n",
        "encoder = {char:ind for ind,char in decoder.items()}\n",
        "encoder"
      ]
    },
    {
      "cell_type": "code",
      "execution_count": 36,
      "id": "6c2b79e0-84e4-451b-ba68-d207398dfa72",
      "metadata": {
        "colab": {
          "base_uri": "https://localhost:8080/"
        },
        "id": "6c2b79e0-84e4-451b-ba68-d207398dfa72",
        "outputId": "dd552cb9-c7a4-4dda-80a1-6130cd44718c"
      },
      "outputs": [
        {
          "output_type": "execute_result",
          "data": {
            "text/plain": [
              "array([54, 13, 13, 13, 13, 13, 13, 13, 13, 13, 13, 13, 13, 13, 13, 13, 13,\n",
              "       13, 13, 13, 13, 13,  7, 54, 13, 13, 67,  4, 79, 23, 13, 39, 77, 83,\n",
              "        4, 45, 29, 19, 13, 61,  4, 45, 77, 19, 10,  4, 45, 29, 13,  9, 45,\n",
              "       13, 20, 45, 29, 83,  4, 45, 13, 83, 52, 61,  4, 45, 77, 29, 45, 81,\n",
              "       54, 13, 13, 48, 68, 77, 19, 13, 19, 68, 45,  4, 45,  0, 24, 13,  0,\n",
              "       45, 77, 10, 19, 24, 30, 29, 13,  4, 79, 29, 45, 13, 23, 83])"
            ]
          },
          "metadata": {},
          "execution_count": 36
        }
      ],
      "source": [
        "# Encode the text as a numpy array\n",
        "encoded_text = np.array([encoder[char] for char in text])\n",
        "encoded_text[:100]"
      ]
    },
    {
      "cell_type": "markdown",
      "id": "e99bf421-9391-4982-ab65-b3777530db83",
      "metadata": {
        "id": "e99bf421-9391-4982-ab65-b3777530db83"
      },
      "source": [
        "## One-hot encoding\n",
        "\n",
        "We will be creating a one-hot encoding matrix of all characters in the text."
      ]
    },
    {
      "cell_type": "code",
      "execution_count": 37,
      "id": "964111e5-a50c-479a-bbed-ab8b143f0092",
      "metadata": {
        "id": "964111e5-a50c-479a-bbed-ab8b143f0092"
      },
      "outputs": [],
      "source": [
        "def one_hot_encoder(encoded_text, num_uni_chars):\n",
        "    '''\n",
        "    Returns a one-hot encoded matrix of shape (encoded_text.size, unique_characters)\n",
        "    Parameters\n",
        "    ----------\n",
        "    - encoded_text [np.array]: batch of encoded text\n",
        "    - num_uni_chars [int]: number of unique characters in the text\n",
        "    '''\n",
        "    \n",
        "    # Create a matrix of zeros\n",
        "    one_hot = np.zeros((encoded_text.size,num_uni_chars))\n",
        "    \n",
        "    # Convert the matrix to Float32 to ensure Torch compatibility\n",
        "    one_hot = one_hot.astype(np.float32)\n",
        "    \n",
        "    # One-hot encode original matrix\n",
        "    one_hot[np.arange(one_hot.shape[0]),encoded_text.flatten()] = 1.0\n",
        "    \n",
        "    # Reshape to match the batch size. \n",
        "    one_hot = one_hot.reshape((*encoded_text.shape,num_uni_chars))\n",
        "    \n",
        "    return one_hot\n",
        "    "
      ]
    },
    {
      "cell_type": "code",
      "execution_count": 38,
      "id": "d07108fc-0fba-417d-a9d3-837c8c90477e",
      "metadata": {
        "colab": {
          "base_uri": "https://localhost:8080/"
        },
        "id": "d07108fc-0fba-417d-a9d3-837c8c90477e",
        "outputId": "2573f960-397d-4850-9661-e065442d4261"
      },
      "outputs": [
        {
          "output_type": "execute_result",
          "data": {
            "text/plain": [
              "array([[1., 0., 0., 0.],\n",
              "       [0., 0., 1., 0.],\n",
              "       [0., 0., 1., 0.],\n",
              "       [0., 0., 0., 1.],\n",
              "       [0., 1., 0., 0.]], dtype=float32)"
            ]
          },
          "metadata": {},
          "execution_count": 38
        }
      ],
      "source": [
        "# Sample\n",
        "one_hot_encoder(np.array([0,2,2,3,1]),4)"
      ]
    },
    {
      "cell_type": "markdown",
      "id": "0ce237b6-e749-4850-8525-e8742ef30045",
      "metadata": {
        "id": "0ce237b6-e749-4850-8525-e8742ef30045"
      },
      "source": [
        "## Training batches\n",
        "\n",
        "The training batches target data will be the data shifted by one position. Instead of providing only the next letter, the entire context will be provided. This will allow the network to learn the gramatical rules, not just the most probable letter."
      ]
    },
    {
      "cell_type": "code",
      "execution_count": 39,
      "id": "356a5b4f-1b81-450b-9eac-2c1b57beb6f9",
      "metadata": {
        "colab": {
          "base_uri": "https://localhost:8080/"
        },
        "id": "356a5b4f-1b81-450b-9eac-2c1b57beb6f9",
        "outputId": "f57ee060-8391-4d27-9833-2e81c5f253f3"
      },
      "outputs": [
        {
          "output_type": "stream",
          "name": "stdout",
          "text": [
            "X = ['H', 'e', 'l', 'l', 'o', ' ', 't', 'h', 'e', 'r']\n",
            "y = ['e', 'l', 'l', 'o', ' ', 't', 'h', 'e', 'r', 'e']\n"
          ]
        }
      ],
      "source": [
        "# Sample\n",
        "t = [c for c in 'Hello there']\n",
        "print(f'X = {t[:-1]}')\n",
        "print(f'y = {t[1:]}')"
      ]
    },
    {
      "cell_type": "markdown",
      "id": "a7b689b2-e9bc-4fe3-9c9e-0684f18ee9bd",
      "metadata": {
        "id": "a7b689b2-e9bc-4fe3-9c9e-0684f18ee9bd"
      },
      "source": [
        "We need to create a batch generator that will reshape the data to be of shape (batches, elements per batch)"
      ]
    },
    {
      "cell_type": "code",
      "execution_count": 40,
      "id": "c639cee4-e967-4949-9209-2165e7325168",
      "metadata": {
        "colab": {
          "base_uri": "https://localhost:8080/"
        },
        "id": "c639cee4-e967-4949-9209-2165e7325168",
        "outputId": "24a4560d-174d-4310-bd70-df638a3ab149"
      },
      "outputs": [
        {
          "output_type": "stream",
          "name": "stdout",
          "text": [
            "Original text = [ 0  1  2  3  4  5  6  7  8  9 10 11 12 13 14 15 16 17 18 19 20 21 22 23\n",
            " 24 25 26 27 28 29 30 31 32 33 34 35 36 37 38 39 40 41 42 43 44 45 46 47\n",
            " 48 49 50 51 52 53 54 55 56 57 58 59 60 61 62 63 64 65 66 67 68 69 70 71\n",
            " 72 73 74 75 76 77 78 79 80 81 82 83 84 85 86 87 88 89 90 91 92 93 94 95\n",
            " 96 97 98 99]\n",
            "\n",
            "Transformed to 5 batches = \n",
            "[[ 0  1  2  3  4  5  6  7  8  9]\n",
            " [10 11 12 13 14 15 16 17 18 19]\n",
            " [20 21 22 23 24 25 26 27 28 29]\n",
            " [30 31 32 33 34 35 36 37 38 39]\n",
            " [40 41 42 43 44 45 46 47 48 49]\n",
            " [50 51 52 53 54 55 56 57 58 59]\n",
            " [60 61 62 63 64 65 66 67 68 69]\n",
            " [70 71 72 73 74 75 76 77 78 79]\n",
            " [80 81 82 83 84 85 86 87 88 89]\n",
            " [90 91 92 93 94 95 96 97 98 99]]\n"
          ]
        }
      ],
      "source": [
        "# Example\n",
        "sample_text = np.arange(100)\n",
        "print(f'Original text = {sample_text}')\n",
        "print(f'\\nTransformed to 5 batches = \\n{sample_text.reshape(10,-1)}')"
      ]
    },
    {
      "cell_type": "code",
      "execution_count": 41,
      "id": "1cfc2729-f523-49d1-9868-f62da6338ba1",
      "metadata": {
        "id": "1cfc2729-f523-49d1-9868-f62da6338ba1"
      },
      "outputs": [],
      "source": [
        "def generate_batches(encoded_text, samp_per_batch=10, seq_len=50):\n",
        "    '''\n",
        "    Generator object to create training batches as requested.\n",
        "    Parameters\n",
        "    ----------\n",
        "    - encoded_text [np.array]: encoded text to be batched\n",
        "    - samp_per_batch [int]: samples per batch that will be created\n",
        "    - seq_len [int]: number of characters to include in each sample\n",
        "    \n",
        "    Output\n",
        "    -------\n",
        "    X [np.array]: encoded text of length seq_len\n",
        "    y [np.array]: X shifted by one position to the right\n",
        "    '''\n",
        "    \n",
        "    # Calculate total number of characters per batch\n",
        "    chars_per_batch = samp_per_batch * seq_len\n",
        "    \n",
        "    # Calculate the total number of batches that can be made\n",
        "    num_batches = int(len(encoded_text)/chars_per_batch)\n",
        "    \n",
        "    # Remove extra characters that won't fit into a batch\n",
        "    encoded_text = encoded_text[:num_batches*chars_per_batch]\n",
        "    \n",
        "    # Reshape encoded text\n",
        "    encoded_text = encoded_text.reshape((samp_per_batch,-1))\n",
        "    \n",
        "    # Generate sequences\n",
        "    for i in range(0,encoded_text.shape[1],seq_len):\n",
        "        \n",
        "        X = encoded_text[:,i:i+seq_len]\n",
        "        y = np.zeros_like(X)\n",
        "        \n",
        "        # Insert in y the x values shifted by one place. X is one position smaller than y\n",
        "        y[:,:-1] = X[:,1:] \n",
        "        \n",
        "        # Code block to handle last row in the data\n",
        "        try:\n",
        "            # Insert the following value. This is different to i:i+seq_len as i:i+seq_len \n",
        "            # will not include i+seq_len item. i+seq_len will only include that item\n",
        "            y[:,-1] = encoded_text[:i+seq_len] \n",
        "        except:\n",
        "            # Insert the first value instead of the last value\n",
        "            y[:, -1] = encoded_text[:, 0]\n",
        "            \n",
        "        yield X,y"
      ]
    },
    {
      "cell_type": "code",
      "execution_count": 42,
      "id": "446e4269-3b29-4976-a3e4-e5f2e166bd48",
      "metadata": {
        "colab": {
          "base_uri": "https://localhost:8080/"
        },
        "id": "446e4269-3b29-4976-a3e4-e5f2e166bd48",
        "outputId": "9ccbd260-6062-4aac-ddca-5164a03b549b"
      },
      "outputs": [
        {
          "output_type": "execute_result",
          "data": {
            "text/plain": [
              "(array([ 0,  1,  2,  3,  4,  5,  6,  7,  8,  9, 10, 11, 12, 13, 14, 15, 16,\n",
              "        17, 18, 19, 20, 21, 22, 23, 24, 25, 26, 27, 28, 29, 30, 31, 32, 33,\n",
              "        34, 35, 36, 37, 38, 39, 40, 41, 42, 43, 44, 45, 46, 47, 48, 49]),\n",
              " array([ 1,  2,  3,  4,  5,  6,  7,  8,  9, 10, 11, 12, 13, 14, 15, 16, 17,\n",
              "        18, 19, 20, 21, 22, 23, 24, 25, 26, 27, 28, 29, 30, 31, 32, 33, 34,\n",
              "        35, 36, 37, 38, 39, 40, 41, 42, 43, 44, 45, 46, 47, 48, 49,  0]))"
            ]
          },
          "metadata": {},
          "execution_count": 42
        }
      ],
      "source": [
        "# Test sample text\n",
        "test = np.arange(1000)\n",
        "test_batches = generate_batches(test)\n",
        "tx, ty = next(test_batches)\n",
        "\n",
        "tx[0], ty[0]"
      ]
    },
    {
      "cell_type": "markdown",
      "source": [
        "## Train/test split"
      ],
      "metadata": {
        "id": "PnHtRsMnyAbW"
      },
      "id": "PnHtRsMnyAbW"
    },
    {
      "cell_type": "code",
      "source": [
        "# Split data into trianing and testing sets\n",
        "train_pct = 0.9\n",
        "train_idx = int(len(encoded_text)*train_pct)\n",
        "train_data = encoded_text[:train_idx]\n",
        "test_data = encoded_text[train_idx:]"
      ],
      "metadata": {
        "id": "Mjj-nMHiyEKS"
      },
      "id": "Mjj-nMHiyEKS",
      "execution_count": 43,
      "outputs": []
    },
    {
      "cell_type": "markdown",
      "source": [
        "# Define LSTM model"
      ],
      "metadata": {
        "id": "HXQio5lxrlpC"
      },
      "id": "HXQio5lxrlpC"
    },
    {
      "cell_type": "code",
      "source": [
        "class CharModel(nn.Module):\n",
        "\n",
        "  def __init__(self,all_chars,num_hidden=256,num_layers=4,drop_prob=0.5,use_gpu=False):\n",
        "\n",
        "    # Instantiate nn.Module\n",
        "    super().__init__()\n",
        "\n",
        "    # Set model parameters\n",
        "    self.drop_prob = drop_prob\n",
        "    self.num_layers = num_layers\n",
        "    self.num_hidden = num_hidden\n",
        "    self.use_gpu = use_gpu\n",
        "\n",
        "    # Create encoder and decoder\n",
        "    self.all_chars = all_chars\n",
        "    self.decoder = dict(enumerate(set(all_chars)))\n",
        "    self.encoder = {char:idx for idx,char in decoder.items()}\n",
        "\n",
        "    # Define the layers\n",
        "    self.lstm = nn.LSTM(len(self.all_chars),self.num_hidden,self.num_layers,\n",
        "                        dropout=self.drop_prob,batch_first=True)\n",
        "    self.dropout = nn.Dropout(self.drop_prob)\n",
        "    self.fc_linear = nn.Linear(self.num_hidden,len(self.all_chars))\n",
        "\n",
        "  def forward(self,x,hidden):\n",
        "    lstm_out, self.hidden = self.lstm(x,hidden)\n",
        "    drop_output = self.dropout(lstm_out)\n",
        "    drop_output = drop_output.contiguous().view(-1,self.num_hidden)\n",
        "    final_out = self.fc_linear(drop_output)\n",
        "\n",
        "    return final_out,hidden\n",
        "\n",
        "  def hidden_state(self,batch_size):\n",
        "    if self.use_gpu:\n",
        "      hidden = (torch.zeros(self.num_layers,batch_size,self.num_hidden).cuda(),\n",
        "                torch.zeros(self.num_layers,batch_size,self.num_hidden).cuda())\n",
        "    else:\n",
        "      hidden = (torch.zeros(self.num_layers,batch_size,self.num_hidden),\n",
        "                torch.zeros(self.num_layers,batch_size,self.num_hidden))\n",
        "      \n",
        "    return hidden\n"
      ],
      "metadata": {
        "id": "g5_MUipQrkzQ"
      },
      "id": "g5_MUipQrkzQ",
      "execution_count": 44,
      "outputs": []
    },
    {
      "cell_type": "code",
      "source": [
        "model = CharModel(all_chars=all_characters,num_hidden=512,\n",
        "                   num_layers=3,drop_prob=0.5,use_gpu=True)"
      ],
      "metadata": {
        "id": "EeDsF7f2wuCN"
      },
      "id": "EeDsF7f2wuCN",
      "execution_count": 45,
      "outputs": []
    },
    {
      "cell_type": "code",
      "source": [
        "total_param = [p.numel() for p in model.parameters()]\n",
        "print(f'{sum(total_param):,}')"
      ],
      "metadata": {
        "colab": {
          "base_uri": "https://localhost:8080/"
        },
        "id": "RMcXpsNRw9y4",
        "outputId": "321f924b-7324-44c1-cbc8-6a7897700e08"
      },
      "id": "RMcXpsNRw9y4",
      "execution_count": 46,
      "outputs": [
        {
          "output_type": "stream",
          "name": "stdout",
          "text": [
            "5,470,292\n"
          ]
        }
      ]
    },
    {
      "cell_type": "markdown",
      "source": [
        "## Optimiser and Loss"
      ],
      "metadata": {
        "id": "VQbLaLSBxf9o"
      },
      "id": "VQbLaLSBxf9o"
    },
    {
      "cell_type": "code",
      "source": [
        "optimiser = torch.optim.Adam(model.parameters(),lr=0.001)\n",
        "criterion = nn.CrossEntropyLoss()"
      ],
      "metadata": {
        "id": "wz4ENYbSxiEt"
      },
      "id": "wz4ENYbSxiEt",
      "execution_count": 47,
      "outputs": []
    },
    {
      "cell_type": "markdown",
      "source": [
        "# Training the model"
      ],
      "metadata": {
        "id": "Z__PnjR6ybUL"
      },
      "id": "Z__PnjR6ybUL"
    },
    {
      "cell_type": "code",
      "source": [
        "# Set training variables\n",
        "epochs = 30\n",
        "batch_size = 128\n",
        "seq_len = 100\n",
        "tracker = 0\n",
        "num_char = max(encoded_text)+1"
      ],
      "metadata": {
        "id": "khXZpD5TxxOa"
      },
      "id": "khXZpD5TxxOa",
      "execution_count": 48,
      "outputs": []
    },
    {
      "cell_type": "code",
      "source": [
        ""
      ],
      "metadata": {
        "id": "p-X3eRvVN06D"
      },
      "id": "p-X3eRvVN06D",
      "execution_count": 48,
      "outputs": []
    },
    {
      "cell_type": "code",
      "source": [
        "\n",
        "start_time = time.time()\n",
        "\n",
        "model.train()\n",
        "\n",
        "# Use CUDA if GPU available\n",
        "if model.use_gpu:\n",
        "    model.cuda()\n",
        "\n",
        "for i in range(epochs):\n",
        "    e_start = time.time()\n",
        "\n",
        "    # Initialise hidden states\n",
        "    hidden = model.hidden_state(batch_size)\n",
        "\n",
        "    # Train on batches\n",
        "    for x,y in generate_batches(train_data, batch_size, seq_len):\n",
        "        \n",
        "        tracker +=1\n",
        "        \n",
        "        # Create one-hot encoded matrix of input\n",
        "        x = one_hot_encoder(x, num_char)\n",
        "\n",
        "        # Create tensors from numpy arrays\n",
        "        inputs = torch.from_numpy(x)\n",
        "        targets = torch.from_numpy(y)\n",
        "\n",
        "        # Drop to GPU if use_gpu is true\n",
        "        if model.use_gpu:\n",
        "            inputs = inputs.cuda()\n",
        "            targets = targets.cuda()\n",
        "\n",
        "        ##################\n",
        "        #### Training ####\n",
        "        ##################\n",
        "\n",
        "        # Reset the hidden states to avoid them backpropagating through the entire\n",
        "        # training history. \n",
        "        hidden = tuple([state.data for state in hidden])\n",
        "\n",
        "        model.zero_grad()\n",
        "\n",
        "        # Crete predictions\n",
        "        lstm_out, hidden = model(inputs, hidden)\n",
        "        \n",
        "        # Calculate loss\n",
        "        loss = criterion(lstm_out, targets.view(batch_size*seq_len).long())\n",
        "        # Backpropagate\n",
        "        loss.backward()\n",
        "\n",
        "        # Clip gradients to avoid an exploding gradient problem\n",
        "        nn.utils.clip_grad_norm_(model.parameters(),max_norm=5)\n",
        "\n",
        "        # Iterate optimiser over all parameters\n",
        "        optimiser.step()\n",
        "\n",
        "        ####################\n",
        "        #### Validation ####\n",
        "        ####################\n",
        "\n",
        "        if tracker % 25==0:\n",
        "        \n",
        "            # Initialise validation hidden states\n",
        "            val_hidden = model.hidden_state(batch_size)\n",
        "\n",
        "            # List to save loss\n",
        "            val_losses = []\n",
        "\n",
        "            # Set the model on evaluation mode\n",
        "            model.eval()\n",
        "\n",
        "            for x,y in generate_batches(test_data, batch_size, seq_len):\n",
        "                \n",
        "                # Create one-hot encoded matrix of input\n",
        "                x = one_hot_encoder(x, num_char)\n",
        "\n",
        "                # Create tensors from numpy arrays\n",
        "                inputs = torch.from_numpy(x)\n",
        "                targets = torch.from_numpy(y)\n",
        "\n",
        "                # Drop to GPU if use_gpu is true\n",
        "                if model.use_gpu:\n",
        "                    inputs = inputs.cuda()\n",
        "                    targets = targets.cuda()\n",
        "\n",
        "                # Reset the hidden states to avoid them backpropagating through the entire\n",
        "                # training history. \n",
        "                val_hidden = tuple([state.data for state in val_hidden])\n",
        "\n",
        "                # Crete predictions\n",
        "                lstm_out, val_hidden = model.forward(inputs, val_hidden)\n",
        "                \n",
        "                # Calculate loss\n",
        "                val_loss = criterion(lstm_out, targets.view(batch_size*seq_len).long())\n",
        "                val_losses.append(val_loss.item())\n",
        "\n",
        "            # Set the model to train after validation loop\n",
        "            model.train()\n",
        "            \n",
        "            \n",
        "            print(f\"  Epoch: {i:3} Step: {tracker:5} Val Loss: {val_loss.item():8.5f}\")\n",
        "        \n",
        "        \n",
        "    e_time = time.time()-e_start\n",
        "    print(f'Epoch time: {e_time/60:6.2f} mins')\n",
        "\n",
        "print(f'Total raining time: {(time.time()-start_time)/60:.2f} mins')"
      ],
      "metadata": {
        "id": "j6lGlCu4yqDr",
        "colab": {
          "base_uri": "https://localhost:8080/"
        },
        "outputId": "65251fa3-af62-40ea-f04c-789f776b4042"
      },
      "id": "j6lGlCu4yqDr",
      "execution_count": 49,
      "outputs": [
        {
          "output_type": "stream",
          "name": "stdout",
          "text": [
            "  Epoch:   0 Step:    25 Val Loss:  3.23252\n",
            "  Epoch:   0 Step:    50 Val Loss:  3.20870\n",
            "  Epoch:   0 Step:    75 Val Loss:  3.12234\n",
            "  Epoch:   0 Step:   100 Val Loss:  2.98546\n",
            "  Epoch:   0 Step:   125 Val Loss:  2.86142\n",
            "  Epoch:   0 Step:   150 Val Loss:  2.72349\n",
            "  Epoch:   0 Step:   175 Val Loss:  2.62888\n",
            "  Epoch:   0 Step:   200 Val Loss:  2.51757\n",
            "  Epoch:   0 Step:   225 Val Loss:  2.42917\n",
            "  Epoch:   0 Step:   250 Val Loss:  2.32737\n",
            "  Epoch:   0 Step:   275 Val Loss:  2.25077\n",
            "  Epoch:   0 Step:   300 Val Loss:  2.18820\n",
            "  Epoch:   0 Step:   325 Val Loss:  2.14476\n",
            "  Epoch:   0 Step:   350 Val Loss:  2.10032\n",
            "  Epoch:   0 Step:   375 Val Loss:  2.06626\n",
            "Epoch time:   1.55 mins\n",
            "  Epoch:   1 Step:   400 Val Loss:  2.03354\n",
            "  Epoch:   1 Step:   425 Val Loss:  2.00178\n",
            "  Epoch:   1 Step:   450 Val Loss:  1.97744\n",
            "  Epoch:   1 Step:   475 Val Loss:  1.95133\n",
            "  Epoch:   1 Step:   500 Val Loss:  1.92804\n",
            "  Epoch:   1 Step:   525 Val Loss:  1.90435\n",
            "  Epoch:   1 Step:   550 Val Loss:  1.88424\n",
            "  Epoch:   1 Step:   575 Val Loss:  1.86605\n",
            "  Epoch:   1 Step:   600 Val Loss:  1.83899\n",
            "  Epoch:   1 Step:   625 Val Loss:  1.82316\n",
            "  Epoch:   1 Step:   650 Val Loss:  1.81249\n",
            "  Epoch:   1 Step:   675 Val Loss:  1.78790\n",
            "  Epoch:   1 Step:   700 Val Loss:  1.76922\n",
            "  Epoch:   1 Step:   725 Val Loss:  1.75888\n",
            "  Epoch:   1 Step:   750 Val Loss:  1.74111\n",
            "Epoch time:   1.72 mins\n",
            "  Epoch:   2 Step:   775 Val Loss:  1.72969\n",
            "  Epoch:   2 Step:   800 Val Loss:  1.71317\n",
            "  Epoch:   2 Step:   825 Val Loss:  1.69801\n",
            "  Epoch:   2 Step:   850 Val Loss:  1.68593\n",
            "  Epoch:   2 Step:   875 Val Loss:  1.67591\n",
            "  Epoch:   2 Step:   900 Val Loss:  1.66395\n",
            "  Epoch:   2 Step:   925 Val Loss:  1.65107\n",
            "  Epoch:   2 Step:   950 Val Loss:  1.64002\n",
            "  Epoch:   2 Step:   975 Val Loss:  1.62813\n",
            "  Epoch:   2 Step:  1000 Val Loss:  1.62284\n",
            "  Epoch:   2 Step:  1025 Val Loss:  1.61248\n",
            "  Epoch:   2 Step:  1050 Val Loss:  1.60414\n",
            "  Epoch:   2 Step:  1075 Val Loss:  1.59697\n",
            "  Epoch:   2 Step:  1100 Val Loss:  1.58625\n",
            "  Epoch:   2 Step:  1125 Val Loss:  1.58388\n",
            "Epoch time:   1.83 mins\n",
            "  Epoch:   3 Step:  1150 Val Loss:  1.57644\n",
            "  Epoch:   3 Step:  1175 Val Loss:  1.57357\n",
            "  Epoch:   3 Step:  1200 Val Loss:  1.56746\n",
            "  Epoch:   3 Step:  1225 Val Loss:  1.55844\n",
            "  Epoch:   3 Step:  1250 Val Loss:  1.55404\n",
            "  Epoch:   3 Step:  1275 Val Loss:  1.54750\n",
            "  Epoch:   3 Step:  1300 Val Loss:  1.54523\n",
            "  Epoch:   3 Step:  1325 Val Loss:  1.53567\n",
            "  Epoch:   3 Step:  1350 Val Loss:  1.53034\n",
            "  Epoch:   3 Step:  1375 Val Loss:  1.52748\n",
            "  Epoch:   3 Step:  1400 Val Loss:  1.52067\n",
            "  Epoch:   3 Step:  1425 Val Loss:  1.51874\n",
            "  Epoch:   3 Step:  1450 Val Loss:  1.51368\n",
            "  Epoch:   3 Step:  1475 Val Loss:  1.51095\n",
            "  Epoch:   3 Step:  1500 Val Loss:  1.51040\n",
            "  Epoch:   3 Step:  1525 Val Loss:  1.50697\n",
            "Epoch time:   1.90 mins\n",
            "  Epoch:   4 Step:  1550 Val Loss:  1.49980\n",
            "  Epoch:   4 Step:  1575 Val Loss:  1.49869\n",
            "  Epoch:   4 Step:  1600 Val Loss:  1.49257\n",
            "  Epoch:   4 Step:  1625 Val Loss:  1.49079\n",
            "  Epoch:   4 Step:  1650 Val Loss:  1.48717\n",
            "  Epoch:   4 Step:  1675 Val Loss:  1.48152\n",
            "  Epoch:   4 Step:  1700 Val Loss:  1.47707\n",
            "  Epoch:   4 Step:  1725 Val Loss:  1.47546\n",
            "  Epoch:   4 Step:  1750 Val Loss:  1.47035\n",
            "  Epoch:   4 Step:  1775 Val Loss:  1.47039\n",
            "  Epoch:   4 Step:  1800 Val Loss:  1.46924\n",
            "  Epoch:   4 Step:  1825 Val Loss:  1.46346\n",
            "  Epoch:   4 Step:  1850 Val Loss:  1.46413\n",
            "  Epoch:   4 Step:  1875 Val Loss:  1.46096\n",
            "  Epoch:   4 Step:  1900 Val Loss:  1.45855\n",
            "Epoch time:   1.86 mins\n",
            "  Epoch:   5 Step:  1925 Val Loss:  1.45935\n",
            "  Epoch:   5 Step:  1950 Val Loss:  1.45484\n",
            "  Epoch:   5 Step:  1975 Val Loss:  1.45707\n",
            "  Epoch:   5 Step:  2000 Val Loss:  1.44942\n",
            "  Epoch:   5 Step:  2025 Val Loss:  1.44552\n",
            "  Epoch:   5 Step:  2050 Val Loss:  1.44582\n",
            "  Epoch:   5 Step:  2075 Val Loss:  1.44191\n",
            "  Epoch:   5 Step:  2100 Val Loss:  1.43958\n",
            "  Epoch:   5 Step:  2125 Val Loss:  1.43693\n",
            "  Epoch:   5 Step:  2150 Val Loss:  1.43472\n",
            "  Epoch:   5 Step:  2175 Val Loss:  1.43532\n",
            "  Epoch:   5 Step:  2200 Val Loss:  1.43733\n",
            "  Epoch:   5 Step:  2225 Val Loss:  1.43257\n",
            "  Epoch:   5 Step:  2250 Val Loss:  1.43028\n",
            "  Epoch:   5 Step:  2275 Val Loss:  1.43096\n",
            "Epoch time:   1.86 mins\n",
            "  Epoch:   6 Step:  2300 Val Loss:  1.42794\n",
            "  Epoch:   6 Step:  2325 Val Loss:  1.43096\n",
            "  Epoch:   6 Step:  2350 Val Loss:  1.42676\n",
            "  Epoch:   6 Step:  2375 Val Loss:  1.42052\n",
            "  Epoch:   6 Step:  2400 Val Loss:  1.42168\n",
            "  Epoch:   6 Step:  2425 Val Loss:  1.41830\n",
            "  Epoch:   6 Step:  2450 Val Loss:  1.41938\n",
            "  Epoch:   6 Step:  2475 Val Loss:  1.41349\n",
            "  Epoch:   6 Step:  2500 Val Loss:  1.41569\n",
            "  Epoch:   6 Step:  2525 Val Loss:  1.41349\n",
            "  Epoch:   6 Step:  2550 Val Loss:  1.41430\n",
            "  Epoch:   6 Step:  2575 Val Loss:  1.41679\n",
            "  Epoch:   6 Step:  2600 Val Loss:  1.41451\n",
            "  Epoch:   6 Step:  2625 Val Loss:  1.41330\n",
            "  Epoch:   6 Step:  2650 Val Loss:  1.41372\n",
            "Epoch time:   1.85 mins\n",
            "  Epoch:   7 Step:  2675 Val Loss:  1.41055\n",
            "  Epoch:   7 Step:  2700 Val Loss:  1.40722\n",
            "  Epoch:   7 Step:  2725 Val Loss:  1.40706\n",
            "  Epoch:   7 Step:  2750 Val Loss:  1.40124\n",
            "  Epoch:   7 Step:  2775 Val Loss:  1.39781\n",
            "  Epoch:   7 Step:  2800 Val Loss:  1.39569\n",
            "  Epoch:   7 Step:  2825 Val Loss:  1.39821\n",
            "  Epoch:   7 Step:  2850 Val Loss:  1.39536\n",
            "  Epoch:   7 Step:  2875 Val Loss:  1.39806\n",
            "  Epoch:   7 Step:  2900 Val Loss:  1.39646\n",
            "  Epoch:   7 Step:  2925 Val Loss:  1.39125\n",
            "  Epoch:   7 Step:  2950 Val Loss:  1.39229\n",
            "  Epoch:   7 Step:  2975 Val Loss:  1.39361\n",
            "  Epoch:   7 Step:  3000 Val Loss:  1.39014\n",
            "  Epoch:   7 Step:  3025 Val Loss:  1.39478\n",
            "  Epoch:   7 Step:  3050 Val Loss:  1.39249\n",
            "Epoch time:   1.90 mins\n",
            "  Epoch:   8 Step:  3075 Val Loss:  1.39180\n",
            "  Epoch:   8 Step:  3100 Val Loss:  1.39093\n",
            "  Epoch:   8 Step:  3125 Val Loss:  1.38491\n",
            "  Epoch:   8 Step:  3150 Val Loss:  1.38283\n",
            "  Epoch:   8 Step:  3175 Val Loss:  1.38361\n",
            "  Epoch:   8 Step:  3200 Val Loss:  1.38653\n",
            "  Epoch:   8 Step:  3225 Val Loss:  1.38128\n",
            "  Epoch:   8 Step:  3250 Val Loss:  1.38473\n",
            "  Epoch:   8 Step:  3275 Val Loss:  1.38181\n",
            "  Epoch:   8 Step:  3300 Val Loss:  1.37888\n",
            "  Epoch:   8 Step:  3325 Val Loss:  1.37906\n",
            "  Epoch:   8 Step:  3350 Val Loss:  1.38087\n",
            "  Epoch:   8 Step:  3375 Val Loss:  1.37499\n",
            "  Epoch:   8 Step:  3400 Val Loss:  1.37680\n",
            "  Epoch:   8 Step:  3425 Val Loss:  1.37723\n",
            "Epoch time:   1.86 mins\n",
            "  Epoch:   9 Step:  3450 Val Loss:  1.37595\n",
            "  Epoch:   9 Step:  3475 Val Loss:  1.37535\n",
            "  Epoch:   9 Step:  3500 Val Loss:  1.37330\n",
            "  Epoch:   9 Step:  3525 Val Loss:  1.36592\n",
            "  Epoch:   9 Step:  3550 Val Loss:  1.36807\n",
            "  Epoch:   9 Step:  3575 Val Loss:  1.37044\n",
            "  Epoch:   9 Step:  3600 Val Loss:  1.36869\n",
            "  Epoch:   9 Step:  3625 Val Loss:  1.36723\n",
            "  Epoch:   9 Step:  3650 Val Loss:  1.36940\n",
            "  Epoch:   9 Step:  3675 Val Loss:  1.36685\n",
            "  Epoch:   9 Step:  3700 Val Loss:  1.36577\n",
            "  Epoch:   9 Step:  3725 Val Loss:  1.36951\n",
            "  Epoch:   9 Step:  3750 Val Loss:  1.36492\n",
            "  Epoch:   9 Step:  3775 Val Loss:  1.36256\n",
            "  Epoch:   9 Step:  3800 Val Loss:  1.36517\n",
            "Epoch time:   1.88 mins\n",
            "  Epoch:  10 Step:  3825 Val Loss:  1.36415\n",
            "  Epoch:  10 Step:  3850 Val Loss:  1.36370\n",
            "  Epoch:  10 Step:  3875 Val Loss:  1.36462\n",
            "  Epoch:  10 Step:  3900 Val Loss:  1.35845\n",
            "  Epoch:  10 Step:  3925 Val Loss:  1.35871\n",
            "  Epoch:  10 Step:  3950 Val Loss:  1.35783\n",
            "  Epoch:  10 Step:  3975 Val Loss:  1.35696\n",
            "  Epoch:  10 Step:  4000 Val Loss:  1.35878\n",
            "  Epoch:  10 Step:  4025 Val Loss:  1.35782\n",
            "  Epoch:  10 Step:  4050 Val Loss:  1.35682\n",
            "  Epoch:  10 Step:  4075 Val Loss:  1.35614\n",
            "  Epoch:  10 Step:  4100 Val Loss:  1.35507\n",
            "  Epoch:  10 Step:  4125 Val Loss:  1.35527\n",
            "  Epoch:  10 Step:  4150 Val Loss:  1.35739\n",
            "  Epoch:  10 Step:  4175 Val Loss:  1.35521\n",
            "  Epoch:  10 Step:  4200 Val Loss:  1.35678\n",
            "Epoch time:   1.91 mins\n",
            "  Epoch:  11 Step:  4225 Val Loss:  1.35798\n",
            "  Epoch:  11 Step:  4250 Val Loss:  1.35381\n",
            "  Epoch:  11 Step:  4275 Val Loss:  1.35084\n",
            "  Epoch:  11 Step:  4300 Val Loss:  1.35084\n",
            "  Epoch:  11 Step:  4325 Val Loss:  1.34950\n",
            "  Epoch:  11 Step:  4350 Val Loss:  1.35073\n",
            "  Epoch:  11 Step:  4375 Val Loss:  1.34988\n",
            "  Epoch:  11 Step:  4400 Val Loss:  1.35159\n",
            "  Epoch:  11 Step:  4425 Val Loss:  1.34753\n",
            "  Epoch:  11 Step:  4450 Val Loss:  1.34798\n",
            "  Epoch:  11 Step:  4475 Val Loss:  1.34810\n",
            "  Epoch:  11 Step:  4500 Val Loss:  1.34669\n",
            "  Epoch:  11 Step:  4525 Val Loss:  1.34888\n",
            "  Epoch:  11 Step:  4550 Val Loss:  1.34608\n",
            "  Epoch:  11 Step:  4575 Val Loss:  1.34691\n",
            "Epoch time:   1.87 mins\n",
            "  Epoch:  12 Step:  4600 Val Loss:  1.34887\n",
            "  Epoch:  12 Step:  4625 Val Loss:  1.34870\n",
            "  Epoch:  12 Step:  4650 Val Loss:  1.34555\n",
            "  Epoch:  12 Step:  4675 Val Loss:  1.34350\n",
            "  Epoch:  12 Step:  4700 Val Loss:  1.34085\n",
            "  Epoch:  12 Step:  4725 Val Loss:  1.34296\n",
            "  Epoch:  12 Step:  4750 Val Loss:  1.34200\n",
            "  Epoch:  12 Step:  4775 Val Loss:  1.34457\n",
            "  Epoch:  12 Step:  4800 Val Loss:  1.34376\n",
            "  Epoch:  12 Step:  4825 Val Loss:  1.33923\n",
            "  Epoch:  12 Step:  4850 Val Loss:  1.34077\n",
            "  Epoch:  12 Step:  4875 Val Loss:  1.34289\n",
            "  Epoch:  12 Step:  4900 Val Loss:  1.34218\n",
            "  Epoch:  12 Step:  4925 Val Loss:  1.34206\n",
            "  Epoch:  12 Step:  4950 Val Loss:  1.34518\n",
            "Epoch time:   1.86 mins\n",
            "  Epoch:  13 Step:  4975 Val Loss:  1.34526\n",
            "  Epoch:  13 Step:  5000 Val Loss:  1.34493\n",
            "  Epoch:  13 Step:  5025 Val Loss:  1.34317\n",
            "  Epoch:  13 Step:  5050 Val Loss:  1.34096\n",
            "  Epoch:  13 Step:  5075 Val Loss:  1.34002\n",
            "  Epoch:  13 Step:  5100 Val Loss:  1.33928\n",
            "  Epoch:  13 Step:  5125 Val Loss:  1.33913\n",
            "  Epoch:  13 Step:  5150 Val Loss:  1.34206\n",
            "  Epoch:  13 Step:  5175 Val Loss:  1.33757\n",
            "  Epoch:  13 Step:  5200 Val Loss:  1.33815\n",
            "  Epoch:  13 Step:  5225 Val Loss:  1.33776\n",
            "  Epoch:  13 Step:  5250 Val Loss:  1.33627\n",
            "  Epoch:  13 Step:  5275 Val Loss:  1.33666\n",
            "  Epoch:  13 Step:  5300 Val Loss:  1.33704\n",
            "  Epoch:  13 Step:  5325 Val Loss:  1.33850\n",
            "Epoch time:   1.86 mins\n",
            "  Epoch:  14 Step:  5350 Val Loss:  1.34030\n",
            "  Epoch:  14 Step:  5375 Val Loss:  1.33749\n",
            "  Epoch:  14 Step:  5400 Val Loss:  1.34004\n",
            "  Epoch:  14 Step:  5425 Val Loss:  1.33748\n",
            "  Epoch:  14 Step:  5450 Val Loss:  1.33603\n",
            "  Epoch:  14 Step:  5475 Val Loss:  1.33436\n",
            "  Epoch:  14 Step:  5500 Val Loss:  1.33369\n",
            "  Epoch:  14 Step:  5525 Val Loss:  1.33464\n",
            "  Epoch:  14 Step:  5550 Val Loss:  1.33440\n",
            "  Epoch:  14 Step:  5575 Val Loss:  1.33263\n",
            "  Epoch:  14 Step:  5600 Val Loss:  1.33145\n",
            "  Epoch:  14 Step:  5625 Val Loss:  1.33337\n",
            "  Epoch:  14 Step:  5650 Val Loss:  1.33107\n",
            "  Epoch:  14 Step:  5675 Val Loss:  1.33071\n",
            "  Epoch:  14 Step:  5700 Val Loss:  1.33503\n",
            "  Epoch:  14 Step:  5725 Val Loss:  1.33629\n",
            "Epoch time:   1.90 mins\n",
            "  Epoch:  15 Step:  5750 Val Loss:  1.33589\n",
            "  Epoch:  15 Step:  5775 Val Loss:  1.33478\n",
            "  Epoch:  15 Step:  5800 Val Loss:  1.33152\n",
            "  Epoch:  15 Step:  5825 Val Loss:  1.33028\n",
            "  Epoch:  15 Step:  5850 Val Loss:  1.33206\n",
            "  Epoch:  15 Step:  5875 Val Loss:  1.32773\n",
            "  Epoch:  15 Step:  5900 Val Loss:  1.33051\n",
            "  Epoch:  15 Step:  5925 Val Loss:  1.33050\n",
            "  Epoch:  15 Step:  5950 Val Loss:  1.32970\n",
            "  Epoch:  15 Step:  5975 Val Loss:  1.32855\n",
            "  Epoch:  15 Step:  6000 Val Loss:  1.32782\n",
            "  Epoch:  15 Step:  6025 Val Loss:  1.32810\n",
            "  Epoch:  15 Step:  6050 Val Loss:  1.32696\n",
            "  Epoch:  15 Step:  6075 Val Loss:  1.33068\n",
            "  Epoch:  15 Step:  6100 Val Loss:  1.33059\n",
            "Epoch time:   1.86 mins\n",
            "  Epoch:  16 Step:  6125 Val Loss:  1.33027\n",
            "  Epoch:  16 Step:  6150 Val Loss:  1.32817\n",
            "  Epoch:  16 Step:  6175 Val Loss:  1.32866\n",
            "  Epoch:  16 Step:  6200 Val Loss:  1.32737\n",
            "  Epoch:  16 Step:  6225 Val Loss:  1.32895\n",
            "  Epoch:  16 Step:  6250 Val Loss:  1.32524\n",
            "  Epoch:  16 Step:  6275 Val Loss:  1.32431\n",
            "  Epoch:  16 Step:  6300 Val Loss:  1.32406\n",
            "  Epoch:  16 Step:  6325 Val Loss:  1.32579\n",
            "  Epoch:  16 Step:  6350 Val Loss:  1.32355\n",
            "  Epoch:  16 Step:  6375 Val Loss:  1.32367\n",
            "  Epoch:  16 Step:  6400 Val Loss:  1.32752\n",
            "  Epoch:  16 Step:  6425 Val Loss:  1.32367\n",
            "  Epoch:  16 Step:  6450 Val Loss:  1.32242\n",
            "  Epoch:  16 Step:  6475 Val Loss:  1.32362\n",
            "Epoch time:   1.88 mins\n",
            "  Epoch:  17 Step:  6500 Val Loss:  1.32972\n",
            "  Epoch:  17 Step:  6525 Val Loss:  1.32308\n",
            "  Epoch:  17 Step:  6550 Val Loss:  1.32436\n",
            "  Epoch:  17 Step:  6575 Val Loss:  1.32332\n",
            "  Epoch:  17 Step:  6600 Val Loss:  1.32396\n",
            "  Epoch:  17 Step:  6625 Val Loss:  1.32135\n",
            "  Epoch:  17 Step:  6650 Val Loss:  1.31840\n",
            "  Epoch:  17 Step:  6675 Val Loss:  1.31963\n",
            "  Epoch:  17 Step:  6700 Val Loss:  1.31995\n",
            "  Epoch:  17 Step:  6725 Val Loss:  1.31903\n",
            "  Epoch:  17 Step:  6750 Val Loss:  1.31690\n",
            "  Epoch:  17 Step:  6775 Val Loss:  1.31484\n",
            "  Epoch:  17 Step:  6800 Val Loss:  1.32000\n",
            "  Epoch:  17 Step:  6825 Val Loss:  1.31690\n",
            "  Epoch:  17 Step:  6850 Val Loss:  1.31869\n",
            "  Epoch:  17 Step:  6875 Val Loss:  1.32084\n",
            "Epoch time:   1.91 mins\n",
            "  Epoch:  18 Step:  6900 Val Loss:  1.32651\n",
            "  Epoch:  18 Step:  6925 Val Loss:  1.31678\n",
            "  Epoch:  18 Step:  6950 Val Loss:  1.32079\n",
            "  Epoch:  18 Step:  6975 Val Loss:  1.32051\n",
            "  Epoch:  18 Step:  7000 Val Loss:  1.31564\n",
            "  Epoch:  18 Step:  7025 Val Loss:  1.31592\n",
            "  Epoch:  18 Step:  7050 Val Loss:  1.31415\n",
            "  Epoch:  18 Step:  7075 Val Loss:  1.32464\n",
            "  Epoch:  18 Step:  7100 Val Loss:  1.31608\n",
            "  Epoch:  18 Step:  7125 Val Loss:  1.31610\n",
            "  Epoch:  18 Step:  7150 Val Loss:  1.31547\n",
            "  Epoch:  18 Step:  7175 Val Loss:  1.31884\n",
            "  Epoch:  18 Step:  7200 Val Loss:  1.31661\n",
            "  Epoch:  18 Step:  7225 Val Loss:  1.31880\n",
            "  Epoch:  18 Step:  7250 Val Loss:  1.31959\n",
            "Epoch time:   1.86 mins\n",
            "  Epoch:  19 Step:  7275 Val Loss:  1.31660\n",
            "  Epoch:  19 Step:  7300 Val Loss:  1.32186\n",
            "  Epoch:  19 Step:  7325 Val Loss:  1.31812\n",
            "  Epoch:  19 Step:  7350 Val Loss:  1.31467\n",
            "  Epoch:  19 Step:  7375 Val Loss:  1.31496\n",
            "  Epoch:  19 Step:  7400 Val Loss:  1.31310\n",
            "  Epoch:  19 Step:  7425 Val Loss:  1.31731\n",
            "  Epoch:  19 Step:  7450 Val Loss:  1.31724\n",
            "  Epoch:  19 Step:  7475 Val Loss:  1.31365\n",
            "  Epoch:  19 Step:  7500 Val Loss:  1.31099\n",
            "  Epoch:  19 Step:  7525 Val Loss:  1.31172\n",
            "  Epoch:  19 Step:  7550 Val Loss:  1.31700\n",
            "  Epoch:  19 Step:  7575 Val Loss:  1.30841\n",
            "  Epoch:  19 Step:  7600 Val Loss:  1.31245\n",
            "  Epoch:  19 Step:  7625 Val Loss:  1.30863\n",
            "Epoch time:   1.86 mins\n",
            "  Epoch:  20 Step:  7650 Val Loss:  1.31253\n",
            "  Epoch:  20 Step:  7675 Val Loss:  1.31421\n",
            "  Epoch:  20 Step:  7700 Val Loss:  1.30955\n",
            "  Epoch:  20 Step:  7725 Val Loss:  1.30663\n",
            "  Epoch:  20 Step:  7750 Val Loss:  1.30735\n",
            "  Epoch:  20 Step:  7775 Val Loss:  1.31074\n",
            "  Epoch:  20 Step:  7800 Val Loss:  1.30880\n",
            "  Epoch:  20 Step:  7825 Val Loss:  1.31035\n",
            "  Epoch:  20 Step:  7850 Val Loss:  1.31184\n",
            "  Epoch:  20 Step:  7875 Val Loss:  1.31204\n",
            "  Epoch:  20 Step:  7900 Val Loss:  1.30919\n",
            "  Epoch:  20 Step:  7925 Val Loss:  1.30409\n",
            "  Epoch:  20 Step:  7950 Val Loss:  1.30591\n",
            "  Epoch:  20 Step:  7975 Val Loss:  1.30941\n",
            "  Epoch:  20 Step:  8000 Val Loss:  1.30653\n",
            "Epoch time:   1.86 mins\n",
            "  Epoch:  21 Step:  8025 Val Loss:  1.31171\n",
            "  Epoch:  21 Step:  8050 Val Loss:  1.30759\n",
            "  Epoch:  21 Step:  8075 Val Loss:  1.31250\n",
            "  Epoch:  21 Step:  8100 Val Loss:  1.31151\n",
            "  Epoch:  21 Step:  8125 Val Loss:  1.30478\n",
            "  Epoch:  21 Step:  8150 Val Loss:  1.31084\n",
            "  Epoch:  21 Step:  8175 Val Loss:  1.30496\n",
            "  Epoch:  21 Step:  8200 Val Loss:  1.30512\n",
            "  Epoch:  21 Step:  8225 Val Loss:  1.30955\n",
            "  Epoch:  21 Step:  8250 Val Loss:  1.30591\n",
            "  Epoch:  21 Step:  8275 Val Loss:  1.30011\n",
            "  Epoch:  21 Step:  8300 Val Loss:  1.30233\n",
            "  Epoch:  21 Step:  8325 Val Loss:  1.30571\n",
            "  Epoch:  21 Step:  8350 Val Loss:  1.30910\n",
            "  Epoch:  21 Step:  8375 Val Loss:  1.30452\n",
            "  Epoch:  21 Step:  8400 Val Loss:  1.31019\n",
            "Epoch time:   1.90 mins\n",
            "  Epoch:  22 Step:  8425 Val Loss:  1.30738\n",
            "  Epoch:  22 Step:  8450 Val Loss:  1.31053\n",
            "  Epoch:  22 Step:  8475 Val Loss:  1.30853\n",
            "  Epoch:  22 Step:  8500 Val Loss:  1.30395\n",
            "  Epoch:  22 Step:  8525 Val Loss:  1.30155\n",
            "  Epoch:  22 Step:  8550 Val Loss:  1.30213\n",
            "  Epoch:  22 Step:  8575 Val Loss:  1.30535\n",
            "  Epoch:  22 Step:  8600 Val Loss:  1.30760\n",
            "  Epoch:  22 Step:  8625 Val Loss:  1.30726\n",
            "  Epoch:  22 Step:  8650 Val Loss:  1.30467\n",
            "  Epoch:  22 Step:  8675 Val Loss:  1.30634\n",
            "  Epoch:  22 Step:  8700 Val Loss:  1.30875\n",
            "  Epoch:  22 Step:  8725 Val Loss:  1.30301\n",
            "  Epoch:  22 Step:  8750 Val Loss:  1.30321\n",
            "  Epoch:  22 Step:  8775 Val Loss:  1.30847\n",
            "Epoch time:   1.87 mins\n",
            "  Epoch:  23 Step:  8800 Val Loss:  1.30543\n",
            "  Epoch:  23 Step:  8825 Val Loss:  1.30850\n",
            "  Epoch:  23 Step:  8850 Val Loss:  1.31064\n",
            "  Epoch:  23 Step:  8875 Val Loss:  1.30822\n",
            "  Epoch:  23 Step:  8900 Val Loss:  1.30032\n",
            "  Epoch:  23 Step:  8925 Val Loss:  1.29574\n",
            "  Epoch:  23 Step:  8950 Val Loss:  1.29724\n",
            "  Epoch:  23 Step:  8975 Val Loss:  1.30176\n",
            "  Epoch:  23 Step:  9000 Val Loss:  1.30389\n",
            "  Epoch:  23 Step:  9025 Val Loss:  1.29647\n",
            "  Epoch:  23 Step:  9050 Val Loss:  1.30165\n",
            "  Epoch:  23 Step:  9075 Val Loss:  1.30314\n",
            "  Epoch:  23 Step:  9100 Val Loss:  1.30168\n",
            "  Epoch:  23 Step:  9125 Val Loss:  1.29939\n",
            "  Epoch:  23 Step:  9150 Val Loss:  1.30403\n",
            "Epoch time:   1.87 mins\n",
            "  Epoch:  24 Step:  9175 Val Loss:  1.30443\n",
            "  Epoch:  24 Step:  9200 Val Loss:  1.29845\n",
            "  Epoch:  24 Step:  9225 Val Loss:  1.30858\n",
            "  Epoch:  24 Step:  9250 Val Loss:  1.30280\n",
            "  Epoch:  24 Step:  9275 Val Loss:  1.30302\n",
            "  Epoch:  24 Step:  9300 Val Loss:  1.30113\n",
            "  Epoch:  24 Step:  9325 Val Loss:  1.30002\n",
            "  Epoch:  24 Step:  9350 Val Loss:  1.30348\n",
            "  Epoch:  24 Step:  9375 Val Loss:  1.29672\n",
            "  Epoch:  24 Step:  9400 Val Loss:  1.30454\n",
            "  Epoch:  24 Step:  9425 Val Loss:  1.29773\n",
            "  Epoch:  24 Step:  9450 Val Loss:  1.29986\n",
            "  Epoch:  24 Step:  9475 Val Loss:  1.29428\n",
            "  Epoch:  24 Step:  9500 Val Loss:  1.30329\n",
            "  Epoch:  24 Step:  9525 Val Loss:  1.30478\n",
            "  Epoch:  24 Step:  9550 Val Loss:  1.30196\n",
            "Epoch time:   1.91 mins\n",
            "  Epoch:  25 Step:  9575 Val Loss:  1.30101\n",
            "  Epoch:  25 Step:  9600 Val Loss:  1.30446\n",
            "  Epoch:  25 Step:  9625 Val Loss:  1.29144\n",
            "  Epoch:  25 Step:  9650 Val Loss:  1.29586\n",
            "  Epoch:  25 Step:  9675 Val Loss:  1.29860\n",
            "  Epoch:  25 Step:  9700 Val Loss:  1.29967\n",
            "  Epoch:  25 Step:  9725 Val Loss:  1.30158\n",
            "  Epoch:  25 Step:  9750 Val Loss:  1.29734\n",
            "  Epoch:  25 Step:  9775 Val Loss:  1.29995\n",
            "  Epoch:  25 Step:  9800 Val Loss:  1.30020\n",
            "  Epoch:  25 Step:  9825 Val Loss:  1.29857\n",
            "  Epoch:  25 Step:  9850 Val Loss:  1.29761\n",
            "  Epoch:  25 Step:  9875 Val Loss:  1.29723\n",
            "  Epoch:  25 Step:  9900 Val Loss:  1.29893\n",
            "  Epoch:  25 Step:  9925 Val Loss:  1.29666\n",
            "Epoch time:   1.86 mins\n",
            "  Epoch:  26 Step:  9950 Val Loss:  1.29752\n",
            "  Epoch:  26 Step:  9975 Val Loss:  1.29737\n",
            "  Epoch:  26 Step: 10000 Val Loss:  1.29907\n",
            "  Epoch:  26 Step: 10025 Val Loss:  1.29839\n",
            "  Epoch:  26 Step: 10050 Val Loss:  1.29766\n",
            "  Epoch:  26 Step: 10075 Val Loss:  1.29821\n",
            "  Epoch:  26 Step: 10100 Val Loss:  1.30172\n",
            "  Epoch:  26 Step: 10125 Val Loss:  1.30025\n",
            "  Epoch:  26 Step: 10150 Val Loss:  1.29785\n",
            "  Epoch:  26 Step: 10175 Val Loss:  1.29933\n",
            "  Epoch:  26 Step: 10200 Val Loss:  1.29890\n",
            "  Epoch:  26 Step: 10225 Val Loss:  1.30052\n",
            "  Epoch:  26 Step: 10250 Val Loss:  1.29937\n",
            "  Epoch:  26 Step: 10275 Val Loss:  1.29422\n",
            "  Epoch:  26 Step: 10300 Val Loss:  1.30104\n",
            "Epoch time:   1.88 mins\n",
            "  Epoch:  27 Step: 10325 Val Loss:  1.29874\n",
            "  Epoch:  27 Step: 10350 Val Loss:  1.29897\n",
            "  Epoch:  27 Step: 10375 Val Loss:  1.29496\n",
            "  Epoch:  27 Step: 10400 Val Loss:  1.29792\n",
            "  Epoch:  27 Step: 10425 Val Loss:  1.29978\n",
            "  Epoch:  27 Step: 10450 Val Loss:  1.29647\n",
            "  Epoch:  27 Step: 10475 Val Loss:  1.29724\n",
            "  Epoch:  27 Step: 10500 Val Loss:  1.29435\n",
            "  Epoch:  27 Step: 10525 Val Loss:  1.29406\n",
            "  Epoch:  27 Step: 10550 Val Loss:  1.29821\n",
            "  Epoch:  27 Step: 10575 Val Loss:  1.29952\n",
            "  Epoch:  27 Step: 10600 Val Loss:  1.29174\n",
            "  Epoch:  27 Step: 10625 Val Loss:  1.29327\n",
            "  Epoch:  27 Step: 10650 Val Loss:  1.29550\n",
            "  Epoch:  27 Step: 10675 Val Loss:  1.29986\n",
            "Epoch time:   1.87 mins\n",
            "  Epoch:  28 Step: 10700 Val Loss:  1.29862\n",
            "  Epoch:  28 Step: 10725 Val Loss:  1.29970\n",
            "  Epoch:  28 Step: 10750 Val Loss:  1.30143\n",
            "  Epoch:  28 Step: 10775 Val Loss:  1.29496\n",
            "  Epoch:  28 Step: 10800 Val Loss:  1.29788\n",
            "  Epoch:  28 Step: 10825 Val Loss:  1.29148\n",
            "  Epoch:  28 Step: 10850 Val Loss:  1.29146\n",
            "  Epoch:  28 Step: 10875 Val Loss:  1.29322\n",
            "  Epoch:  28 Step: 10900 Val Loss:  1.29276\n",
            "  Epoch:  28 Step: 10925 Val Loss:  1.30034\n",
            "  Epoch:  28 Step: 10950 Val Loss:  1.29676\n",
            "  Epoch:  28 Step: 10975 Val Loss:  1.29079\n",
            "  Epoch:  28 Step: 11000 Val Loss:  1.29352\n",
            "  Epoch:  28 Step: 11025 Val Loss:  1.29049\n",
            "  Epoch:  28 Step: 11050 Val Loss:  1.29685\n",
            "  Epoch:  28 Step: 11075 Val Loss:  1.29699\n",
            "Epoch time:   1.90 mins\n",
            "  Epoch:  29 Step: 11100 Val Loss:  1.29624\n",
            "  Epoch:  29 Step: 11125 Val Loss:  1.30270\n",
            "  Epoch:  29 Step: 11150 Val Loss:  1.29725\n",
            "  Epoch:  29 Step: 11175 Val Loss:  1.29099\n",
            "  Epoch:  29 Step: 11200 Val Loss:  1.29531\n",
            "  Epoch:  29 Step: 11225 Val Loss:  1.28946\n",
            "  Epoch:  29 Step: 11250 Val Loss:  1.29660\n",
            "  Epoch:  29 Step: 11275 Val Loss:  1.29661\n",
            "  Epoch:  29 Step: 11300 Val Loss:  1.29302\n",
            "  Epoch:  29 Step: 11325 Val Loss:  1.29797\n",
            "  Epoch:  29 Step: 11350 Val Loss:  1.30104\n",
            "  Epoch:  29 Step: 11375 Val Loss:  1.30598\n",
            "  Epoch:  29 Step: 11400 Val Loss:  1.30322\n",
            "  Epoch:  29 Step: 11425 Val Loss:  1.29598\n",
            "  Epoch:  29 Step: 11450 Val Loss:  1.29450\n",
            "Epoch time:   1.87 mins\n",
            "Total raining time: 55.76 mins\n"
          ]
        }
      ]
    },
    {
      "cell_type": "code",
      "source": [
        "plt.figure(figsize=(12,8))\n",
        "plt.plot(val_losses)\n",
        "plt.grid()\n",
        "plt.savefig(f'/content/drive/MyDrive/Colab Notebooks/hidden{model.num_hidden}_layers{model.num_layers}_{time.strftime(\"%Y%M%d%H%m\",time.gmtime(time.time()))}_shakespeare.png')"
      ],
      "metadata": {
        "id": "Vxghs31QMj0y",
        "outputId": "511a2948-32c1-4812-e710-3b6e872a54f3",
        "colab": {
          "base_uri": "https://localhost:8080/",
          "height": 483
        }
      },
      "id": "Vxghs31QMj0y",
      "execution_count": 50,
      "outputs": [
        {
          "output_type": "display_data",
          "data": {
            "text/plain": [
              "<Figure size 864x576 with 1 Axes>"
            ],
            "image/png": "[encoded data removed]"
          },
          "metadata": {
            "needs_background": "light"
          }
        }
      ]
    },
    {
      "cell_type": "markdown",
      "source": [
        "## Save the model"
      ],
      "metadata": {
        "id": "ScCECZi5HEO3"
      },
      "id": "ScCECZi5HEO3"
    },
    {
      "cell_type": "code",
      "source": [
        "# Save the trained model\n",
        "model_name = f'/content/drive/MyDrive/Colab Notebooks/models/hidden{model.num_hidden}_layers{model.num_layers}_{time.strftime(\"%Y%M%d%H%m\",time.gmtime(time.time()))}_shakespeare.net'\n",
        "torch.save(model.state_dict(),model_name)"
      ],
      "metadata": {
        "id": "a_RT75ZvLtRR"
      },
      "id": "a_RT75ZvLtRR",
      "execution_count": 51,
      "outputs": []
    },
    {
      "cell_type": "markdown",
      "source": [
        "# Predictions\n",
        "\n",
        "We will be geneting two functions, one function to generate the next character prediction and another one to generate strings of sentences."
      ],
      "metadata": {
        "id": "fokIMh6a_zkh"
      },
      "id": "fokIMh6a_zkh"
    },
    {
      "cell_type": "markdown",
      "source": [
        "## Load the model"
      ],
      "metadata": {
        "id": "QwSNoOXVHKdf"
      },
      "id": "QwSNoOXVHKdf"
    },
    {
      "cell_type": "code",
      "source": [
        "# MUST MATCH THE EXACT SAME SETTINGS AS MODEL USED DURING TRAINING!\n",
        "\n",
        "model = CharModel(\n",
        "    all_chars=all_characters,\n",
        "    num_hidden=512,\n",
        "    num_layers=3,\n",
        "    drop_prob=0.5,\n",
        "    use_gpu=True,\n",
        ")"
      ],
      "metadata": {
        "id": "yawjOTGWHMRC"
      },
      "id": "yawjOTGWHMRC",
      "execution_count": null,
      "outputs": []
    },
    {
      "cell_type": "code",
      "source": [
        "model.load_state_dict(torch.load('/content/drive/MyDrive/Colab Notebooks/Final_Shakespeare.net'))\n",
        "model.eval()"
      ],
      "metadata": {
        "id": "HlDAMV8JHRSf",
        "outputId": "c1adfa28-8e31-4dd8-91be-c5921af29a62",
        "colab": {
          "base_uri": "https://localhost:8080/"
        }
      },
      "id": "HlDAMV8JHRSf",
      "execution_count": null,
      "outputs": [
        {
          "output_type": "execute_result",
          "data": {
            "text/plain": [
              "CharModel(\n",
              "  (lstm): LSTM(84, 512, num_layers=3, batch_first=True, dropout=0.5)\n",
              "  (dropout): Dropout(p=0.5, inplace=False)\n",
              "  (fc_linear): Linear(in_features=512, out_features=84, bias=True)\n",
              ")"
            ]
          },
          "metadata": {},
          "execution_count": 50
        }
      ]
    },
    {
      "cell_type": "markdown",
      "source": [
        "## Prediction functions"
      ],
      "metadata": {
        "id": "tsV7RV3GHHRh"
      },
      "id": "tsV7RV3GHHRh"
    },
    {
      "cell_type": "code",
      "source": [
        "def predict_next_char(model, char, hidden=None, k=1):\n",
        "\n",
        "    # Encode the text\n",
        "    encoded_text = model.encoder[char]\n",
        "\n",
        "    # Convert to a numpy array with 1 observation of 1 feature [[x]]\n",
        "    # to maintain the same dimensions\n",
        "    encoded_text = np.array([[encoded_text]])\n",
        "\n",
        "    # One-hot encode the character in a matrix of all characters\n",
        "    encoded_text = one_hot_encoder(encoded_text,len(model.all_chars))\n",
        "\n",
        "    # Convert to a tensor and load to GPU if required\n",
        "    inputs = torch.from_numpy(encoded_text)\n",
        "    if model.use_gpu:\n",
        "        inputs = inputs.cuda()\n",
        "\n",
        "    # Initialise the hidden states\n",
        "    hidden = tuple([state.data for state in hidden])\n",
        "\n",
        "    # Generate predictions\n",
        "    lstm_out, hidden = model.lstm(inputs, hidden)\n",
        "\n",
        "    # Pass through a softmax layer to generate probabilities\n",
        "    probs = F.softmax(lstm_out, dim=1).data\n",
        "\n",
        "    # Move probabilities back to CPU to use numpy\n",
        "    if model.use_gpu:\n",
        "        probs = probs.cpu()\n",
        "    \n",
        "    # Extract the top k probability items from the probabilities array\n",
        "    probs, idx_pos = probs.topk(k)\n",
        "\n",
        "    # Remove any axis of length one \n",
        "    idx_pos = idx_pos.numpy().squeeze()\n",
        "\n",
        "    # Flatten the array to a one-dimensional array\n",
        "    probs = probs.numpy().flatten()\n",
        "\n",
        "    # Convert to probabilities per index\n",
        "    probs = probs/probs.sum()\n",
        "\n",
        "    # Randomly chose a character based on probabilities\n",
        "    char = np.random.choice(idx_pos, p=probs)\n",
        "\n",
        "    # Return the encoded value of the predicted char and the hidden state\n",
        "    return model.decoder[char], hidden\n"
      ],
      "metadata": {
        "id": "SHcEsbxH_4g0"
      },
      "id": "SHcEsbxH_4g0",
      "execution_count": 52,
      "outputs": []
    },
    {
      "cell_type": "code",
      "source": [
        "def generate_text(model, size, seed='The', k=1):\n",
        "\n",
        "    # Load model on gpu if required\n",
        "    if model.use_gpu:\n",
        "        model.cuda()\n",
        "    else:\n",
        "        model.cpu()\n",
        "\n",
        "    # Set the model on evaluation mode\n",
        "    model.eval()\n",
        "\n",
        "    # Begin output from initial seed\n",
        "    output_chars = [c for c in seed]\n",
        "\n",
        "    # Initiate the hidden state\n",
        "    hidden = model.hidden_state(batch_size=1)\n",
        "\n",
        "    # Predict the next character for every character in seed\n",
        "    for char in seed:\n",
        "        char, hidden = predict_next_char(model, char, hidden, k=k)\n",
        "    \n",
        "    # Add initial characters to output\n",
        "    output_chars.append(char)\n",
        "\n",
        "    # Generate for required size\n",
        "    for i in range(size):\n",
        "\n",
        "        # Predict based off very last letter in output_chars\n",
        "        char, hidden = predict_next_char(model, output_chars[-1], hidden, k=k)\n",
        "\n",
        "        # Append predictex character\n",
        "        output_chars.append(char)\n",
        "\n",
        "    # Return the string of predicted text\n",
        "    return ''.join(output_chars)"
      ],
      "metadata": {
        "id": "f58i1RaPFyt2"
      },
      "id": "f58i1RaPFyt2",
      "execution_count": 53,
      "outputs": []
    },
    {
      "cell_type": "code",
      "source": [
        "print(generate_text(model, 1000, seed='The ', k=3))"
      ],
      "metadata": {
        "id": "voUjVfCKHlZV",
        "outputId": "f0a64e88-6b8a-449c-9ea4-7581558e8f06",
        "colab": {
          "base_uri": "https://localhost:8080/"
        }
      },
      "id": "voUjVfCKHlZV",
      "execution_count": 54,
      "outputs": [
        {
          "output_type": "stream",
          "name": "stdout",
          "text": [
            "The bbbfAAbfbbAAAfAAffbbfAfbAfbAbAfbfAffAbAbAfAAfbfAbbfbfAbbfAfbfAAfbbbAAbfbfAAAAAAAfffbfbbfAfbfbAAbbAbAAAffbbAAAAAAbfAfAbbAAAfAfAAbfffAbAAAbAAbAfAAffbbbfAAbAbAfAAfAbbbAAbbAAbffAAfAbffbffAffAfAbbAbAbbAfbfAAbfbfbbbAffbffAAfbfbbAbAffbAbbAffbfbbfbbbAffbbfAbAfbAAAffbAfAbffAfbfbfffbbAfffbbAbAbAbbAfbbbbffAfAffbffAbAbbffbAfAfAfAfAfAAfAbAAffAffbbAAfAAbAfbfbAfbAfbbAffbAAbAAbffbAbAAfAbbbAffAAbbfAfbfAbbAbbfbffAffAAffAffffffbbAbbAfAfAAfAAAfAbfbAfAffAbfAAAffbbfAAfAAfbbfAffbbbAAfbfAbbAbAbbbbfAAbfAbfAbfbAbAbAfbbbfAbbfAfAAAAbbbbbAbAbAAfbbbfAbffffbAbAfbAbAbbAfbbAbAfffffffAffAbAbAAffbfbAAbfAbbbAbfAbfAAbffbffAfAfAbbAfAfffAfffbfbbAfAfffAfAAAfffffAbbAbAfAfbbfAfAbfbfbbAAfAfAfffAbfAAbbfbAbffbbAbbfbbfbAffffAbfAAAfAAbbAbbfbbbAffbfbAfAbbAAAfffffbbbbbAfAffbAbfAAbfAbAbfbbbfAbAAAfAfbffAAbbbffAbbbAfbfbAfAfffAAAffAAAfAAbbfAbffffAAbfffbbbAAbbAfAfbAbbbAbbAAAbbAffAbfffbbbAbfbbfbAAbAbfAfAbfAAAfbbAfbbffffAbfffbffbfbfffbffAAfbfbAAbfAfAAAbAfbAAAbbffbfffAfAbbAfbfbAAAbfbbbAbAbffffffbAbffbffbAfbAffbAfbfffbAbbbbAAfAbfbfbbAbbbfbfbbA\n"
          ]
        }
      ]
    }
  ],
  "metadata": {
    "kernelspec": {
      "display_name": "Python 3 (ipykernel)",
      "language": "python",
      "name": "python3"
    },
    "language_info": {
      "codemirror_mode": {
        "name": "ipython",
        "version": 3
      },
      "file_extension": ".py",
      "mimetype": "text/x-python",
      "name": "python",
      "nbconvert_exporter": "python",
      "pygments_lexer": "ipython3",
      "version": "3.9.7"
    },
    "colab": {
      "name": "NLP.ipynb",
      "provenance": [],
      "collapsed_sections": []
    },
    "accelerator": "GPU"
  },
  "nbformat": 4,
  "nbformat_minor": 5
}