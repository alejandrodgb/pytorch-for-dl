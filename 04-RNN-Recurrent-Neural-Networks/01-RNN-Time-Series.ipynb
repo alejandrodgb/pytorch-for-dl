{
 "cells": [
  {
   "cell_type": "markdown",
   "id": "bf4cb231-7dae-42cc-8250-480a56d73763",
   "metadata": {},
   "source": [
    "# Libraries"
   ]
  },
  {
   "cell_type": "code",
   "execution_count": 2,
   "id": "1c784dce-d7fd-4c14-bd05-899ad5f47f4f",
   "metadata": {},
   "outputs": [],
   "source": [
    "import torch\n",
    "import torch.nn as nn\n",
    "\n",
    "import pandas as pd\n",
    "import numpy as np\n",
    "import matplotlib.pyplot as plt\n",
    "%matplotlib inline\n",
    "\n",
    "from pandas.plotting import register_matplotlib_converters\n",
    "register_matplotlib_converters()"
   ]
  },
  {
   "cell_type": "markdown",
   "id": "18f41e59-e909-4096-b906-f1814017582f",
   "metadata": {},
   "source": [
    "# Data preparation\n",
    "\n",
    "We will be using Federal Reserve Economic Database (FRED) data concerning Sales of Beer, Wine, and Distilled Alcoholic Beverages in millions of dollars from January 1992 to January 2019 (325 records)."
   ]
  },
  {
   "cell_type": "code",
   "execution_count": 3,
   "id": "e272a250-bd92-4ecc-bab9-00fa09f2c8d3",
   "metadata": {},
   "outputs": [
    {
     "data": {
      "text/html": [
       "<div>\n",
       "<style scoped>\n",
       "    .dataframe tbody tr th:only-of-type {\n",
       "        vertical-align: middle;\n",
       "    }\n",
       "\n",
       "    .dataframe tbody tr th {\n",
       "        vertical-align: top;\n",
       "    }\n",
       "\n",
       "    .dataframe thead th {\n",
       "        text-align: right;\n",
       "    }\n",
       "</style>\n",
       "<table border=\"1\" class=\"dataframe\">\n",
       "  <thead>\n",
       "    <tr style=\"text-align: right;\">\n",
       "      <th></th>\n",
       "      <th>S4248SM144NCEN</th>\n",
       "    </tr>\n",
       "    <tr>\n",
       "      <th>DATE</th>\n",
       "      <th></th>\n",
       "    </tr>\n",
       "  </thead>\n",
       "  <tbody>\n",
       "    <tr>\n",
       "      <th>1998-01-01</th>\n",
       "      <td>3796</td>\n",
       "    </tr>\n",
       "    <tr>\n",
       "      <th>2003-06-01</th>\n",
       "      <td>7133</td>\n",
       "    </tr>\n",
       "    <tr>\n",
       "      <th>1996-08-01</th>\n",
       "      <td>5062</td>\n",
       "    </tr>\n",
       "    <tr>\n",
       "      <th>2009-04-01</th>\n",
       "      <td>9162</td>\n",
       "    </tr>\n",
       "    <tr>\n",
       "      <th>2015-01-01</th>\n",
       "      <td>8400</td>\n",
       "    </tr>\n",
       "  </tbody>\n",
       "</table>\n",
       "</div>"
      ],
      "text/plain": [
       "            S4248SM144NCEN\n",
       "DATE                      \n",
       "1998-01-01            3796\n",
       "2003-06-01            7133\n",
       "1996-08-01            5062\n",
       "2009-04-01            9162\n",
       "2015-01-01            8400"
      ]
     },
     "execution_count": 3,
     "metadata": {},
     "output_type": "execute_result"
    }
   ],
   "source": [
    "# Importing the data and using pandas datetime index feature\n",
    "df = pd.read_csv('../Data/TimeSeriesData/Alcohol_Sales.csv', index_col=0, parse_dates=True)\n",
    "df.sample(5)"
   ]
  },
  {
   "cell_type": "code",
   "execution_count": 8,
   "id": "7a7a22db-821b-4767-b96f-4887c7693855",
   "metadata": {},
   "outputs": [
    {
     "data": {
      "text/html": [
       "<div>\n",
       "<style scoped>\n",
       "    .dataframe tbody tr th:only-of-type {\n",
       "        vertical-align: middle;\n",
       "    }\n",
       "\n",
       "    .dataframe tbody tr th {\n",
       "        vertical-align: top;\n",
       "    }\n",
       "\n",
       "    .dataframe thead th {\n",
       "        text-align: right;\n",
       "    }\n",
       "</style>\n",
       "<table border=\"1\" class=\"dataframe\">\n",
       "  <thead>\n",
       "    <tr style=\"text-align: right;\">\n",
       "      <th></th>\n",
       "      <th>S4248SM144NCEN</th>\n",
       "    </tr>\n",
       "    <tr>\n",
       "      <th>DATE</th>\n",
       "      <th></th>\n",
       "    </tr>\n",
       "  </thead>\n",
       "  <tbody>\n",
       "    <tr>\n",
       "      <th>1992-01-01</th>\n",
       "      <td>3459</td>\n",
       "    </tr>\n",
       "    <tr>\n",
       "      <th>1992-02-01</th>\n",
       "      <td>3458</td>\n",
       "    </tr>\n",
       "    <tr>\n",
       "      <th>1992-03-01</th>\n",
       "      <td>4002</td>\n",
       "    </tr>\n",
       "    <tr>\n",
       "      <th>1992-04-01</th>\n",
       "      <td>4564</td>\n",
       "    </tr>\n",
       "    <tr>\n",
       "      <th>1992-05-01</th>\n",
       "      <td>4221</td>\n",
       "    </tr>\n",
       "  </tbody>\n",
       "</table>\n",
       "</div>"
      ],
      "text/plain": [
       "            S4248SM144NCEN\n",
       "DATE                      \n",
       "1992-01-01            3459\n",
       "1992-02-01            3458\n",
       "1992-03-01            4002\n",
       "1992-04-01            4564\n",
       "1992-05-01            4221"
      ]
     },
     "execution_count": 8,
     "metadata": {},
     "output_type": "execute_result"
    }
   ],
   "source": [
    "df.head()"
   ]
  },
  {
   "cell_type": "code",
   "execution_count": 5,
   "id": "a0c127ab-617c-420f-95e1-062f2c228b49",
   "metadata": {},
   "outputs": [
    {
     "name": "stdout",
     "output_type": "stream",
     "text": [
      "(325, 1)\n"
     ]
    },
    {
     "data": {
      "text/plain": [
       "(325, 1)"
      ]
     },
     "execution_count": 5,
     "metadata": {},
     "output_type": "execute_result"
    }
   ],
   "source": [
    "print(df.shape)\n",
    "df = df.dropna()\n",
    "df.shape"
   ]
  },
  {
   "cell_type": "code",
   "execution_count": 4,
   "id": "6ed6bb2c-62ef-453a-84d8-bc78944b89d4",
   "metadata": {},
   "outputs": [
    {
     "data": {
      "image/png": "[encoded data removed]",
      "text/plain": [
       "<Figure size 864x288 with 1 Axes>"
      ]
     },
     "metadata": {
      "needs_background": "light"
     },
     "output_type": "display_data"
    }
   ],
   "source": [
    "plt.figure(figsize=(12,4))\n",
    "plt.plot(df['S4248SM144NCEN'])\n",
    "plt.grid()\n",
    "plt.title('Beer, Wine, and Alcohol Sales')\n",
    "plt.ylabel('Sales (millions of dollars)')\n",
    "plt.autoscale(axis='x',tight=True) # Autoscale x grid around data"
   ]
  },
  {
   "cell_type": "markdown",
   "id": "d0f2e7ed-40d5-436a-8530-33e21ffbc10a",
   "metadata": {},
   "source": [
    "Data type has to be float."
   ]
  },
  {
   "cell_type": "code",
   "execution_count": 6,
   "id": "4dd7916f-c389-4ee4-aa16-58c66e751c0a",
   "metadata": {},
   "outputs": [
    {
     "name": "stdout",
     "output_type": "stream",
     "text": [
      "<class 'pandas.core.frame.DataFrame'>\n",
      "DatetimeIndex: 325 entries, 1992-01-01 to 2019-01-01\n",
      "Data columns (total 1 columns):\n",
      " #   Column          Non-Null Count  Dtype\n",
      "---  ------          --------------  -----\n",
      " 0   S4248SM144NCEN  325 non-null    int64\n",
      "dtypes: int64(1)\n",
      "memory usage: 5.1 KB\n"
     ]
    }
   ],
   "source": [
    "df.info()"
   ]
  },
  {
   "cell_type": "code",
   "execution_count": 9,
   "id": "0984cc2d-4ac6-4e0e-b372-4fb3d8071952",
   "metadata": {},
   "outputs": [],
   "source": [
    "# Extract the values \n",
    "y = df['S4248SM144NCEN'].values.astype(float)\n",
    "\n",
    "# Test size is one full cycle of the seasonality = 12 months\n",
    "test_size = 12\n",
    "\n",
    "train_set = y[:-test_size]\n",
    "test_set = y[-test_size:]"
   ]
  },
  {
   "cell_type": "code",
   "execution_count": 11,
   "id": "ccab4de1-7105-42bc-ae3e-407d67072893",
   "metadata": {},
   "outputs": [
    {
     "data": {
      "text/plain": [
       "array([10415., 12683., 11919., 14138., 14583., 12640., 14257., 12396.,\n",
       "       13914., 14174., 15504., 10718.])"
      ]
     },
     "execution_count": 11,
     "metadata": {},
     "output_type": "execute_result"
    }
   ],
   "source": [
    "test_set"
   ]
  },
  {
   "cell_type": "markdown",
   "id": "8b4052ab-02a2-44f3-bbb5-1b55cd9ebae2",
   "metadata": {},
   "source": [
    "The data in this dataset ranges from thousands in the beginning to tens of thousands towards the end. Normalisation of the dataset will assist with the training and generalisation of the model. In this case we will be using SciKit learn's `MinMaxScaler`."
   ]
  },
  {
   "cell_type": "markdown",
   "id": "9e0ef4d5-12a9-42a2-92d8-16d513faeb1e",
   "metadata": {},
   "source": [
    "## Data scaling"
   ]
  },
  {
   "cell_type": "code",
   "execution_count": 12,
   "id": "71c6c52c-0fba-4891-b9a2-8dbcbb307d6d",
   "metadata": {},
   "outputs": [],
   "source": [
    "from sklearn.preprocessing import MinMaxScaler"
   ]
  },
  {
   "cell_type": "code",
   "execution_count": 13,
   "id": "e4c8f0c7-34db-4cc4-9b5d-eed63d36652a",
   "metadata": {},
   "outputs": [],
   "source": [
    "scaler = MinMaxScaler(feature_range=(-1,1))"
   ]
  },
  {
   "cell_type": "markdown",
   "id": "908bee97-3747-42d7-89a9-9e1689aa7e10",
   "metadata": {},
   "source": [
    "When normalising the data, we will only use the min and max values of the training dataset to avoid data leakage. We need to fit the data, then transform it."
   ]
  },
  {
   "cell_type": "code",
   "execution_count": 19,
   "id": "36352346-9401-49c5-9e21-703052d2d811",
   "metadata": {},
   "outputs": [],
   "source": [
    "scaler.fit(train_set.reshape(-1,1))\n",
    "train_norm = scaler.transform(train_set.reshape(-1,1))"
   ]
  },
  {
   "cell_type": "markdown",
   "id": "1f6609a6-e132-4037-abd3-2e160d66ca2a",
   "metadata": {},
   "source": [
    "## Prepare data for LSTM"
   ]
  },
  {
   "cell_type": "markdown",
   "id": "736bbd68-e569-43a4-b534-dddf6f296625",
   "metadata": {},
   "source": [
    "Once the data has been normalised, it can be transformed to a tensor."
   ]
  },
  {
   "cell_type": "code",
   "execution_count": 25,
   "id": "ea17f74a-407e-4074-a3e0-0afba0950de3",
   "metadata": {},
   "outputs": [],
   "source": [
    "train_norm = torch.FloatTensor(train_norm).view(-1)"
   ]
  },
  {
   "cell_type": "markdown",
   "id": "895e0583-6a21-4da6-9f9c-90db9ab662df",
   "metadata": {},
   "source": [
    "We create the windows for training."
   ]
  },
  {
   "cell_type": "code",
   "execution_count": 26,
   "id": "dafa7510-2db3-4ce6-b5ea-bfdd5138e618",
   "metadata": {},
   "outputs": [],
   "source": [
    "def input_data(seq, ws, l=1):\n",
    "    '''\n",
    "    Creates the windows of data that willb e used for training.\n",
    "    '''\n",
    "    out = []\n",
    "    for i in range(len(seq)-ws):\n",
    "        window = seq[i:i+ws]\n",
    "        label = seq[i+ws:i+ws+l]\n",
    "        out.append((window,label))\n",
    "    return out"
   ]
  },
  {
   "cell_type": "code",
   "execution_count": 35,
   "id": "8c3d25b4-7a00-4a64-aac9-c1558370ea60",
   "metadata": {},
   "outputs": [
    {
     "name": "stdout",
     "output_type": "stream",
     "text": [
      "Expected values = 301\tActual = 301\n"
     ]
    }
   ],
   "source": [
    "window_size = 12\n",
    "train_data = input_data(train_norm,window_size)\n",
    "print(f'Expected values = {len(y)-len(test_set)-window_size}\\tActual = {len(train_data)}')"
   ]
  },
  {
   "cell_type": "code",
   "execution_count": 36,
   "id": "0e652e65-b526-4fb6-a6e5-966e5275d4b4",
   "metadata": {},
   "outputs": [
    {
     "data": {
      "text/plain": [
       "(tensor([-0.9268, -0.9270, -0.8340, -0.7379, -0.7966, -0.7439, -0.7547, -0.8109,\n",
       "         -0.8128, -0.7901, -0.7933, -0.6743]),\n",
       " tensor([-1.]))"
      ]
     },
     "execution_count": 36,
     "metadata": {},
     "output_type": "execute_result"
    }
   ],
   "source": [
    "train_data[0]"
   ]
  }
 ],
 "metadata": {
  "kernelspec": {
   "display_name": "Python 3 (ipykernel)",
   "language": "python",
   "name": "python3"
  },
  "language_info": {
   "codemirror_mode": {
    "name": "ipython",
    "version": 3
   },
   "file_extension": ".py",
   "mimetype": "text/x-python",
   "name": "python",
   "nbconvert_exporter": "python",
   "pygments_lexer": "ipython3",
   "version": "3.9.7"
  }
 },
 "nbformat": 4,
 "nbformat_minor": 5
}
