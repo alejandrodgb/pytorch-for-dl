{
 "cells": [
  {
   "cell_type": "markdown",
   "id": "bf4cb231-7dae-42cc-8250-480a56d73763",
   "metadata": {},
   "source": [
    "# Libraries"
   ]
  },
  {
   "cell_type": "code",
   "execution_count": 66,
   "id": "1c784dce-d7fd-4c14-bd05-899ad5f47f4f",
   "metadata": {},
   "outputs": [],
   "source": [
    "import torch\n",
    "import torch.nn as nn\n",
    "\n",
    "import time\n",
    "import pandas as pd\n",
    "import numpy as np\n",
    "import matplotlib.pyplot as plt\n",
    "%matplotlib inline\n",
    "\n",
    "from pandas.plotting import register_matplotlib_converters\n",
    "register_matplotlib_converters()"
   ]
  },
  {
   "cell_type": "markdown",
   "id": "18f41e59-e909-4096-b906-f1814017582f",
   "metadata": {},
   "source": [
    "# Data preparation\n",
    "\n",
    "We will be using Federal Reserve Economic Database (FRED) data concerning Sales of Beer, Wine, and Distilled Alcoholic Beverages in millions of dollars from January 1992 to January 2019 (325 records)."
   ]
  },
  {
   "cell_type": "code",
   "execution_count": 2,
   "id": "e272a250-bd92-4ecc-bab9-00fa09f2c8d3",
   "metadata": {},
   "outputs": [
    {
     "data": {
      "text/html": [
       "<div>\n",
       "<style scoped>\n",
       "    .dataframe tbody tr th:only-of-type {\n",
       "        vertical-align: middle;\n",
       "    }\n",
       "\n",
       "    .dataframe tbody tr th {\n",
       "        vertical-align: top;\n",
       "    }\n",
       "\n",
       "    .dataframe thead th {\n",
       "        text-align: right;\n",
       "    }\n",
       "</style>\n",
       "<table border=\"1\" class=\"dataframe\">\n",
       "  <thead>\n",
       "    <tr style=\"text-align: right;\">\n",
       "      <th></th>\n",
       "      <th>S4248SM144NCEN</th>\n",
       "    </tr>\n",
       "    <tr>\n",
       "      <th>DATE</th>\n",
       "      <th></th>\n",
       "    </tr>\n",
       "  </thead>\n",
       "  <tbody>\n",
       "    <tr>\n",
       "      <th>2002-07-01</th>\n",
       "      <td>6958</td>\n",
       "    </tr>\n",
       "    <tr>\n",
       "      <th>1993-06-01</th>\n",
       "      <td>4696</td>\n",
       "    </tr>\n",
       "    <tr>\n",
       "      <th>1995-09-01</th>\n",
       "      <td>4235</td>\n",
       "    </tr>\n",
       "    <tr>\n",
       "      <th>1997-11-01</th>\n",
       "      <td>4831</td>\n",
       "    </tr>\n",
       "    <tr>\n",
       "      <th>2011-01-01</th>\n",
       "      <td>6901</td>\n",
       "    </tr>\n",
       "  </tbody>\n",
       "</table>\n",
       "</div>"
      ],
      "text/plain": [
       "            S4248SM144NCEN\n",
       "DATE                      \n",
       "2002-07-01            6958\n",
       "1993-06-01            4696\n",
       "1995-09-01            4235\n",
       "1997-11-01            4831\n",
       "2011-01-01            6901"
      ]
     },
     "execution_count": 2,
     "metadata": {},
     "output_type": "execute_result"
    }
   ],
   "source": [
    "# Importing the data and using pandas datetime index feature\n",
    "df = pd.read_csv('../Data/TimeSeriesData/Alcohol_Sales.csv', index_col=0, parse_dates=True)\n",
    "df.sample(5)"
   ]
  },
  {
   "cell_type": "code",
   "execution_count": 3,
   "id": "7a7a22db-821b-4767-b96f-4887c7693855",
   "metadata": {},
   "outputs": [
    {
     "data": {
      "text/html": [
       "<div>\n",
       "<style scoped>\n",
       "    .dataframe tbody tr th:only-of-type {\n",
       "        vertical-align: middle;\n",
       "    }\n",
       "\n",
       "    .dataframe tbody tr th {\n",
       "        vertical-align: top;\n",
       "    }\n",
       "\n",
       "    .dataframe thead th {\n",
       "        text-align: right;\n",
       "    }\n",
       "</style>\n",
       "<table border=\"1\" class=\"dataframe\">\n",
       "  <thead>\n",
       "    <tr style=\"text-align: right;\">\n",
       "      <th></th>\n",
       "      <th>S4248SM144NCEN</th>\n",
       "    </tr>\n",
       "    <tr>\n",
       "      <th>DATE</th>\n",
       "      <th></th>\n",
       "    </tr>\n",
       "  </thead>\n",
       "  <tbody>\n",
       "    <tr>\n",
       "      <th>1992-01-01</th>\n",
       "      <td>3459</td>\n",
       "    </tr>\n",
       "    <tr>\n",
       "      <th>1992-02-01</th>\n",
       "      <td>3458</td>\n",
       "    </tr>\n",
       "    <tr>\n",
       "      <th>1992-03-01</th>\n",
       "      <td>4002</td>\n",
       "    </tr>\n",
       "    <tr>\n",
       "      <th>1992-04-01</th>\n",
       "      <td>4564</td>\n",
       "    </tr>\n",
       "    <tr>\n",
       "      <th>1992-05-01</th>\n",
       "      <td>4221</td>\n",
       "    </tr>\n",
       "  </tbody>\n",
       "</table>\n",
       "</div>"
      ],
      "text/plain": [
       "            S4248SM144NCEN\n",
       "DATE                      \n",
       "1992-01-01            3459\n",
       "1992-02-01            3458\n",
       "1992-03-01            4002\n",
       "1992-04-01            4564\n",
       "1992-05-01            4221"
      ]
     },
     "execution_count": 3,
     "metadata": {},
     "output_type": "execute_result"
    }
   ],
   "source": [
    "df.head()"
   ]
  },
  {
   "cell_type": "code",
   "execution_count": 4,
   "id": "a0c127ab-617c-420f-95e1-062f2c228b49",
   "metadata": {},
   "outputs": [
    {
     "name": "stdout",
     "output_type": "stream",
     "text": [
      "(325, 1)\n"
     ]
    },
    {
     "data": {
      "text/plain": [
       "(325, 1)"
      ]
     },
     "execution_count": 4,
     "metadata": {},
     "output_type": "execute_result"
    }
   ],
   "source": [
    "print(df.shape)\n",
    "df = df.dropna()\n",
    "df.shape"
   ]
  },
  {
   "cell_type": "code",
   "execution_count": 5,
   "id": "6ed6bb2c-62ef-453a-84d8-bc78944b89d4",
   "metadata": {},
   "outputs": [
    {
     "data": {
      "image/png": "[encoded data removed]",
      "text/plain": [
       "<Figure size 864x288 with 1 Axes>"
      ]
     },
     "metadata": {
      "needs_background": "light"
     },
     "output_type": "display_data"
    }
   ],
   "source": [
    "plt.figure(figsize=(12,4))\n",
    "plt.plot(df['S4248SM144NCEN'])\n",
    "plt.grid()\n",
    "plt.title('Beer, Wine, and Alcohol Sales')\n",
    "plt.ylabel('Sales (millions of dollars)')\n",
    "plt.autoscale(axis='x',tight=True) # Autoscale x grid around data"
   ]
  },
  {
   "cell_type": "markdown",
   "id": "d0f2e7ed-40d5-436a-8530-33e21ffbc10a",
   "metadata": {},
   "source": [
    "Data type has to be float."
   ]
  },
  {
   "cell_type": "code",
   "execution_count": 6,
   "id": "4dd7916f-c389-4ee4-aa16-58c66e751c0a",
   "metadata": {},
   "outputs": [
    {
     "name": "stdout",
     "output_type": "stream",
     "text": [
      "<class 'pandas.core.frame.DataFrame'>\n",
      "DatetimeIndex: 325 entries, 1992-01-01 to 2019-01-01\n",
      "Data columns (total 1 columns):\n",
      " #   Column          Non-Null Count  Dtype\n",
      "---  ------          --------------  -----\n",
      " 0   S4248SM144NCEN  325 non-null    int64\n",
      "dtypes: int64(1)\n",
      "memory usage: 5.1 KB\n"
     ]
    }
   ],
   "source": [
    "df.info()"
   ]
  },
  {
   "cell_type": "code",
   "execution_count": 7,
   "id": "0984cc2d-4ac6-4e0e-b372-4fb3d8071952",
   "metadata": {},
   "outputs": [],
   "source": [
    "# Extract the values \n",
    "y = df['S4248SM144NCEN'].values.astype(float)\n",
    "\n",
    "# Test size is one full cycle of the seasonality = 12 months\n",
    "test_size = 12\n",
    "\n",
    "train_set = y[:-test_size]\n",
    "test_set = y[-test_size:]"
   ]
  },
  {
   "cell_type": "code",
   "execution_count": 8,
   "id": "ccab4de1-7105-42bc-ae3e-407d67072893",
   "metadata": {},
   "outputs": [
    {
     "data": {
      "text/plain": [
       "array([10415., 12683., 11919., 14138., 14583., 12640., 14257., 12396.,\n",
       "       13914., 14174., 15504., 10718.])"
      ]
     },
     "execution_count": 8,
     "metadata": {},
     "output_type": "execute_result"
    }
   ],
   "source": [
    "test_set"
   ]
  },
  {
   "cell_type": "markdown",
   "id": "8b4052ab-02a2-44f3-bbb5-1b55cd9ebae2",
   "metadata": {},
   "source": [
    "The data in this dataset ranges from thousands in the beginning to tens of thousands towards the end. Normalisation of the dataset will assist with the training and generalisation of the model. In this case we will be using SciKit learn's `MinMaxScaler`."
   ]
  },
  {
   "cell_type": "markdown",
   "id": "9e0ef4d5-12a9-42a2-92d8-16d513faeb1e",
   "metadata": {},
   "source": [
    "## Data scaling"
   ]
  },
  {
   "cell_type": "code",
   "execution_count": 9,
   "id": "71c6c52c-0fba-4891-b9a2-8dbcbb307d6d",
   "metadata": {},
   "outputs": [],
   "source": [
    "from sklearn.preprocessing import MinMaxScaler"
   ]
  },
  {
   "cell_type": "code",
   "execution_count": 10,
   "id": "e4c8f0c7-34db-4cc4-9b5d-eed63d36652a",
   "metadata": {},
   "outputs": [],
   "source": [
    "scaler = MinMaxScaler(feature_range=(-1,1))"
   ]
  },
  {
   "cell_type": "markdown",
   "id": "908bee97-3747-42d7-89a9-9e1689aa7e10",
   "metadata": {},
   "source": [
    "When normalising the data, we will only use the min and max values of the training dataset to avoid data leakage. We need to fit the data, then transform it."
   ]
  },
  {
   "cell_type": "code",
   "execution_count": 11,
   "id": "36352346-9401-49c5-9e21-703052d2d811",
   "metadata": {},
   "outputs": [],
   "source": [
    "scaler.fit(train_set.reshape(-1,1))\n",
    "train_norm = scaler.transform(train_set.reshape(-1,1))"
   ]
  },
  {
   "cell_type": "markdown",
   "id": "1f6609a6-e132-4037-abd3-2e160d66ca2a",
   "metadata": {},
   "source": [
    "## Prepare data for LSTM"
   ]
  },
  {
   "cell_type": "markdown",
   "id": "736bbd68-e569-43a4-b534-dddf6f296625",
   "metadata": {},
   "source": [
    "Once the data has been normalised, it can be transformed to a tensor."
   ]
  },
  {
   "cell_type": "code",
   "execution_count": 12,
   "id": "ea17f74a-407e-4074-a3e0-0afba0950de3",
   "metadata": {},
   "outputs": [],
   "source": [
    "train_norm = torch.FloatTensor(train_norm).view(-1)"
   ]
  },
  {
   "cell_type": "markdown",
   "id": "895e0583-6a21-4da6-9f9c-90db9ab662df",
   "metadata": {},
   "source": [
    "We create the windows for training."
   ]
  },
  {
   "cell_type": "code",
   "execution_count": 13,
   "id": "dafa7510-2db3-4ce6-b5ea-bfdd5138e618",
   "metadata": {},
   "outputs": [],
   "source": [
    "def input_data(seq, ws, l=1):\n",
    "    '''\n",
    "    Creates the windows of data that willb e used for training.\n",
    "    '''\n",
    "    out = []\n",
    "    for i in range(len(seq)-ws):\n",
    "        window = seq[i:i+ws]\n",
    "        label = seq[i+ws:i+ws+l]\n",
    "        out.append((window,label))\n",
    "    return out"
   ]
  },
  {
   "cell_type": "code",
   "execution_count": 14,
   "id": "8c3d25b4-7a00-4a64-aac9-c1558370ea60",
   "metadata": {},
   "outputs": [
    {
     "name": "stdout",
     "output_type": "stream",
     "text": [
      "Expected values = 301\tActual = 301\n"
     ]
    }
   ],
   "source": [
    "window_size = 12\n",
    "train_data = input_data(train_norm,window_size)\n",
    "print(f'Expected values = {len(y)-len(test_set)-window_size}\\tActual = {len(train_data)}')"
   ]
  },
  {
   "cell_type": "code",
   "execution_count": 36,
   "id": "0e652e65-b526-4fb6-a6e5-966e5275d4b4",
   "metadata": {},
   "outputs": [
    {
     "data": {
      "text/plain": [
       "(tensor([-0.9268, -0.9270, -0.8340, -0.7379, -0.7966, -0.7439, -0.7547, -0.8109,\n",
       "         -0.8128, -0.7901, -0.7933, -0.6743]),\n",
       " tensor([-1.]))"
      ]
     },
     "execution_count": 36,
     "metadata": {},
     "output_type": "execute_result"
    }
   ],
   "source": [
    "train_data[0]"
   ]
  },
  {
   "cell_type": "markdown",
   "id": "df0764a8-168c-466a-9d31-554f6447d71f",
   "metadata": {},
   "source": [
    "# Define model"
   ]
  },
  {
   "cell_type": "code",
   "execution_count": 28,
   "id": "642383df-71e7-4e16-88f8-78c80ede7e1b",
   "metadata": {},
   "outputs": [],
   "source": [
    "class LSTMnetwork(nn.Module):\n",
    "    \n",
    "    def __init__(self, input_size=1, hidden_size=100, output_size=1):\n",
    "        super().__init__()\n",
    "        \n",
    "        self.hidden_size = hidden_size\n",
    "        \n",
    "        # Add an LSTM layer\n",
    "        self.lstm = nn.LSTM(input_size,hidden_size)\n",
    "        \n",
    "        # Add a fully connected layer\n",
    "        self.fc1 = nn.Linear(hidden_size,output_size)\n",
    "        \n",
    "        # Initialise h_0 and c_0\n",
    "        self.hidden = (torch.zeros(1,1,self.hidden_size),\n",
    "                       torch.zeros(1,1,self.hidden_size))\n",
    "        \n",
    "    def forward(self, seq):\n",
    "        lstm_out, self.hidden = self.lstm(seq.view(len(seq),1,-1),self.hidden)\n",
    "        pred = self.fc1(lstm_out.view(len(seq),-1))\n",
    "        return pred[-1]"
   ]
  },
  {
   "cell_type": "markdown",
   "id": "83bf834f-46c0-42ba-a06b-07dbd24acb4f",
   "metadata": {},
   "source": [
    "## Define Loss and Optimiser"
   ]
  },
  {
   "cell_type": "code",
   "execution_count": 29,
   "id": "9f35bec1-3851-4d72-8b1e-65670506e1d3",
   "metadata": {},
   "outputs": [],
   "source": [
    "torch.manual_seed(101)\n",
    "\n",
    "model = LSTMnetwork()\n",
    "\n",
    "criterion = nn.MSELoss()\n",
    "optimiser = torch.optim.Adam(model.parameters(),lr=0.001)"
   ]
  },
  {
   "cell_type": "code",
   "execution_count": 30,
   "id": "498ccacc-6234-4eab-b326-cbe82f98954f",
   "metadata": {},
   "outputs": [
    {
     "data": {
      "text/plain": [
       "LSTMnetwork(\n",
       "  (lstm): LSTM(1, 100)\n",
       "  (fc1): Linear(in_features=100, out_features=1, bias=True)\n",
       ")"
      ]
     },
     "execution_count": 30,
     "metadata": {},
     "output_type": "execute_result"
    }
   ],
   "source": [
    "model"
   ]
  },
  {
   "cell_type": "markdown",
   "id": "557e6e3f-49a9-4f4f-9616-2f9c930073c6",
   "metadata": {},
   "source": [
    "# Training"
   ]
  },
  {
   "cell_type": "code",
   "execution_count": 31,
   "id": "2ca5b1fb-6453-4fc1-b7f6-7442de01c6c0",
   "metadata": {},
   "outputs": [
    {
     "name": "stdout",
     "output_type": "stream",
     "text": [
      "Epoch   1\tLoss:  0.25310\n",
      "Epoch   2\tLoss:  0.37532\n",
      "Epoch   3\tLoss:  0.39027\n",
      "Epoch   4\tLoss:  0.34935\n",
      "Epoch   5\tLoss:  0.33086\n",
      "Epoch   6\tLoss:  0.33230\n",
      "Epoch   7\tLoss:  0.32670\n",
      "Epoch   8\tLoss:  0.32074\n",
      "Epoch   9\tLoss:  0.30654\n",
      "Epoch  10\tLoss:  0.29518\n",
      "Epoch  11\tLoss:  0.26934\n",
      "Epoch  12\tLoss:  0.25999\n",
      "Epoch  13\tLoss:  0.24666\n",
      "Epoch  14\tLoss:  0.22404\n",
      "Epoch  15\tLoss:  0.18603\n",
      "Epoch  16\tLoss:  0.18561\n",
      "Epoch  17\tLoss:  0.17210\n",
      "Epoch  18\tLoss:  0.25164\n",
      "Epoch  19\tLoss:  0.22558\n",
      "Epoch  20\tLoss:  0.17456\n",
      "Epoch  21\tLoss:  0.20243\n",
      "Epoch  22\tLoss:  0.20799\n",
      "Epoch  23\tLoss:  0.16629\n",
      "Epoch  24\tLoss:  0.17633\n",
      "Epoch  25\tLoss:  0.11958\n",
      "Epoch  26\tLoss:  0.10084\n",
      "Epoch  27\tLoss:  0.04519\n",
      "Epoch  28\tLoss:  0.09457\n",
      "Epoch  29\tLoss:  0.00009\n",
      "Epoch  30\tLoss:  0.10171\n",
      "Epoch  31\tLoss:  0.00793\n",
      "Epoch  32\tLoss:  0.00039\n",
      "Epoch  33\tLoss:  0.02666\n",
      "Epoch  34\tLoss:  0.01991\n",
      "Epoch  35\tLoss:  0.03767\n",
      "Epoch  36\tLoss:  0.03401\n",
      "Epoch  37\tLoss:  0.03407\n",
      "Epoch  38\tLoss:  0.00003\n",
      "Epoch  39\tLoss:  0.00114\n",
      "Epoch  40\tLoss:  0.00004\n",
      "Epoch  41\tLoss:  0.00464\n",
      "Epoch  42\tLoss:  0.00112\n",
      "Epoch  43\tLoss:  0.00246\n",
      "Epoch  44\tLoss:  0.00099\n",
      "Epoch  45\tLoss:  0.00259\n",
      "Epoch  46\tLoss:  0.00183\n",
      "Epoch  47\tLoss:  0.00409\n",
      "Epoch  48\tLoss:  0.00373\n",
      "Epoch  49\tLoss:  0.00632\n",
      "Epoch  50\tLoss:  0.00578\n",
      "Epoch  51\tLoss:  0.00507\n",
      "Epoch  52\tLoss:  0.00770\n",
      "Epoch  53\tLoss:  0.01679\n",
      "Epoch  54\tLoss:  0.00062\n",
      "Epoch  55\tLoss:  0.00345\n",
      "Epoch  56\tLoss:  0.00138\n",
      "Epoch  57\tLoss:  0.00186\n",
      "Epoch  58\tLoss:  0.00008\n",
      "Epoch  59\tLoss:  0.00057\n",
      "Epoch  60\tLoss:  0.00046\n",
      "Epoch  61\tLoss:  0.00106\n",
      "Epoch  62\tLoss:  0.00001\n",
      "Epoch  63\tLoss:  0.00019\n",
      "Epoch  64\tLoss:  0.00003\n",
      "Epoch  65\tLoss:  0.00015\n",
      "Epoch  66\tLoss:  0.00001\n",
      "Epoch  67\tLoss:  0.00038\n",
      "Epoch  68\tLoss:  0.00011\n",
      "Epoch  69\tLoss:  0.00000\n",
      "Epoch  70\tLoss:  0.00007\n",
      "Epoch  71\tLoss:  0.00000\n",
      "Epoch  72\tLoss:  0.00014\n",
      "Epoch  73\tLoss:  0.00076\n",
      "Epoch  74\tLoss:  0.00005\n",
      "Epoch  75\tLoss:  0.00028\n",
      "Epoch  76\tLoss:  0.00003\n",
      "Epoch  77\tLoss:  0.00044\n",
      "Epoch  78\tLoss:  0.00048\n",
      "Epoch  79\tLoss:  0.00043\n",
      "Epoch  80\tLoss:  0.00054\n",
      "Epoch  81\tLoss:  0.00021\n",
      "Epoch  82\tLoss:  0.00014\n",
      "Epoch  83\tLoss:  0.00000\n",
      "Epoch  84\tLoss:  0.00026\n",
      "Epoch  85\tLoss:  0.00083\n",
      "Epoch  86\tLoss:  0.00040\n",
      "Epoch  87\tLoss:  0.00066\n",
      "Epoch  88\tLoss:  0.00125\n",
      "Epoch  89\tLoss:  0.00254\n",
      "Epoch  90\tLoss:  0.00036\n",
      "Epoch  91\tLoss:  0.00029\n",
      "Epoch  92\tLoss:  0.00008\n",
      "Epoch  93\tLoss:  0.00141\n",
      "Epoch  94\tLoss:  0.00017\n",
      "Epoch  95\tLoss:  0.00173\n",
      "Epoch  96\tLoss:  0.00028\n",
      "Epoch  97\tLoss:  0.00001\n",
      "Epoch  98\tLoss:  0.00004\n",
      "Epoch  99\tLoss:  0.00036\n",
      "Epoch 100\tLoss:  0.00001\n",
      "Completed in 1.13 mins\n"
     ]
    }
   ],
   "source": [
    "epochs = 100\n",
    "\n",
    "start_time = time.time()\n",
    "\n",
    "for i in range(epochs):\n",
    "    \n",
    "    for seq, y_train in train_data:\n",
    "        \n",
    "        # Reset parameters and hidden states\n",
    "        optimiser.zero_grad()\n",
    "        model.hidden = (torch.zeros(1,1,model.hidden_size),\n",
    "                        torch.zeros(1,1,model.hidden_size))\n",
    "        \n",
    "        # Predict\n",
    "        y_pred = model(seq)\n",
    "        \n",
    "        # Calculate loss and backpropagate\n",
    "        loss = criterion(y_pred,y_train)\n",
    "        loss.backward()\n",
    "        optimiser.step()\n",
    "        \n",
    "    print(f'Epoch {i+1:3}\\tLoss: {loss:8.5f}')\n",
    "\n",
    "        \n",
    "total_time = time.time() - start_time\n",
    "print(f'Completed in {total_time/60:.2f} mins')"
   ]
  },
  {
   "cell_type": "markdown",
   "id": "a16ebeef-8c3e-470c-ad90-8723aa042306",
   "metadata": {},
   "source": [
    "# Model evaluation"
   ]
  },
  {
   "cell_type": "code",
   "execution_count": 34,
   "id": "aa5103df-af0c-4672-8676-284b447a6ce6",
   "metadata": {},
   "outputs": [],
   "source": [
    "future = 12\n",
    "\n",
    "# Grab the last window of the training set to start predictions\n",
    "preds = train_norm[-window_size:].tolist()\n",
    "\n",
    "model.eval()\n",
    "\n",
    "for i in range(future):\n",
    "    seq = torch.FloatTensor(preds[-window_size:])\n",
    "    \n",
    "    with torch.no_grad():\n",
    "        model.hidden = (torch.zeros(1,1,model.hidden_size),\n",
    "                        torch.zeros(1,1,model.hidden_size))\n",
    "        preds.append(model(seq).item())"
   ]
  },
  {
   "cell_type": "markdown",
   "id": "8a00b61c-4304-42bc-8c13-c8a50aade220",
   "metadata": {},
   "source": [
    "When looking at the predictions, we can see they are normalised. To compare to the right values the normalisation needs to be inverted.\n",
    "\n",
    "The `scaler` object created with the `MinMaxScaler` has an `inverse_transform` function."
   ]
  },
  {
   "cell_type": "code",
   "execution_count": 38,
   "id": "8c881cdf-cec8-43d7-be18-5f4ca156c177",
   "metadata": {},
   "outputs": [
    {
     "data": {
      "text/plain": [
       "array([[10342.98901096],\n",
       "       [13371.71630904],\n",
       "       [11057.17981285],\n",
       "       [13735.24705338],\n",
       "       [13838.95832589],\n",
       "       [11777.73587801],\n",
       "       [13776.42488337],\n",
       "       [12052.86262867],\n",
       "       [12935.27328959],\n",
       "       [12598.74536121],\n",
       "       [12609.34140733],\n",
       "       [10369.80355194]])"
      ]
     },
     "execution_count": 38,
     "metadata": {},
     "output_type": "execute_result"
    }
   ],
   "source": [
    "true_preds = scaler.inverse_transform(np.array(preds[window_size:]).reshape(-1,1))\n",
    "true_preds"
   ]
  },
  {
   "cell_type": "markdown",
   "id": "642531c1-8ea4-4fb0-b52b-1a5480278092",
   "metadata": {},
   "source": [
    "We will compare the true values from the data to the predictions of our model"
   ]
  },
  {
   "cell_type": "code",
   "execution_count": 52,
   "id": "4b049e18-0d29-45aa-a8ac-a539bcfbfa62",
   "metadata": {},
   "outputs": [
    {
     "data": {
      "image/png": "[encoded data removed]",
      "text/plain": [
       "<Figure size 1008x360 with 1 Axes>"
      ]
     },
     "metadata": {
      "needs_background": "light"
     },
     "output_type": "display_data"
    }
   ],
   "source": [
    "pd.DataFrame({'Target':df['S4248SM144NCEN'][-12:],'Preds':true_preds.reshape(-1)}).plot(figsize=(14,5))\n",
    "plt.grid()"
   ]
  },
  {
   "cell_type": "markdown",
   "id": "be55e443-69eb-4c2e-b26b-b59b43f15926",
   "metadata": {},
   "source": [
    "# Forecasting\n",
    "\n",
    "To forecast first we will:\n",
    "1. Normalise the entire dataset\n",
    "2. Create windows for training\n",
    "3. Train the model with the entirety of the data\n",
    "4. Forecast new values\n",
    "5. Invert the normalisation\n",
    "6. Plot the results."
   ]
  },
  {
   "cell_type": "markdown",
   "id": "65a7c093-6134-4117-9f65-6617646a6f81",
   "metadata": {},
   "source": [
    "## Scaling the data"
   ]
  },
  {
   "cell_type": "code",
   "execution_count": 86,
   "id": "af294f73-c1c5-4f38-81f7-9f1087c5f081",
   "metadata": {},
   "outputs": [],
   "source": [
    "# Normalise the entire dataset and convert to a tensor\n",
    "scaler = MinMaxScaler(feature_range=(-1,1))\n",
    "scaler.fit(y.reshape(-1,1))\n",
    "y_norm = scaler.transform(y.reshape(-1,1))"
   ]
  },
  {
   "cell_type": "markdown",
   "id": "ef8e9d31-e8f3-4f7d-9a94-025b329168ec",
   "metadata": {},
   "source": [
    "When converting to a tensor data has to be flattened"
   ]
  },
  {
   "cell_type": "code",
   "execution_count": 87,
   "id": "188239df-139b-4e58-9858-47b97211e8fd",
   "metadata": {},
   "outputs": [
    {
     "data": {
      "text/plain": [
       "torch.Size([325])"
      ]
     },
     "execution_count": 87,
     "metadata": {},
     "output_type": "execute_result"
    }
   ],
   "source": [
    "y_norm = torch.FloatTensor(y_norm).view(-1)\n",
    "y_norm.shape"
   ]
  },
  {
   "cell_type": "markdown",
   "id": "38548f9e-8237-4404-8e27-b97a7544b26d",
   "metadata": {},
   "source": [
    "## Creating training windows"
   ]
  },
  {
   "cell_type": "code",
   "execution_count": 88,
   "id": "61f4feae-3cd1-4ad1-9101-8dce1695517e",
   "metadata": {},
   "outputs": [
    {
     "name": "stdout",
     "output_type": "stream",
     "text": [
      "Expected = 313\tActual = 313\n"
     ]
    }
   ],
   "source": [
    "# Create windows for all data\n",
    "window_size = 12\n",
    "\n",
    "all_data = input_data(y_norm,window_size)\n",
    "print(f'Expected = {len(y)-12}\\tActual = {len(all_data)}')"
   ]
  },
  {
   "cell_type": "markdown",
   "id": "39d65912-fd94-4049-8707-45258112916f",
   "metadata": {},
   "source": [
    "## Train the model"
   ]
  },
  {
   "cell_type": "code",
   "execution_count": 89,
   "id": "99334607-cb1f-4d34-bac5-916e5b4d386b",
   "metadata": {},
   "outputs": [
    {
     "name": "stdout",
     "output_type": "stream",
     "text": [
      "Epoch   1\tLoss:  0.01402\n",
      "Epoch  11\tLoss:  0.00683\n",
      "Epoch  21\tLoss:  0.00101\n",
      "Epoch  31\tLoss:  0.00073\n",
      "Epoch  41\tLoss:  0.00359\n",
      "Epoch  51\tLoss:  0.00017\n",
      "Epoch  61\tLoss:  0.00147\n",
      "Epoch  71\tLoss:  0.00770\n",
      "Epoch  81\tLoss:  0.00259\n",
      "Epoch  91\tLoss:  0.00107\n",
      "Completed in 1.08 mins\n"
     ]
    }
   ],
   "source": [
    "epochs = 100\n",
    "\n",
    "model.train()\n",
    "\n",
    "start_time = time.time()\n",
    "\n",
    "for i in range(epochs):\n",
    "    \n",
    "    for seq, y in all_data:\n",
    "        \n",
    "        # Reset parameters and hidden states\n",
    "        optimiser.zero_grad()\n",
    "        model.hidden = (torch.zeros(1,1,model.hidden_size),\n",
    "                        torch.zeros(1,1,model.hidden_size))\n",
    "        \n",
    "        # Predict\n",
    "        pred = model(seq)\n",
    "        \n",
    "        # Calculate loss and backpropagate\n",
    "        loss = criterion(pred,y)\n",
    "        loss.backward()\n",
    "        optimiser.step()\n",
    "        \n",
    "    if i%10==0:\n",
    "        print(f'Epoch {i+1:3}\\tLoss: {loss:8.5f}')\n",
    "\n",
    "        \n",
    "total_time = time.time() - start_time\n",
    "print(f'Completed in {total_time/60:.2f} mins')"
   ]
  },
  {
   "cell_type": "markdown",
   "id": "e4f97bef-d31e-41cd-8ebc-61c1637caa9e",
   "metadata": {},
   "source": [
    "## Forecast new values"
   ]
  },
  {
   "cell_type": "code",
   "execution_count": 171,
   "id": "13fa7b1b-69f3-4c0d-9e10-5998db58daeb",
   "metadata": {},
   "outputs": [],
   "source": [
    "window_size = 12\n",
    "future = 12\n",
    "\n",
    "# Grab the last window of the training set to start predictions\n",
    "preds = y_norm[-window_size:].tolist()\n",
    "\n",
    "model.eval()\n",
    "\n",
    "for i in range(future):\n",
    "    seq = torch.FloatTensor(preds[-window_size:])\n",
    "    \n",
    "    with torch.no_grad():\n",
    "        model.hidden = (torch.zeros(1,1,model.hidden_size),\n",
    "                        torch.zeros(1,1,model.hidden_size))\n",
    "        preds.append(model(seq).item())"
   ]
  },
  {
   "cell_type": "markdown",
   "id": "b40bb788-c1eb-4850-ad6e-e126989809be",
   "metadata": {},
   "source": [
    "## Invert normalisation"
   ]
  },
  {
   "cell_type": "code",
   "execution_count": 172,
   "id": "22caa240-20a9-425c-a612-e4997e726d05",
   "metadata": {},
   "outputs": [],
   "source": [
    "denorm_preds = scaler.inverse_transform(np.array(preds[-future:]).reshape(-1,1))"
   ]
  },
  {
   "cell_type": "markdown",
   "id": "0a002877-6167-4efc-a820-d4d7d49e80f6",
   "metadata": {},
   "source": [
    "## Plot result"
   ]
  },
  {
   "cell_type": "code",
   "execution_count": 173,
   "id": "6505b2bc-f39c-4782-b096-078a80c218b6",
   "metadata": {},
   "outputs": [
    {
     "data": {
      "image/png": "[encoded data removed]",
      "text/plain": [
       "<Figure size 1440x360 with 1 Axes>"
      ]
     },
     "metadata": {
      "needs_background": "light"
     },
     "output_type": "display_data"
    }
   ],
   "source": [
    "# Create datetime index for the new predictions\n",
    "\n",
    "x = np.arange(start=df.iloc[-1].name+pd.DateOffset(months=1),stop=df.iloc[-1].name+pd.DateOffset(months=future+1),dtype='datetime64[M]').astype('datetime64[D]')\n",
    "df['Type'] = 'Actual'\n",
    "forecast_df = pd.concat([df,pd.DataFrame({'Forecast':denorm_preds.reshape(-1)}, index=x)])\n",
    "\n",
    "\n",
    "# Plot results\n",
    "forecast_df.loc['2017-01-01':].plot(figsize=(20,5),\n",
    "                                    title='Beer, Wine, and Alcohol Sales Forecast',\n",
    "                                    ylabel='Sales (Millions)')\n",
    "plt.grid()"
   ]
  }
 ],
 "metadata": {
  "kernelspec": {
   "display_name": "Python 3 (ipykernel)",
   "language": "python",
   "name": "python3"
  },
  "language_info": {
   "codemirror_mode": {
    "name": "ipython",
    "version": 3
   },
   "file_extension": ".py",
   "mimetype": "text/x-python",
   "name": "python",
   "nbconvert_exporter": "python",
   "pygments_lexer": "ipython3",
   "version": "3.9.7"
  }
 },
 "nbformat": 4,
 "nbformat_minor": 5
}
