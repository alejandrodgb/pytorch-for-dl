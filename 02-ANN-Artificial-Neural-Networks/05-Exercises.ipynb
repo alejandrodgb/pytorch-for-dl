{
 "cells": [
  {
   "cell_type": "markdown",
   "id": "7a1a116a-79cb-4d2b-a5d2-b22578e85be7",
   "metadata": {},
   "source": [
    "# Library Imports"
   ]
  },
  {
   "cell_type": "code",
   "execution_count": 58,
   "id": "00e52185-0ffb-4184-9920-85d623e20477",
   "metadata": {},
   "outputs": [],
   "source": [
    "import torch\n",
    "import torch.nn as nn\n",
    "from torch.utils.data import DataLoader, TensorDataset\n",
    "\n",
    "from sklearn.metrics import confusion_matrix\n",
    "from sklearn.utils import shuffle\n",
    "import seaborn as sns\n",
    "\n",
    "import numpy as np\n",
    "import pandas as pd\n",
    "import matplotlib.pyplot as plt\n",
    "\n",
    "import time"
   ]
  },
  {
   "cell_type": "markdown",
   "id": "3556ba0e-b73e-4d62-9c23-dfe5fa5f96e7",
   "metadata": {},
   "source": [
    "# Goal"
   ]
  },
  {
   "cell_type": "markdown",
   "id": "5f3f4cb0-7af0-49b7-adde-9d9a3ad2bdfb",
   "metadata": {},
   "source": [
    "To determine whether an individual earns more than $50K based on a set of continuous and categorical variables."
   ]
  },
  {
   "cell_type": "markdown",
   "id": "2b6365d7-7fb3-48b6-91a3-83e0c3daeb97",
   "metadata": {
    "tags": []
   },
   "source": [
    "# Data"
   ]
  },
  {
   "cell_type": "markdown",
   "id": "c1ed7327-57c2-46ac-a4fd-891c68cd1486",
   "metadata": {
    "tags": []
   },
   "source": [
    "## Census Income Dataset"
   ]
  },
  {
   "cell_type": "markdown",
   "id": "2cd15d7a-2632-4ed5-8d8c-0b1ba8234a1e",
   "metadata": {},
   "source": [
    "For this exercises we're using the Census Income dataset available from the <a href='http://archive.ics.uci.edu/ml/datasets/Adult'>UC Irvine Machine Learning Repository</a>.\n",
    "\n",
    "The full dataset has 48,842 entries. For this exercise we have reduced the number of records, fields and field entries, and have removed entries with null values. The file <strong>income.csv</strong> has\t30,000 entries\n",
    "\n",
    "Each entry contains the following information about an individual:\n",
    "* <strong>age</strong>: the age of an individual as an integer from 18 to 90 (continuous)\n",
    "* <strong>sex</strong>: Male or Female (categorical)\n",
    "* <strong>education</strong>: represents the highest level of education achieved by an individual (categorical)\n",
    "* <strong>education_num</strong>: represents education as an integer from 3 to 16 (categorical)\n",
    "<div><table style=\"display: inline-block\">\n",
    "<tr><td>3</td><td>5th-6th</td><td>8</td><td>12th</td><td>13</td><td>Bachelors</td></tr>\n",
    "<tr><td>4</td><td>7th-8th</td><td>9</td><td>HS-grad</td><td>14</td><td>Masters</td></tr>\n",
    "<tr><td>5</td><td>9th</td><td>10</td><td>Some-college</td><td>15</td><td>Prof-school</td></tr>\n",
    "<tr><td>6</td><td>10th</td><td>11</td><td>Assoc-voc</td><td>16</td><td>Doctorate</td></tr>\n",
    "<tr><td>7</td><td>11th</td><td>12</td><td>Assoc-acdm</td></tr>\n",
    "</table></div>\n",
    "* <strong>marital-status</strong>: marital status of an individual (categorical)\n",
    "<div><table style=\"display: inline-block\">\n",
    "<tr><td>Married</td><td>Divorced</td><td>Married-spouse-absent</td></tr>\n",
    "<tr><td>Separated</td><td>Widowed</td><td>Never-married</td></tr>\n",
    "</table></div>\n",
    "* <strong>workclass</strong>: a general term to represent the employment status of an individual (categorical)\n",
    "<div><table style=\"display: inline-block\">\n",
    "<tr><td>Local-gov</td><td>Private</td></tr>\n",
    "<tr><td>State-gov</td><td>Self-emp</td></tr>\n",
    "<tr><td>Federal-gov</td></tr>\n",
    "</table></div>\n",
    "* <strong>occupation</strong>: the general type of occupation of an individual (categorical)\n",
    "<div><table style=\"display: inline-block\">\n",
    "<tr><td>Adm-clerical</td><td>Handlers-cleaners</td><td>Protective-serv</td></tr>\n",
    "<tr><td>Craft-repair</td><td>Machine-op-inspct</td><td>Sales</td></tr>\n",
    "<tr><td>Exec-managerial</td><td>Other-service</td><td>Tech-support</td></tr>\n",
    "<tr><td>Farming-fishing</td><td>Prof-specialty</td><td>Transport-moving</td></tr>\n",
    "</table></div>\n",
    "* <strong>hours-per-week</strong>: the hours an individual has reported to work per week as an integer from 20 to 90 (continuous)\n",
    "* <strong>income</strong>: whether or not an individual makes more than \\\\$50,000 annually (label)\n",
    "* <strong>label</strong>: income represented as an integer (0: <=\\\\$50K, 1: >\\\\$50K) (optional label)"
   ]
  },
  {
   "cell_type": "code",
   "execution_count": 30,
   "id": "cced56e8-00b0-4664-ae98-66fb3bf85f8a",
   "metadata": {},
   "outputs": [
    {
     "data": {
      "text/html": [
       "<div>\n",
       "<style scoped>\n",
       "    .dataframe tbody tr th:only-of-type {\n",
       "        vertical-align: middle;\n",
       "    }\n",
       "\n",
       "    .dataframe tbody tr th {\n",
       "        vertical-align: top;\n",
       "    }\n",
       "\n",
       "    .dataframe thead th {\n",
       "        text-align: right;\n",
       "    }\n",
       "</style>\n",
       "<table border=\"1\" class=\"dataframe\">\n",
       "  <thead>\n",
       "    <tr style=\"text-align: right;\">\n",
       "      <th></th>\n",
       "      <th>age</th>\n",
       "      <th>sex</th>\n",
       "      <th>education</th>\n",
       "      <th>education-num</th>\n",
       "      <th>marital-status</th>\n",
       "      <th>workclass</th>\n",
       "      <th>occupation</th>\n",
       "      <th>hours-per-week</th>\n",
       "      <th>income</th>\n",
       "      <th>label</th>\n",
       "    </tr>\n",
       "  </thead>\n",
       "  <tbody>\n",
       "    <tr>\n",
       "      <th>0</th>\n",
       "      <td>27</td>\n",
       "      <td>Male</td>\n",
       "      <td>HS-grad</td>\n",
       "      <td>9</td>\n",
       "      <td>Never-married</td>\n",
       "      <td>Private</td>\n",
       "      <td>Craft-repair</td>\n",
       "      <td>40</td>\n",
       "      <td>&lt;=50K</td>\n",
       "      <td>0</td>\n",
       "    </tr>\n",
       "    <tr>\n",
       "      <th>1</th>\n",
       "      <td>47</td>\n",
       "      <td>Male</td>\n",
       "      <td>Masters</td>\n",
       "      <td>14</td>\n",
       "      <td>Married</td>\n",
       "      <td>Local-gov</td>\n",
       "      <td>Exec-managerial</td>\n",
       "      <td>50</td>\n",
       "      <td>&gt;50K</td>\n",
       "      <td>1</td>\n",
       "    </tr>\n",
       "    <tr>\n",
       "      <th>2</th>\n",
       "      <td>59</td>\n",
       "      <td>Male</td>\n",
       "      <td>HS-grad</td>\n",
       "      <td>9</td>\n",
       "      <td>Divorced</td>\n",
       "      <td>Self-emp</td>\n",
       "      <td>Prof-specialty</td>\n",
       "      <td>20</td>\n",
       "      <td>&lt;=50K</td>\n",
       "      <td>0</td>\n",
       "    </tr>\n",
       "    <tr>\n",
       "      <th>3</th>\n",
       "      <td>38</td>\n",
       "      <td>Female</td>\n",
       "      <td>Prof-school</td>\n",
       "      <td>15</td>\n",
       "      <td>Never-married</td>\n",
       "      <td>Federal-gov</td>\n",
       "      <td>Prof-specialty</td>\n",
       "      <td>57</td>\n",
       "      <td>&gt;50K</td>\n",
       "      <td>1</td>\n",
       "    </tr>\n",
       "    <tr>\n",
       "      <th>4</th>\n",
       "      <td>64</td>\n",
       "      <td>Female</td>\n",
       "      <td>11th</td>\n",
       "      <td>7</td>\n",
       "      <td>Widowed</td>\n",
       "      <td>Private</td>\n",
       "      <td>Farming-fishing</td>\n",
       "      <td>40</td>\n",
       "      <td>&lt;=50K</td>\n",
       "      <td>0</td>\n",
       "    </tr>\n",
       "  </tbody>\n",
       "</table>\n",
       "</div>"
      ],
      "text/plain": [
       "   age     sex    education  education-num marital-status    workclass  \\\n",
       "0   27    Male      HS-grad              9  Never-married      Private   \n",
       "1   47    Male      Masters             14        Married    Local-gov   \n",
       "2   59    Male      HS-grad              9       Divorced     Self-emp   \n",
       "3   38  Female  Prof-school             15  Never-married  Federal-gov   \n",
       "4   64  Female         11th              7        Widowed      Private   \n",
       "\n",
       "        occupation  hours-per-week income  label  \n",
       "0     Craft-repair              40  <=50K      0  \n",
       "1  Exec-managerial              50   >50K      1  \n",
       "2   Prof-specialty              20  <=50K      0  \n",
       "3   Prof-specialty              57   >50K      1  \n",
       "4  Farming-fishing              40  <=50K      0  "
      ]
     },
     "execution_count": 30,
     "metadata": {},
     "output_type": "execute_result"
    }
   ],
   "source": [
    "df = pd.read_csv('../Data/income.csv')\n",
    "df.head()"
   ]
  },
  {
   "cell_type": "code",
   "execution_count": 31,
   "id": "9bb05c44-a4f3-4626-90e8-99bc3f3c835d",
   "metadata": {},
   "outputs": [
    {
     "data": {
      "text/html": [
       "<div>\n",
       "<style scoped>\n",
       "    .dataframe tbody tr th:only-of-type {\n",
       "        vertical-align: middle;\n",
       "    }\n",
       "\n",
       "    .dataframe tbody tr th {\n",
       "        vertical-align: top;\n",
       "    }\n",
       "\n",
       "    .dataframe thead th {\n",
       "        text-align: right;\n",
       "    }\n",
       "</style>\n",
       "<table border=\"1\" class=\"dataframe\">\n",
       "  <thead>\n",
       "    <tr style=\"text-align: right;\">\n",
       "      <th></th>\n",
       "      <th>age</th>\n",
       "      <th>sex</th>\n",
       "      <th>education</th>\n",
       "      <th>education-num</th>\n",
       "      <th>marital-status</th>\n",
       "      <th>workclass</th>\n",
       "      <th>occupation</th>\n",
       "      <th>hours-per-week</th>\n",
       "      <th>income</th>\n",
       "      <th>label</th>\n",
       "    </tr>\n",
       "  </thead>\n",
       "  <tbody>\n",
       "    <tr>\n",
       "      <th>count</th>\n",
       "      <td>30000.000000</td>\n",
       "      <td>30000</td>\n",
       "      <td>30000</td>\n",
       "      <td>30000.000000</td>\n",
       "      <td>30000</td>\n",
       "      <td>30000</td>\n",
       "      <td>30000</td>\n",
       "      <td>30000.000000</td>\n",
       "      <td>30000</td>\n",
       "      <td>30000.000000</td>\n",
       "    </tr>\n",
       "    <tr>\n",
       "      <th>unique</th>\n",
       "      <td>NaN</td>\n",
       "      <td>2</td>\n",
       "      <td>14</td>\n",
       "      <td>NaN</td>\n",
       "      <td>6</td>\n",
       "      <td>5</td>\n",
       "      <td>12</td>\n",
       "      <td>NaN</td>\n",
       "      <td>2</td>\n",
       "      <td>NaN</td>\n",
       "    </tr>\n",
       "    <tr>\n",
       "      <th>top</th>\n",
       "      <td>NaN</td>\n",
       "      <td>Male</td>\n",
       "      <td>HS-grad</td>\n",
       "      <td>NaN</td>\n",
       "      <td>Married</td>\n",
       "      <td>Private</td>\n",
       "      <td>Exec-managerial</td>\n",
       "      <td>NaN</td>\n",
       "      <td>&lt;=50K</td>\n",
       "      <td>NaN</td>\n",
       "    </tr>\n",
       "    <tr>\n",
       "      <th>freq</th>\n",
       "      <td>NaN</td>\n",
       "      <td>19671</td>\n",
       "      <td>9610</td>\n",
       "      <td>NaN</td>\n",
       "      <td>12390</td>\n",
       "      <td>22725</td>\n",
       "      <td>4227</td>\n",
       "      <td>NaN</td>\n",
       "      <td>21700</td>\n",
       "      <td>NaN</td>\n",
       "    </tr>\n",
       "    <tr>\n",
       "      <th>mean</th>\n",
       "      <td>37.144100</td>\n",
       "      <td>NaN</td>\n",
       "      <td>NaN</td>\n",
       "      <td>10.280133</td>\n",
       "      <td>NaN</td>\n",
       "      <td>NaN</td>\n",
       "      <td>NaN</td>\n",
       "      <td>41.384033</td>\n",
       "      <td>NaN</td>\n",
       "      <td>0.276667</td>\n",
       "    </tr>\n",
       "    <tr>\n",
       "      <th>std</th>\n",
       "      <td>12.856173</td>\n",
       "      <td>NaN</td>\n",
       "      <td>NaN</td>\n",
       "      <td>2.479556</td>\n",
       "      <td>NaN</td>\n",
       "      <td>NaN</td>\n",
       "      <td>NaN</td>\n",
       "      <td>9.684555</td>\n",
       "      <td>NaN</td>\n",
       "      <td>0.447358</td>\n",
       "    </tr>\n",
       "    <tr>\n",
       "      <th>min</th>\n",
       "      <td>18.000000</td>\n",
       "      <td>NaN</td>\n",
       "      <td>NaN</td>\n",
       "      <td>3.000000</td>\n",
       "      <td>NaN</td>\n",
       "      <td>NaN</td>\n",
       "      <td>NaN</td>\n",
       "      <td>20.000000</td>\n",
       "      <td>NaN</td>\n",
       "      <td>0.000000</td>\n",
       "    </tr>\n",
       "    <tr>\n",
       "      <th>25%</th>\n",
       "      <td>26.000000</td>\n",
       "      <td>NaN</td>\n",
       "      <td>NaN</td>\n",
       "      <td>9.000000</td>\n",
       "      <td>NaN</td>\n",
       "      <td>NaN</td>\n",
       "      <td>NaN</td>\n",
       "      <td>40.000000</td>\n",
       "      <td>NaN</td>\n",
       "      <td>0.000000</td>\n",
       "    </tr>\n",
       "    <tr>\n",
       "      <th>50%</th>\n",
       "      <td>36.000000</td>\n",
       "      <td>NaN</td>\n",
       "      <td>NaN</td>\n",
       "      <td>10.000000</td>\n",
       "      <td>NaN</td>\n",
       "      <td>NaN</td>\n",
       "      <td>NaN</td>\n",
       "      <td>40.000000</td>\n",
       "      <td>NaN</td>\n",
       "      <td>0.000000</td>\n",
       "    </tr>\n",
       "    <tr>\n",
       "      <th>75%</th>\n",
       "      <td>46.000000</td>\n",
       "      <td>NaN</td>\n",
       "      <td>NaN</td>\n",
       "      <td>13.000000</td>\n",
       "      <td>NaN</td>\n",
       "      <td>NaN</td>\n",
       "      <td>NaN</td>\n",
       "      <td>45.000000</td>\n",
       "      <td>NaN</td>\n",
       "      <td>1.000000</td>\n",
       "    </tr>\n",
       "    <tr>\n",
       "      <th>max</th>\n",
       "      <td>90.000000</td>\n",
       "      <td>NaN</td>\n",
       "      <td>NaN</td>\n",
       "      <td>16.000000</td>\n",
       "      <td>NaN</td>\n",
       "      <td>NaN</td>\n",
       "      <td>NaN</td>\n",
       "      <td>90.000000</td>\n",
       "      <td>NaN</td>\n",
       "      <td>1.000000</td>\n",
       "    </tr>\n",
       "  </tbody>\n",
       "</table>\n",
       "</div>"
      ],
      "text/plain": [
       "                 age    sex education  education-num marital-status workclass  \\\n",
       "count   30000.000000  30000     30000   30000.000000          30000     30000   \n",
       "unique           NaN      2        14            NaN              6         5   \n",
       "top              NaN   Male   HS-grad            NaN        Married   Private   \n",
       "freq             NaN  19671      9610            NaN          12390     22725   \n",
       "mean       37.144100    NaN       NaN      10.280133            NaN       NaN   \n",
       "std        12.856173    NaN       NaN       2.479556            NaN       NaN   \n",
       "min        18.000000    NaN       NaN       3.000000            NaN       NaN   \n",
       "25%        26.000000    NaN       NaN       9.000000            NaN       NaN   \n",
       "50%        36.000000    NaN       NaN      10.000000            NaN       NaN   \n",
       "75%        46.000000    NaN       NaN      13.000000            NaN       NaN   \n",
       "max        90.000000    NaN       NaN      16.000000            NaN       NaN   \n",
       "\n",
       "             occupation  hours-per-week income         label  \n",
       "count             30000    30000.000000  30000  30000.000000  \n",
       "unique               12             NaN      2           NaN  \n",
       "top     Exec-managerial             NaN  <=50K           NaN  \n",
       "freq               4227             NaN  21700           NaN  \n",
       "mean                NaN       41.384033    NaN      0.276667  \n",
       "std                 NaN        9.684555    NaN      0.447358  \n",
       "min                 NaN       20.000000    NaN      0.000000  \n",
       "25%                 NaN       40.000000    NaN      0.000000  \n",
       "50%                 NaN       40.000000    NaN      0.000000  \n",
       "75%                 NaN       45.000000    NaN      1.000000  \n",
       "max                 NaN       90.000000    NaN      1.000000  "
      ]
     },
     "execution_count": 31,
     "metadata": {},
     "output_type": "execute_result"
    }
   ],
   "source": [
    "df.describe(include='all')"
   ]
  },
  {
   "cell_type": "code",
   "execution_count": 32,
   "id": "aa3056ad-97e4-4c05-9891-fe4a94230ad8",
   "metadata": {},
   "outputs": [
    {
     "name": "stdout",
     "output_type": "stream",
     "text": [
      "<class 'pandas.core.frame.DataFrame'>\n",
      "RangeIndex: 30000 entries, 0 to 29999\n",
      "Data columns (total 10 columns):\n",
      " #   Column          Non-Null Count  Dtype \n",
      "---  ------          --------------  ----- \n",
      " 0   age             30000 non-null  int64 \n",
      " 1   sex             30000 non-null  object\n",
      " 2   education       30000 non-null  object\n",
      " 3   education-num   30000 non-null  int64 \n",
      " 4   marital-status  30000 non-null  object\n",
      " 5   workclass       30000 non-null  object\n",
      " 6   occupation      30000 non-null  object\n",
      " 7   hours-per-week  30000 non-null  int64 \n",
      " 8   income          30000 non-null  object\n",
      " 9   label           30000 non-null  int64 \n",
      "dtypes: int64(4), object(6)\n",
      "memory usage: 2.3+ MB\n"
     ]
    }
   ],
   "source": [
    "df.info()"
   ]
  },
  {
   "cell_type": "markdown",
   "id": "cd3691ef-96fe-4132-9cf8-81ddf10ab837",
   "metadata": {},
   "source": [
    "# Creating the model"
   ]
  },
  {
   "cell_type": "markdown",
   "id": "0e4b0d62-141e-4cd8-9ac3-bcc3f0333839",
   "metadata": {},
   "source": [
    "## Separate continous, categorical, and label column names"
   ]
  },
  {
   "cell_type": "code",
   "execution_count": 33,
   "id": "b689f16c-da9b-46b5-9451-73f2def744c0",
   "metadata": {},
   "outputs": [
    {
     "data": {
      "text/plain": [
       "Index(['age', 'sex', 'education', 'education-num', 'marital-status',\n",
       "       'workclass', 'occupation', 'hours-per-week', 'income', 'label'],\n",
       "      dtype='object')"
      ]
     },
     "execution_count": 33,
     "metadata": {},
     "output_type": "execute_result"
    }
   ],
   "source": [
    "df.columns"
   ]
  },
  {
   "cell_type": "code",
   "execution_count": 34,
   "id": "c10dbe15-d185-4f22-9a89-fc27bcdd7a59",
   "metadata": {},
   "outputs": [],
   "source": [
    "cont_cols = ['age','hours-per-week']\n",
    "cat_cols = ['sex','education','marital-status','workclass', 'occupation']\n",
    "y_col = ['label']"
   ]
  },
  {
   "cell_type": "markdown",
   "id": "745c50ad-4864-4dcc-bf71-18dd4fddcaa0",
   "metadata": {},
   "source": [
    "## Convert categorical columns to category dtypes"
   ]
  },
  {
   "cell_type": "code",
   "execution_count": 35,
   "id": "5213accd-64ff-4b71-bce6-209f53ff11a9",
   "metadata": {},
   "outputs": [],
   "source": [
    "for c in cat_cols:\n",
    "    df[c] = df[c].astype('category')"
   ]
  },
  {
   "cell_type": "code",
   "execution_count": 36,
   "id": "bb560955-1f24-48b5-82f7-ea6a8f3bf481",
   "metadata": {},
   "outputs": [
    {
     "name": "stdout",
     "output_type": "stream",
     "text": [
      "<class 'pandas.core.frame.DataFrame'>\n",
      "RangeIndex: 30000 entries, 0 to 29999\n",
      "Data columns (total 10 columns):\n",
      " #   Column          Non-Null Count  Dtype   \n",
      "---  ------          --------------  -----   \n",
      " 0   age             30000 non-null  int64   \n",
      " 1   sex             30000 non-null  category\n",
      " 2   education       30000 non-null  category\n",
      " 3   education-num   30000 non-null  int64   \n",
      " 4   marital-status  30000 non-null  category\n",
      " 5   workclass       30000 non-null  category\n",
      " 6   occupation      30000 non-null  category\n",
      " 7   hours-per-week  30000 non-null  int64   \n",
      " 8   income          30000 non-null  object  \n",
      " 9   label           30000 non-null  int64   \n",
      "dtypes: category(5), int64(4), object(1)\n",
      "memory usage: 1.3+ MB\n"
     ]
    }
   ],
   "source": [
    "df.info()"
   ]
  },
  {
   "cell_type": "markdown",
   "id": "a87fd869-6598-44c3-9b8a-4ff68cc0599c",
   "metadata": {},
   "source": [
    "## Shuffle dataset"
   ]
  },
  {
   "cell_type": "code",
   "execution_count": 37,
   "id": "6905617c-9cff-4402-8094-6df4a6dfdbb2",
   "metadata": {},
   "outputs": [
    {
     "data": {
      "text/html": [
       "<div>\n",
       "<style scoped>\n",
       "    .dataframe tbody tr th:only-of-type {\n",
       "        vertical-align: middle;\n",
       "    }\n",
       "\n",
       "    .dataframe tbody tr th {\n",
       "        vertical-align: top;\n",
       "    }\n",
       "\n",
       "    .dataframe thead th {\n",
       "        text-align: right;\n",
       "    }\n",
       "</style>\n",
       "<table border=\"1\" class=\"dataframe\">\n",
       "  <thead>\n",
       "    <tr style=\"text-align: right;\">\n",
       "      <th></th>\n",
       "      <th>age</th>\n",
       "      <th>sex</th>\n",
       "      <th>education</th>\n",
       "      <th>education-num</th>\n",
       "      <th>marital-status</th>\n",
       "      <th>workclass</th>\n",
       "      <th>occupation</th>\n",
       "      <th>hours-per-week</th>\n",
       "      <th>income</th>\n",
       "      <th>label</th>\n",
       "    </tr>\n",
       "  </thead>\n",
       "  <tbody>\n",
       "    <tr>\n",
       "      <th>0</th>\n",
       "      <td>23</td>\n",
       "      <td>Female</td>\n",
       "      <td>HS-grad</td>\n",
       "      <td>9</td>\n",
       "      <td>Never-married</td>\n",
       "      <td>Private</td>\n",
       "      <td>Other-service</td>\n",
       "      <td>50</td>\n",
       "      <td>&lt;=50K</td>\n",
       "      <td>0</td>\n",
       "    </tr>\n",
       "    <tr>\n",
       "      <th>1</th>\n",
       "      <td>37</td>\n",
       "      <td>Female</td>\n",
       "      <td>Prof-school</td>\n",
       "      <td>15</td>\n",
       "      <td>Married</td>\n",
       "      <td>State-gov</td>\n",
       "      <td>Prof-specialty</td>\n",
       "      <td>39</td>\n",
       "      <td>&gt;50K</td>\n",
       "      <td>1</td>\n",
       "    </tr>\n",
       "    <tr>\n",
       "      <th>2</th>\n",
       "      <td>34</td>\n",
       "      <td>Male</td>\n",
       "      <td>Some-college</td>\n",
       "      <td>10</td>\n",
       "      <td>Divorced</td>\n",
       "      <td>Private</td>\n",
       "      <td>Adm-clerical</td>\n",
       "      <td>40</td>\n",
       "      <td>&lt;=50K</td>\n",
       "      <td>0</td>\n",
       "    </tr>\n",
       "    <tr>\n",
       "      <th>3</th>\n",
       "      <td>31</td>\n",
       "      <td>Male</td>\n",
       "      <td>HS-grad</td>\n",
       "      <td>9</td>\n",
       "      <td>Married</td>\n",
       "      <td>Private</td>\n",
       "      <td>Craft-repair</td>\n",
       "      <td>40</td>\n",
       "      <td>&gt;50K</td>\n",
       "      <td>1</td>\n",
       "    </tr>\n",
       "    <tr>\n",
       "      <th>4</th>\n",
       "      <td>20</td>\n",
       "      <td>Female</td>\n",
       "      <td>Some-college</td>\n",
       "      <td>10</td>\n",
       "      <td>Never-married</td>\n",
       "      <td>Private</td>\n",
       "      <td>Sales</td>\n",
       "      <td>25</td>\n",
       "      <td>&lt;=50K</td>\n",
       "      <td>0</td>\n",
       "    </tr>\n",
       "  </tbody>\n",
       "</table>\n",
       "</div>"
      ],
      "text/plain": [
       "   age     sex     education  education-num marital-status  workclass  \\\n",
       "0   23  Female       HS-grad              9  Never-married    Private   \n",
       "1   37  Female   Prof-school             15        Married  State-gov   \n",
       "2   34    Male  Some-college             10       Divorced    Private   \n",
       "3   31    Male       HS-grad              9        Married    Private   \n",
       "4   20  Female  Some-college             10  Never-married    Private   \n",
       "\n",
       "       occupation  hours-per-week income  label  \n",
       "0   Other-service              50  <=50K      0  \n",
       "1  Prof-specialty              39   >50K      1  \n",
       "2    Adm-clerical              40  <=50K      0  \n",
       "3    Craft-repair              40   >50K      1  \n",
       "4           Sales              25  <=50K      0  "
      ]
     },
     "execution_count": 37,
     "metadata": {},
     "output_type": "execute_result"
    }
   ],
   "source": [
    "df = shuffle(df, random_state=101)\n",
    "df.reset_index(drop=True, inplace=True)\n",
    "df.head()"
   ]
  },
  {
   "cell_type": "markdown",
   "id": "77256e6e-fe48-403b-a55f-9e3d02652fa5",
   "metadata": {},
   "source": [
    "## Set embedding sizes"
   ]
  },
  {
   "cell_type": "markdown",
   "id": "5dfb1849-ce6c-4c8f-a288-497529b1a8ec",
   "metadata": {},
   "source": [
    "Embedding sizes rule of thumb: half of the number of categories but not to exceed 50."
   ]
  },
  {
   "cell_type": "code",
   "execution_count": 38,
   "id": "2e7b97ef-31ff-44a3-b190-0acb921303e6",
   "metadata": {},
   "outputs": [
    {
     "data": {
      "text/plain": [
       "[(2, 1), (14, 7), (6, 3), (5, 3), (12, 6)]"
      ]
     },
     "execution_count": 38,
     "metadata": {},
     "output_type": "execute_result"
    }
   ],
   "source": [
    "cat_szs = [len(df[c].cat.categories) for c in cat_cols]\n",
    "emb_szs = [(c,min(50,(c+1)//2)) for c in cat_szs]\n",
    "emb_szs"
   ]
  },
  {
   "cell_type": "markdown",
   "id": "63c14ebe-2e27-4315-a70f-e704ffacc190",
   "metadata": {},
   "source": [
    "## Create an array of categorical values"
   ]
  },
  {
   "cell_type": "code",
   "execution_count": 39,
   "id": "d0751416-353f-4bd9-89dd-c64acaabd061",
   "metadata": {},
   "outputs": [
    {
     "data": {
      "text/plain": [
       "(30000, 5)"
      ]
     },
     "execution_count": 39,
     "metadata": {},
     "output_type": "execute_result"
    }
   ],
   "source": [
    "cats = np.stack([df[c].cat.codes.values for c in cat_cols],axis=1)\n",
    "cats.shape"
   ]
  },
  {
   "cell_type": "markdown",
   "id": "72ccc808-d281-44d4-94a7-e797138fcaf6",
   "metadata": {},
   "source": [
    "## Convert categorical numpy array to a tensor"
   ]
  },
  {
   "cell_type": "code",
   "execution_count": 40,
   "id": "2678ce47-e821-4e23-b0f7-e6d25a04cb60",
   "metadata": {},
   "outputs": [],
   "source": [
    "cats = torch.tensor(cats, dtype=torch.int64)"
   ]
  },
  {
   "cell_type": "markdown",
   "id": "90c1b00e-e90b-4c7d-8ca3-fc5d9d9560b5",
   "metadata": {},
   "source": [
    "## Create array of continous values"
   ]
  },
  {
   "cell_type": "code",
   "execution_count": 41,
   "id": "3a469e67-793e-4341-afda-cdcdb66ff998",
   "metadata": {},
   "outputs": [
    {
     "data": {
      "text/plain": [
       "(30000, 2)"
      ]
     },
     "execution_count": 41,
     "metadata": {},
     "output_type": "execute_result"
    }
   ],
   "source": [
    "conts = np.stack([df[c].values for c in cont_cols],axis=1)\n",
    "conts.shape"
   ]
  },
  {
   "cell_type": "markdown",
   "id": "e32ccdfe-2a28-4432-b4b4-a23038f12ee3",
   "metadata": {},
   "source": [
    "## Convert continous numpy array to a tensor"
   ]
  },
  {
   "cell_type": "code",
   "execution_count": 42,
   "id": "09cf5ffe-b185-454c-bcd7-b4006d86fa39",
   "metadata": {},
   "outputs": [],
   "source": [
    "conts = torch.tensor(conts,dtype=torch.float)"
   ]
  },
  {
   "cell_type": "code",
   "execution_count": 43,
   "id": "53dd4e09-f265-4194-8ea3-74bcba4cc565",
   "metadata": {},
   "outputs": [
    {
     "data": {
      "text/plain": [
       "torch.float32"
      ]
     },
     "execution_count": 43,
     "metadata": {},
     "output_type": "execute_result"
    }
   ],
   "source": [
    "conts.dtype"
   ]
  },
  {
   "cell_type": "markdown",
   "id": "806661d7-23c3-4715-8690-3bc216a9ea99",
   "metadata": {},
   "source": [
    "## Create a label tensor"
   ]
  },
  {
   "cell_type": "code",
   "execution_count": 44,
   "id": "6a12e4d1-2b26-4df3-bc6a-4679ae3e0024",
   "metadata": {},
   "outputs": [],
   "source": [
    "y = torch.tensor(df[y_col].values.flatten(),dtype=torch.long)"
   ]
  },
  {
   "cell_type": "code",
   "execution_count": 45,
   "id": "a350a823-6341-4919-855a-cdd349909dff",
   "metadata": {},
   "outputs": [
    {
     "data": {
      "text/plain": [
       "torch.int64"
      ]
     },
     "execution_count": 45,
     "metadata": {},
     "output_type": "execute_result"
    }
   ],
   "source": [
    "y.dtype"
   ]
  },
  {
   "cell_type": "markdown",
   "id": "e4d4f131-58c0-425a-ab20-fd9df0eb82a4",
   "metadata": {
    "tags": []
   },
   "source": [
    "## Create train and test sets from `cats`, `conts`, and `y`"
   ]
  },
  {
   "cell_type": "code",
   "execution_count": 47,
   "id": "6e176685-432c-4bcf-a861-d8ac16edeaf6",
   "metadata": {},
   "outputs": [],
   "source": [
    "data_sz = 30000\n",
    "test_sz = 5000\n",
    "\n",
    "cat_train = cats[:data_sz-test_sz]\n",
    "cat_test = cats[data_sz-test_sz:]\n",
    "con_train = conts[:data_sz-test_sz]\n",
    "con_test = conts[data_sz-test_sz:]\n",
    "y_train = y[:data_sz-test_sz]\n",
    "y_test = y[data_sz-test_sz:]"
   ]
  },
  {
   "cell_type": "markdown",
   "id": "257ab112-c3df-4449-9c15-d5d14519d3f4",
   "metadata": {},
   "source": [
    "## Define the model class"
   ]
  },
  {
   "cell_type": "code",
   "execution_count": 49,
   "id": "a4600bdb-a389-4b33-bb16-963f7b174d0f",
   "metadata": {},
   "outputs": [],
   "source": [
    "class TabularModel(nn.Module):\n",
    "    '''\n",
    "    - emb_szs: list of tuples: list of categorical variables sizes paired with their embedding sizes\n",
    "    - n_cont: int: number of continous variables\n",
    "    - out_sz: int: output size\n",
    "    - layers: list of int: list of layer sizes\n",
    "    - p: list of float: dropout probability for each layer\n",
    "    '''\n",
    "    def __init__(self, emb_szs, n_cont, out_sz, layers, p=0.5):\n",
    "        \n",
    "        # Instanciate nn.Module\n",
    "        super().__init__()\n",
    "        \n",
    "        # Create the embedings ModuleList, dropout, and batch normalisation functions\n",
    "        self.embeds = nn.ModuleList([nn.Embedding(ni, nf) for ni,nf in emb_szs])\n",
    "        self.emb_drop = nn.Dropout(p)\n",
    "        self.bn_cont = nn.BatchNorm1d(n_cont) # Normalising continuous features to make sure they are in the same scale\n",
    "        \n",
    "        # Create the initial and hidden layers of the model\n",
    "        layerlist = []\n",
    "        n_emb = sum([nf for ni,nf in emb_szs])\n",
    "        # Total number of in features to the neural network\n",
    "        n_in = n_emb + n_cont\n",
    "        \n",
    "        for n,i in enumerate(layers):\n",
    "            layerlist.append(nn.Linear(n_in, i))    # Apply a linear transformatino for incomming data\n",
    "            layerlist.append(nn.ReLU(inplace=True)) # Apply ReLU to the data\n",
    "            layerlist.append(nn.BatchNorm1d(i))     # Normalise data\n",
    "            layerlist.append(nn.Dropout(p))         # Dropout nodes\n",
    "            n_in = i # This parameter will set the n_in for the next layer based on the size of the existing layer\n",
    "        \n",
    "        # Create an output layer\n",
    "        layerlist.append(nn.Linear(layers[-1],out_sz))\n",
    "        \n",
    "        # Create a sequential container for the layers\n",
    "        self.layers = nn.Sequential(*layerlist)\n",
    "            \n",
    "        \n",
    "    def forward(self, x_cat, x_cont):\n",
    "        # Initiate a list of embedding tensors\n",
    "        embeddings = []\n",
    "                \n",
    "        # Append to the embeddings list the embeddings for all categorical variables\n",
    "        for i,e in enumerate(self.embeds):\n",
    "            embeddings.append(e(x_cat[:,i]))\n",
    "            \n",
    "        # Concatenate the embedings on a row basis and apply dropout\n",
    "        x = torch.cat(embeddings,1)\n",
    "            \n",
    "        x = self.emb_drop(x)\n",
    "\n",
    "        # Apply batch normalisation to continuous variables\n",
    "        x_cont = self.bn_cont(x_cont)\n",
    "\n",
    "        # Concatenate continuous and categorical variables\n",
    "        x = torch.cat([x,x_cont], 1)\n",
    "\n",
    "        # Output of all layers\n",
    "        x = self.layers(x)\n",
    "        return x"
   ]
  },
  {
   "cell_type": "markdown",
   "id": "43459360-f514-4e8b-9a38-61e767e3aff4",
   "metadata": {},
   "source": [
    "## Initialise the model"
   ]
  },
  {
   "cell_type": "code",
   "execution_count": null,
   "id": "07658ae0-0b20-44d3-90db-d2bed04f8bb1",
   "metadata": {},
   "outputs": [],
   "source": [
    "torch.manual_seed(33)"
   ]
  },
  {
   "cell_type": "code",
   "execution_count": 52,
   "id": "4461d758-ebd5-4a30-a669-036b73f0b6c5",
   "metadata": {},
   "outputs": [
    {
     "data": {
      "text/plain": [
       "TabularModel(\n",
       "  (embeds): ModuleList(\n",
       "    (0): Embedding(2, 1)\n",
       "    (1): Embedding(14, 7)\n",
       "    (2): Embedding(6, 3)\n",
       "    (3): Embedding(5, 3)\n",
       "    (4): Embedding(12, 6)\n",
       "  )\n",
       "  (emb_drop): Dropout(p=0.5, inplace=False)\n",
       "  (bn_cont): BatchNorm1d(2, eps=1e-05, momentum=0.1, affine=True, track_running_stats=True)\n",
       "  (layers): Sequential(\n",
       "    (0): Linear(in_features=22, out_features=50, bias=True)\n",
       "    (1): ReLU(inplace=True)\n",
       "    (2): BatchNorm1d(50, eps=1e-05, momentum=0.1, affine=True, track_running_stats=True)\n",
       "    (3): Dropout(p=0.5, inplace=False)\n",
       "    (4): Linear(in_features=50, out_features=2, bias=True)\n",
       "  )\n",
       ")"
      ]
     },
     "execution_count": 52,
     "metadata": {},
     "output_type": "execute_result"
    }
   ],
   "source": [
    "model = TabularModel(emb_szs=emb_szs, n_cont=conts.shape[1], out_sz=2, layers=[50])\n",
    "model"
   ]
  },
  {
   "cell_type": "markdown",
   "id": "0f9de1e4-7f21-481b-90e5-ed317c4f3a3e",
   "metadata": {},
   "source": [
    "## Define loss and optimisation functions"
   ]
  },
  {
   "cell_type": "code",
   "execution_count": 54,
   "id": "2331e397-dc8e-447d-8438-9c84158f7c53",
   "metadata": {},
   "outputs": [],
   "source": [
    "criterion = nn.CrossEntropyLoss()\n",
    "optimiser = torch.optim.Adam(model.parameters(), lr=0.01)"
   ]
  },
  {
   "cell_type": "markdown",
   "id": "d823dd1b-c4df-4f87-ab71-14d032c445ec",
   "metadata": {},
   "source": [
    "# Training"
   ]
  },
  {
   "cell_type": "code",
   "execution_count": 59,
   "id": "5d2a3f0b-c97a-434c-973d-aa56037cdf8d",
   "metadata": {},
   "outputs": [
    {
     "name": "stdout",
     "output_type": "stream",
     "text": [
      "epoch:   1  loss: 0.39769632\n",
      "epoch:   6  loss: 0.31165224\n",
      "epoch:  11  loss: 0.30145156\n",
      "epoch:  16  loss: 0.30972096\n",
      "epoch:  21  loss: 0.28124899\n",
      "epoch:  26  loss: 0.27982074\n",
      "epoch:  31  loss: 0.30416650\n",
      "epoch:  36  loss: 0.27706313\n",
      "epoch:  41  loss: 0.29380837\n",
      "epoch:  46  loss: 0.27378523\n",
      "epoch:  51  loss: 0.27221528\n",
      "epoch:  56  loss: 0.29635167\n",
      "epoch:  61  loss: 0.27960637\n",
      "epoch:  66  loss: 0.29063520\n",
      "epoch:  71  loss: 0.27957687\n",
      "epoch:  76  loss: 0.27300629\n",
      "epoch:  81  loss: 0.27025038\n",
      "epoch:  86  loss: 0.27360958\n",
      "epoch:  91  loss: 0.28087631\n",
      "epoch:  96  loss: 0.26956752\n",
      "epoch: 100  loss: 0.27492979\n",
      "\n",
      "Duration: 181 seconds\n"
     ]
    }
   ],
   "source": [
    "training_time = time.time()\n",
    "\n",
    "epochs = 100\n",
    "losses = []\n",
    "\n",
    "dataset_train = TensorDataset(cat_train, con_train, y_train)\n",
    "data_loader = DataLoader(dataset_train,batch_size=1000,num_workers=1)\n",
    "\n",
    "for i in range(epochs):\n",
    "    i+=1\n",
    "    \n",
    "    batch_losses = []\n",
    "    # For each epoch, for each dataset in the data loader\n",
    "    for cat_train, con_train, y_train in data_loader:\n",
    "        y_pred = model(cat_train, con_train)\n",
    "        loss = criterion(y_pred, y_train) # Removed torch.sqrt(...)\n",
    "        optimiser.zero_grad()\n",
    "        loss.backward()\n",
    "        optimiser.step()\n",
    "    \n",
    "    losses.append(loss)\n",
    "    \n",
    "    # a neat trick to save screen space:\n",
    "    if i%5 == 1:\n",
    "        print(f'epoch: {i:3}  loss: {loss.item():10.8f}')\n",
    "\n",
    "    \n",
    "\n",
    "print(f'epoch: {i:3}  loss: {loss.item():10.8f}') # print the last line\n",
    "print(f'\\nDuration: {time.time() - training_time:.0f} seconds') # print the time elapsed"
   ]
  },
  {
   "cell_type": "markdown",
   "id": "c4c40e1b-768a-4e1b-8d2a-c518ac33cc4e",
   "metadata": {},
   "source": [
    "## Plot the loss"
   ]
  },
  {
   "cell_type": "code",
   "execution_count": 60,
   "id": "976ba079-e569-4b06-938e-967a70b10bc3",
   "metadata": {},
   "outputs": [
    {
     "data": {
      "image/png": "[encoded data removed]",
      "text/plain": [
       "<Figure size 432x288 with 1 Axes>"
      ]
     },
     "metadata": {
      "needs_background": "light"
     },
     "output_type": "display_data"
    }
   ],
   "source": [
    "plt.plot(range(epochs), [l.item() for l in losses])\n",
    "plt.ylabel('CE Loss')\n",
    "plt.xlabel('epoch');"
   ]
  },
  {
   "cell_type": "markdown",
   "id": "f30cd2e7-f3ca-4083-8cc4-50d2b81899c0",
   "metadata": {},
   "source": [
    "# Testing and evaluation"
   ]
  },
  {
   "cell_type": "markdown",
   "id": "73448316-41af-4e4e-9acc-ace80dbc0dc0",
   "metadata": {},
   "source": [
    "## Testing"
   ]
  },
  {
   "cell_type": "code",
   "execution_count": 61,
   "id": "c419b0c3-5631-4934-a7b1-d38705284c40",
   "metadata": {},
   "outputs": [],
   "source": [
    "with torch.no_grad():\n",
    "    y_val = model(cat_test, con_test)\n",
    "    loss = criterion(y_val, y_test)"
   ]
  },
  {
   "cell_type": "markdown",
   "id": "3290c4a3-b55d-4bf7-b6a4-dfc6d0585313",
   "metadata": {},
   "source": [
    "## Evaluation"
   ]
  },
  {
   "cell_type": "code",
   "execution_count": 62,
   "id": "851c027f-64ad-4bec-bbce-d5ab0898ef0e",
   "metadata": {},
   "outputs": [
    {
     "data": {
      "image/png": "[encoded data removed]",
      "text/plain": [
       "<Figure size 432x288 with 2 Axes>"
      ]
     },
     "metadata": {
      "needs_background": "light"
     },
     "output_type": "display_data"
    }
   ],
   "source": [
    "predictions = y_val.argmax(dim=1)\n",
    "cm = confusion_matrix(y_test,predictions)\n",
    "\n",
    "cm_plot = sns.heatmap(cm, annot=True, cmap='Blues', fmt='g')\n",
    "cm_plot.set(xlabel='Predicted',ylabel='Actual');"
   ]
  },
  {
   "cell_type": "code",
   "execution_count": 63,
   "id": "a1930841-b7cd-4833-afff-6210adc878c5",
   "metadata": {},
   "outputs": [
    {
     "name": "stdout",
     "output_type": "stream",
     "text": [
      "Accuracy = 86.44%\n"
     ]
    }
   ],
   "source": [
    "a = cm[np.diag_indices_from(cm)].sum()/cm.sum()\n",
    "\n",
    "print(f'Accuracy = {a*100:.2f}%')"
   ]
  },
  {
   "cell_type": "markdown",
   "id": "ea5a2944-3d8b-4151-8ecf-950499250f63",
   "metadata": {},
   "source": [
    "# New Data"
   ]
  },
  {
   "cell_type": "code",
   "execution_count": 67,
   "id": "35a8aea1-39fa-4d56-a517-cd7e86b12698",
   "metadata": {},
   "outputs": [
    {
     "name": "stdin",
     "output_type": "stream",
     "text": [
      "What is the person's age? (18-90)   33\n",
      "What is the person's sex? (Male/Female)  Male\n",
      "What is the person's education level? (3-16)  13\n",
      "What is the person's marital status?  Married\n",
      "What is the person's workclass?  Private\n",
      "What is the person's occupation?  Exec-managerial\n",
      "How many hours/week are worked? (20-90)   38\n"
     ]
    },
    {
     "name": "stdout",
     "output_type": "stream",
     "text": [
      "\n",
      "The predicted label is 1\n"
     ]
    }
   ],
   "source": [
    "def test_data(mdl): # pass in the name of the model\n",
    "    # INPUT NEW DATA\n",
    "    age = float(input(\"What is the person's age? (18-90)  \"))\n",
    "    sex = input(\"What is the person's sex? (Male/Female) \").capitalize()\n",
    "    edn = int(input(\"What is the person's education level? (3-16) \"))\n",
    "    mar = input(\"What is the person's marital status? \").capitalize()\n",
    "    wrk = input(\"What is the person's workclass? \").capitalize()\n",
    "    occ = input(\"What is the person's occupation? \").capitalize()\n",
    "    hrs = float(input(\"How many hours/week are worked? (20-90)  \"))\n",
    "\n",
    "    # PREPROCESS THE DATA\n",
    "    sex_d = {'Female':0, 'Male':1}\n",
    "    mar_d = {'Divorced':0, 'Married':1, 'Married-spouse-absent':2, 'Never-married':3, 'Separated':4, 'Widowed':5}\n",
    "    wrk_d = {'Federal-gov':0, 'Local-gov':1, 'Private':2, 'Self-emp':3, 'State-gov':4}\n",
    "    occ_d = {'Adm-clerical':0, 'Craft-repair':1, 'Exec-managerial':2, 'Farming-fishing':3, 'Handlers-cleaners':4,\n",
    "            'Machine-op-inspct':5, 'Other-service':6, 'Prof-specialty':7, 'Protective-serv':8, 'Sales':9, \n",
    "            'Tech-support':10, 'Transport-moving':11}\n",
    "\n",
    "    sex = sex_d[sex]\n",
    "    mar = mar_d[mar]\n",
    "    wrk = wrk_d[wrk]\n",
    "    occ = occ_d[occ]\n",
    "\n",
    "    # CREATE CAT AND CONT TENSORS\n",
    "    cats = torch.tensor([sex,edn,mar,wrk,occ], dtype=torch.int64).reshape(1,-1)\n",
    "    conts = torch.tensor([age,hrs], dtype=torch.float).reshape(1,-1)\n",
    "    \n",
    "    # SET MODEL TO EVAL (in case this hasn't been done)\n",
    "    mdl.eval()\n",
    "\n",
    "    # PASS NEW DATA THROUGH THE MODEL WITHOUT PERFORMING A BACKPROP\n",
    "    with torch.no_grad():\n",
    "        z = mdl(cats, conts).argmax().item()\n",
    "\n",
    "    print(f'\\nThe predicted label is {z}')\n",
    "    \n",
    "test_data(model)"
   ]
  }
 ],
 "metadata": {
  "kernelspec": {
   "display_name": "Python 3 (ipykernel)",
   "language": "python",
   "name": "python3"
  },
  "language_info": {
   "codemirror_mode": {
    "name": "ipython",
    "version": 3
   },
   "file_extension": ".py",
   "mimetype": "text/x-python",
   "name": "python",
   "nbconvert_exporter": "python",
   "pygments_lexer": "ipython3",
   "version": "3.9.7"
  },
  "toc-autonumbering": true
 },
 "nbformat": 4,
 "nbformat_minor": 5
}
