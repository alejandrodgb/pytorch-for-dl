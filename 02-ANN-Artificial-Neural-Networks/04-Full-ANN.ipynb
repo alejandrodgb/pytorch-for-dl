{
 "cells": [
  {
   "cell_type": "markdown",
   "id": "b0d15675-504a-4f96-a6de-4ea6a49aaf90",
   "metadata": {},
   "source": [
    "# Module imports"
   ]
  },
  {
   "cell_type": "code",
   "execution_count": 1,
   "id": "fa4eb642-144e-4a80-87fa-670b035a6e35",
   "metadata": {},
   "outputs": [],
   "source": [
    "import torch\n",
    "import torch.nn as nn\n",
    "from torch.utils.data import DataLoader, TensorDataset\n",
    "\n",
    "import numpy as np\n",
    "import pandas as pd\n",
    "import matplotlib.pyplot as plt\n",
    "%matplotlib inline\n",
    "\n",
    "import time"
   ]
  },
  {
   "cell_type": "markdown",
   "id": "c18c4745-8d3a-425d-9c8c-7c886e1449f7",
   "metadata": {},
   "source": [
    "# Data"
   ]
  },
  {
   "cell_type": "code",
   "execution_count": 2,
   "id": "4db35d34-130f-4e2b-847c-b9646c2a919b",
   "metadata": {},
   "outputs": [
    {
     "data": {
      "text/html": [
       "<div>\n",
       "<style scoped>\n",
       "    .dataframe tbody tr th:only-of-type {\n",
       "        vertical-align: middle;\n",
       "    }\n",
       "\n",
       "    .dataframe tbody tr th {\n",
       "        vertical-align: top;\n",
       "    }\n",
       "\n",
       "    .dataframe thead th {\n",
       "        text-align: right;\n",
       "    }\n",
       "</style>\n",
       "<table border=\"1\" class=\"dataframe\">\n",
       "  <thead>\n",
       "    <tr style=\"text-align: right;\">\n",
       "      <th></th>\n",
       "      <th>pickup_datetime</th>\n",
       "      <th>fare_amount</th>\n",
       "      <th>fare_class</th>\n",
       "      <th>pickup_longitude</th>\n",
       "      <th>pickup_latitude</th>\n",
       "      <th>dropoff_longitude</th>\n",
       "      <th>dropoff_latitude</th>\n",
       "      <th>passenger_count</th>\n",
       "    </tr>\n",
       "  </thead>\n",
       "  <tbody>\n",
       "    <tr>\n",
       "      <th>69059</th>\n",
       "      <td>2010-04-20 14:14:05 UTC</td>\n",
       "      <td>6.5</td>\n",
       "      <td>0</td>\n",
       "      <td>-73.977494</td>\n",
       "      <td>40.738258</td>\n",
       "      <td>-73.982480</td>\n",
       "      <td>40.750048</td>\n",
       "      <td>1</td>\n",
       "    </tr>\n",
       "    <tr>\n",
       "      <th>93436</th>\n",
       "      <td>2010-04-16 23:55:11 UTC</td>\n",
       "      <td>7.3</td>\n",
       "      <td>0</td>\n",
       "      <td>-73.984637</td>\n",
       "      <td>40.726481</td>\n",
       "      <td>-73.966103</td>\n",
       "      <td>40.754741</td>\n",
       "      <td>2</td>\n",
       "    </tr>\n",
       "    <tr>\n",
       "      <th>112154</th>\n",
       "      <td>2010-04-21 07:07:07 UTC</td>\n",
       "      <td>21.3</td>\n",
       "      <td>1</td>\n",
       "      <td>-73.963032</td>\n",
       "      <td>40.772266</td>\n",
       "      <td>-74.013647</td>\n",
       "      <td>40.715092</td>\n",
       "      <td>1</td>\n",
       "    </tr>\n",
       "    <tr>\n",
       "      <th>39538</th>\n",
       "      <td>2010-04-14 14:52:08 UTC</td>\n",
       "      <td>4.9</td>\n",
       "      <td>0</td>\n",
       "      <td>-73.988330</td>\n",
       "      <td>40.769120</td>\n",
       "      <td>-73.974337</td>\n",
       "      <td>40.763544</td>\n",
       "      <td>1</td>\n",
       "    </tr>\n",
       "    <tr>\n",
       "      <th>87913</th>\n",
       "      <td>2010-04-13 17:45:16 UTC</td>\n",
       "      <td>16.9</td>\n",
       "      <td>1</td>\n",
       "      <td>-73.949580</td>\n",
       "      <td>40.796528</td>\n",
       "      <td>-73.969538</td>\n",
       "      <td>40.763469</td>\n",
       "      <td>1</td>\n",
       "    </tr>\n",
       "  </tbody>\n",
       "</table>\n",
       "</div>"
      ],
      "text/plain": [
       "                pickup_datetime  fare_amount  fare_class  pickup_longitude  \\\n",
       "69059   2010-04-20 14:14:05 UTC          6.5           0        -73.977494   \n",
       "93436   2010-04-16 23:55:11 UTC          7.3           0        -73.984637   \n",
       "112154  2010-04-21 07:07:07 UTC         21.3           1        -73.963032   \n",
       "39538   2010-04-14 14:52:08 UTC          4.9           0        -73.988330   \n",
       "87913   2010-04-13 17:45:16 UTC         16.9           1        -73.949580   \n",
       "\n",
       "        pickup_latitude  dropoff_longitude  dropoff_latitude  passenger_count  \n",
       "69059         40.738258         -73.982480         40.750048                1  \n",
       "93436         40.726481         -73.966103         40.754741                2  \n",
       "112154        40.772266         -74.013647         40.715092                1  \n",
       "39538         40.769120         -73.974337         40.763544                1  \n",
       "87913         40.796528         -73.969538         40.763469                1  "
      ]
     },
     "execution_count": 2,
     "metadata": {},
     "output_type": "execute_result"
    }
   ],
   "source": [
    "df = pd.read_csv('../Data/NYCTaxiFares.csv')\n",
    "df.sample(5)"
   ]
  },
  {
   "cell_type": "code",
   "execution_count": 3,
   "id": "6e50b223-d9fa-44fb-b252-6c4b5b9ca105",
   "metadata": {},
   "outputs": [
    {
     "data": {
      "text/html": [
       "<div>\n",
       "<style scoped>\n",
       "    .dataframe tbody tr th:only-of-type {\n",
       "        vertical-align: middle;\n",
       "    }\n",
       "\n",
       "    .dataframe tbody tr th {\n",
       "        vertical-align: top;\n",
       "    }\n",
       "\n",
       "    .dataframe thead th {\n",
       "        text-align: right;\n",
       "    }\n",
       "</style>\n",
       "<table border=\"1\" class=\"dataframe\">\n",
       "  <thead>\n",
       "    <tr style=\"text-align: right;\">\n",
       "      <th></th>\n",
       "      <th>fare_amount</th>\n",
       "      <th>fare_class</th>\n",
       "      <th>pickup_longitude</th>\n",
       "      <th>pickup_latitude</th>\n",
       "      <th>dropoff_longitude</th>\n",
       "      <th>dropoff_latitude</th>\n",
       "      <th>passenger_count</th>\n",
       "    </tr>\n",
       "  </thead>\n",
       "  <tbody>\n",
       "    <tr>\n",
       "      <th>count</th>\n",
       "      <td>120000.000000</td>\n",
       "      <td>120000.000000</td>\n",
       "      <td>120000.000000</td>\n",
       "      <td>120000.000000</td>\n",
       "      <td>120000.000000</td>\n",
       "      <td>120000.000000</td>\n",
       "      <td>120000.000000</td>\n",
       "    </tr>\n",
       "    <tr>\n",
       "      <th>mean</th>\n",
       "      <td>10.040326</td>\n",
       "      <td>0.333333</td>\n",
       "      <td>-73.976626</td>\n",
       "      <td>40.751443</td>\n",
       "      <td>-73.974501</td>\n",
       "      <td>40.751695</td>\n",
       "      <td>1.347167</td>\n",
       "    </tr>\n",
       "    <tr>\n",
       "      <th>std</th>\n",
       "      <td>7.500134</td>\n",
       "      <td>0.471406</td>\n",
       "      <td>0.031497</td>\n",
       "      <td>0.025821</td>\n",
       "      <td>0.032419</td>\n",
       "      <td>0.030279</td>\n",
       "      <td>0.759263</td>\n",
       "    </tr>\n",
       "    <tr>\n",
       "      <th>min</th>\n",
       "      <td>2.500000</td>\n",
       "      <td>0.000000</td>\n",
       "      <td>-74.465447</td>\n",
       "      <td>40.121653</td>\n",
       "      <td>-74.443323</td>\n",
       "      <td>40.164927</td>\n",
       "      <td>1.000000</td>\n",
       "    </tr>\n",
       "    <tr>\n",
       "      <th>25%</th>\n",
       "      <td>5.700000</td>\n",
       "      <td>0.000000</td>\n",
       "      <td>-73.992386</td>\n",
       "      <td>40.736594</td>\n",
       "      <td>-73.991478</td>\n",
       "      <td>40.735914</td>\n",
       "      <td>1.000000</td>\n",
       "    </tr>\n",
       "    <tr>\n",
       "      <th>50%</th>\n",
       "      <td>7.700000</td>\n",
       "      <td>0.000000</td>\n",
       "      <td>-73.982084</td>\n",
       "      <td>40.753661</td>\n",
       "      <td>-73.980411</td>\n",
       "      <td>40.754441</td>\n",
       "      <td>1.000000</td>\n",
       "    </tr>\n",
       "    <tr>\n",
       "      <th>75%</th>\n",
       "      <td>11.300000</td>\n",
       "      <td>1.000000</td>\n",
       "      <td>-73.968710</td>\n",
       "      <td>40.768020</td>\n",
       "      <td>-73.965500</td>\n",
       "      <td>40.768880</td>\n",
       "      <td>1.000000</td>\n",
       "    </tr>\n",
       "    <tr>\n",
       "      <th>max</th>\n",
       "      <td>49.900000</td>\n",
       "      <td>1.000000</td>\n",
       "      <td>-73.311845</td>\n",
       "      <td>40.981292</td>\n",
       "      <td>-73.496140</td>\n",
       "      <td>40.993498</td>\n",
       "      <td>5.000000</td>\n",
       "    </tr>\n",
       "  </tbody>\n",
       "</table>\n",
       "</div>"
      ],
      "text/plain": [
       "         fare_amount     fare_class  pickup_longitude  pickup_latitude  \\\n",
       "count  120000.000000  120000.000000     120000.000000    120000.000000   \n",
       "mean       10.040326       0.333333        -73.976626        40.751443   \n",
       "std         7.500134       0.471406          0.031497         0.025821   \n",
       "min         2.500000       0.000000        -74.465447        40.121653   \n",
       "25%         5.700000       0.000000        -73.992386        40.736594   \n",
       "50%         7.700000       0.000000        -73.982084        40.753661   \n",
       "75%        11.300000       1.000000        -73.968710        40.768020   \n",
       "max        49.900000       1.000000        -73.311845        40.981292   \n",
       "\n",
       "       dropoff_longitude  dropoff_latitude  passenger_count  \n",
       "count      120000.000000     120000.000000    120000.000000  \n",
       "mean          -73.974501         40.751695         1.347167  \n",
       "std             0.032419          0.030279         0.759263  \n",
       "min           -74.443323         40.164927         1.000000  \n",
       "25%           -73.991478         40.735914         1.000000  \n",
       "50%           -73.980411         40.754441         1.000000  \n",
       "75%           -73.965500         40.768880         1.000000  \n",
       "max           -73.496140         40.993498         5.000000  "
      ]
     },
     "execution_count": 3,
     "metadata": {},
     "output_type": "execute_result"
    }
   ],
   "source": [
    "df.describe()"
   ]
  },
  {
   "cell_type": "markdown",
   "id": "86538754-b052-463b-ac87-16270804657b",
   "metadata": {},
   "source": [
    "## Feature engineering"
   ]
  },
  {
   "cell_type": "markdown",
   "id": "4b7bf35f-d412-4e69-bc57-92a28edf51f8",
   "metadata": {},
   "source": [
    "We will be using the Harvesine formula to calculate the distance between two sets of (lat,lon) points.\n",
    "\n",
    "${\\displaystyle d=2r\\arcsin \\left({\\sqrt {\\sin ^{2}\\left({\\frac {\\varphi _{2}-\\varphi _{1}}{2}}\\right)+\\cos(\\varphi _{1})\\:\\cos(\\varphi _{2})\\:\\sin ^{2}\\left({\\frac {\\lambda _{2}-\\lambda _{1}}{2}}\\right)}}\\right)}$\n",
    "\n",
    "where\n",
    "\n",
    "$\\begin{split} r&: \\textrm {radius of the sphere (Earth's radius averages 6371 km)}\\\\\n",
    "\\varphi_1, \\varphi_2&: \\textrm {latitudes of point 1 and point 2}\\\\\n",
    "\\lambda_1, \\lambda_2&: \\textrm {longitudes of point 1 and point 2}\\end{split}$\n"
   ]
  },
  {
   "cell_type": "code",
   "execution_count": 4,
   "id": "d42741db-6ef7-4cb3-8d45-7899909679ca",
   "metadata": {},
   "outputs": [],
   "source": [
    "def harvesine(df, lat1, lon1, lat2, lon2, r=6371):\n",
    "    # Convert lat lon to radians\n",
    "    lat1 = df[lat1].apply(np.radians)\n",
    "    lon1 = df[lon1].apply(np.radians)\n",
    "    lat2 = df[lat2].apply(np.radians)\n",
    "    lon2 = df[lon2].apply(np.radians)\n",
    "    \n",
    "    delta_lat = lat2-lat1\n",
    "    delta_lon = lon2-lon1\n",
    "    \n",
    "    a = np.sin(delta_lat/2)**2+np.cos(lat1)*np.cos(lat2)*np.sin(delta_lon/2)**2\n",
    "    b = np.sqrt(a)\n",
    "    return 2*r*np.arcsin(b)"
   ]
  },
  {
   "cell_type": "code",
   "execution_count": 5,
   "id": "037fa91a-6ac9-46d6-b600-a32e2e9e1ffa",
   "metadata": {},
   "outputs": [],
   "source": [
    "# Calculating the distance between pick-up and drop-off\n",
    "df['dist_kms'] = harvesine(df,'pickup_latitude','pickup_longitude','dropoff_latitude','dropoff_longitude')"
   ]
  },
  {
   "cell_type": "markdown",
   "id": "745f01b5-0807-4fb6-92b4-2cf54522e096",
   "metadata": {},
   "source": [
    "Converting dates to datetime objects in python"
   ]
  },
  {
   "cell_type": "code",
   "execution_count": 6,
   "id": "18e41e4d-ed55-4a23-854b-c763dfdfa5a4",
   "metadata": {},
   "outputs": [],
   "source": [
    "# Convert date to dateime object\n",
    "df['pickup_datetime'] = pd.to_datetime(df['pickup_datetime'])"
   ]
  },
  {
   "cell_type": "markdown",
   "id": "8ac56fc8-704c-4125-a3d7-a99b4fbc244c",
   "metadata": {},
   "source": [
    "Modifying dates to make sure they reflect the time where the event happened and extracting useful features from the original datetime object."
   ]
  },
  {
   "cell_type": "code",
   "execution_count": 7,
   "id": "d79704c0-b5b6-4038-a0ba-e6c83c62f06c",
   "metadata": {},
   "outputs": [],
   "source": [
    "# Create date on timezone where the events happened - EDT\n",
    "#df['EDTdate'] = df['pickup_datetime'] - pd.Timedelta(hours=4)\n",
    "df['edt_date'] = df['pickup_datetime'].dt.tz_convert('US/Eastern')"
   ]
  },
  {
   "cell_type": "code",
   "execution_count": 8,
   "id": "d1c74054-451e-4ace-ba6e-27134b1f6276",
   "metadata": {},
   "outputs": [],
   "source": [
    "# Extract features from datetime object\n",
    "df['pickup_hour'] = df['edt_date'].dt.hour\n",
    "df['pickup_ampm'] = df['pickup_hour'].apply(lambda x: 'am' if x<12 else 'pm')\n",
    "df['pickup_weekday'] = df['edt_date'].dt.strftime(\"%a\")\n",
    "df['pickup_day'] = df['edt_date'].dt.day"
   ]
  },
  {
   "cell_type": "code",
   "execution_count": 9,
   "id": "6b11a8a3-0295-4978-80dd-9657a5e8a341",
   "metadata": {},
   "outputs": [
    {
     "data": {
      "text/html": [
       "<div>\n",
       "<style scoped>\n",
       "    .dataframe tbody tr th:only-of-type {\n",
       "        vertical-align: middle;\n",
       "    }\n",
       "\n",
       "    .dataframe tbody tr th {\n",
       "        vertical-align: top;\n",
       "    }\n",
       "\n",
       "    .dataframe thead th {\n",
       "        text-align: right;\n",
       "    }\n",
       "</style>\n",
       "<table border=\"1\" class=\"dataframe\">\n",
       "  <thead>\n",
       "    <tr style=\"text-align: right;\">\n",
       "      <th></th>\n",
       "      <th>pickup_datetime</th>\n",
       "      <th>fare_amount</th>\n",
       "      <th>fare_class</th>\n",
       "      <th>pickup_longitude</th>\n",
       "      <th>pickup_latitude</th>\n",
       "      <th>dropoff_longitude</th>\n",
       "      <th>dropoff_latitude</th>\n",
       "      <th>passenger_count</th>\n",
       "      <th>dist_kms</th>\n",
       "      <th>edt_date</th>\n",
       "      <th>pickup_hour</th>\n",
       "      <th>pickup_ampm</th>\n",
       "      <th>pickup_weekday</th>\n",
       "      <th>pickup_day</th>\n",
       "    </tr>\n",
       "  </thead>\n",
       "  <tbody>\n",
       "    <tr>\n",
       "      <th>42599</th>\n",
       "      <td>2010-04-21 16:51:24+00:00</td>\n",
       "      <td>7.3</td>\n",
       "      <td>0</td>\n",
       "      <td>-73.994355</td>\n",
       "      <td>40.743858</td>\n",
       "      <td>-73.986273</td>\n",
       "      <td>40.769213</td>\n",
       "      <td>1</td>\n",
       "      <td>2.900367</td>\n",
       "      <td>2010-04-21 12:51:24-04:00</td>\n",
       "      <td>12</td>\n",
       "      <td>pm</td>\n",
       "      <td>Wed</td>\n",
       "      <td>21</td>\n",
       "    </tr>\n",
       "    <tr>\n",
       "      <th>80595</th>\n",
       "      <td>2010-04-20 11:31:15+00:00</td>\n",
       "      <td>7.3</td>\n",
       "      <td>0</td>\n",
       "      <td>-73.978250</td>\n",
       "      <td>40.753823</td>\n",
       "      <td>-73.981404</td>\n",
       "      <td>40.762533</td>\n",
       "      <td>1</td>\n",
       "      <td>1.004280</td>\n",
       "      <td>2010-04-20 07:31:15-04:00</td>\n",
       "      <td>7</td>\n",
       "      <td>am</td>\n",
       "      <td>Tue</td>\n",
       "      <td>20</td>\n",
       "    </tr>\n",
       "    <tr>\n",
       "      <th>34300</th>\n",
       "      <td>2010-04-16 19:02:31+00:00</td>\n",
       "      <td>8.5</td>\n",
       "      <td>0</td>\n",
       "      <td>-73.955363</td>\n",
       "      <td>40.767294</td>\n",
       "      <td>-73.981279</td>\n",
       "      <td>40.759689</td>\n",
       "      <td>2</td>\n",
       "      <td>2.340743</td>\n",
       "      <td>2010-04-16 15:02:31-04:00</td>\n",
       "      <td>15</td>\n",
       "      <td>pm</td>\n",
       "      <td>Fri</td>\n",
       "      <td>16</td>\n",
       "    </tr>\n",
       "    <tr>\n",
       "      <th>41707</th>\n",
       "      <td>2010-04-20 19:56:19+00:00</td>\n",
       "      <td>4.5</td>\n",
       "      <td>0</td>\n",
       "      <td>-73.984927</td>\n",
       "      <td>40.742163</td>\n",
       "      <td>-73.977323</td>\n",
       "      <td>40.748513</td>\n",
       "      <td>1</td>\n",
       "      <td>0.953368</td>\n",
       "      <td>2010-04-20 15:56:19-04:00</td>\n",
       "      <td>15</td>\n",
       "      <td>pm</td>\n",
       "      <td>Tue</td>\n",
       "      <td>20</td>\n",
       "    </tr>\n",
       "    <tr>\n",
       "      <th>7049</th>\n",
       "      <td>2010-04-24 14:52:30+00:00</td>\n",
       "      <td>4.1</td>\n",
       "      <td>0</td>\n",
       "      <td>-73.980038</td>\n",
       "      <td>40.716485</td>\n",
       "      <td>-73.976052</td>\n",
       "      <td>40.725232</td>\n",
       "      <td>1</td>\n",
       "      <td>1.028997</td>\n",
       "      <td>2010-04-24 10:52:30-04:00</td>\n",
       "      <td>10</td>\n",
       "      <td>am</td>\n",
       "      <td>Sat</td>\n",
       "      <td>24</td>\n",
       "    </tr>\n",
       "  </tbody>\n",
       "</table>\n",
       "</div>"
      ],
      "text/plain": [
       "                pickup_datetime  fare_amount  fare_class  pickup_longitude  \\\n",
       "42599 2010-04-21 16:51:24+00:00          7.3           0        -73.994355   \n",
       "80595 2010-04-20 11:31:15+00:00          7.3           0        -73.978250   \n",
       "34300 2010-04-16 19:02:31+00:00          8.5           0        -73.955363   \n",
       "41707 2010-04-20 19:56:19+00:00          4.5           0        -73.984927   \n",
       "7049  2010-04-24 14:52:30+00:00          4.1           0        -73.980038   \n",
       "\n",
       "       pickup_latitude  dropoff_longitude  dropoff_latitude  passenger_count  \\\n",
       "42599        40.743858         -73.986273         40.769213                1   \n",
       "80595        40.753823         -73.981404         40.762533                1   \n",
       "34300        40.767294         -73.981279         40.759689                2   \n",
       "41707        40.742163         -73.977323         40.748513                1   \n",
       "7049         40.716485         -73.976052         40.725232                1   \n",
       "\n",
       "       dist_kms                  edt_date  pickup_hour pickup_ampm  \\\n",
       "42599  2.900367 2010-04-21 12:51:24-04:00           12          pm   \n",
       "80595  1.004280 2010-04-20 07:31:15-04:00            7          am   \n",
       "34300  2.340743 2010-04-16 15:02:31-04:00           15          pm   \n",
       "41707  0.953368 2010-04-20 15:56:19-04:00           15          pm   \n",
       "7049   1.028997 2010-04-24 10:52:30-04:00           10          am   \n",
       "\n",
       "      pickup_weekday  pickup_day  \n",
       "42599            Wed          21  \n",
       "80595            Tue          20  \n",
       "34300            Fri          16  \n",
       "41707            Tue          20  \n",
       "7049             Sat          24  "
      ]
     },
     "execution_count": 9,
     "metadata": {},
     "output_type": "execute_result"
    }
   ],
   "source": [
    "df.sample(5)"
   ]
  },
  {
   "cell_type": "markdown",
   "id": "e9f055e6-e1f2-41c9-a08e-16233ab12c74",
   "metadata": {},
   "source": [
    "## Defining categorical and continuous columns"
   ]
  },
  {
   "cell_type": "markdown",
   "id": "a15ceb82-1ea6-4338-a635-15f23bcd96c9",
   "metadata": {},
   "source": [
    "We will define the columns that contain categorical and continuous variables."
   ]
  },
  {
   "cell_type": "code",
   "execution_count": 10,
   "id": "6d1eb9a8-27c2-4f32-83f7-8cbed5b31895",
   "metadata": {},
   "outputs": [],
   "source": [
    "cat_cols = ['pickup_hour', 'pickup_ampm','pickup_weekday', 'pickup_day']\n",
    "cont_cols = ['pickup_longitude', 'pickup_latitude', 'dropoff_longitude', 'dropoff_latitude','passenger_count', 'dist_kms']"
   ]
  },
  {
   "cell_type": "markdown",
   "id": "d0174bbb-9b6d-4ff3-8eb1-e5e35be3339c",
   "metadata": {},
   "source": [
    "Define the target variable that we will be regressing to."
   ]
  },
  {
   "cell_type": "code",
   "execution_count": 11,
   "id": "bb61601a-f559-4b2d-8c20-ebf13dfd587d",
   "metadata": {},
   "outputs": [],
   "source": [
    "y_col = ['fare_amount']"
   ]
  },
  {
   "cell_type": "markdown",
   "id": "e714e968-f1d9-4b1b-ba81-c0be1c70f881",
   "metadata": {},
   "source": [
    "Modify the data type of categorical values to a category data type"
   ]
  },
  {
   "cell_type": "code",
   "execution_count": 12,
   "id": "04bd40e6-966b-46dd-96d7-cf1b1c746d7b",
   "metadata": {},
   "outputs": [],
   "source": [
    "for c in cat_cols:\n",
    "    df[c] = df[c].astype('category')"
   ]
  },
  {
   "cell_type": "code",
   "execution_count": 13,
   "id": "65e8c0ec-4d36-4316-b740-ff540658ebf3",
   "metadata": {},
   "outputs": [
    {
     "name": "stdout",
     "output_type": "stream",
     "text": [
      "<class 'pandas.core.frame.DataFrame'>\n",
      "RangeIndex: 120000 entries, 0 to 119999\n",
      "Data columns (total 14 columns):\n",
      " #   Column             Non-Null Count   Dtype                     \n",
      "---  ------             --------------   -----                     \n",
      " 0   pickup_datetime    120000 non-null  datetime64[ns, UTC]       \n",
      " 1   fare_amount        120000 non-null  float64                   \n",
      " 2   fare_class         120000 non-null  int64                     \n",
      " 3   pickup_longitude   120000 non-null  float64                   \n",
      " 4   pickup_latitude    120000 non-null  float64                   \n",
      " 5   dropoff_longitude  120000 non-null  float64                   \n",
      " 6   dropoff_latitude   120000 non-null  float64                   \n",
      " 7   passenger_count    120000 non-null  int64                     \n",
      " 8   dist_kms           120000 non-null  float64                   \n",
      " 9   edt_date           120000 non-null  datetime64[ns, US/Eastern]\n",
      " 10  pickup_hour        120000 non-null  category                  \n",
      " 11  pickup_ampm        120000 non-null  category                  \n",
      " 12  pickup_weekday     120000 non-null  category                  \n",
      " 13  pickup_day         120000 non-null  category                  \n",
      "dtypes: category(4), datetime64[ns, US/Eastern](1), datetime64[ns, UTC](1), float64(6), int64(2)\n",
      "memory usage: 9.6 MB\n"
     ]
    }
   ],
   "source": [
    "df.info()"
   ]
  },
  {
   "cell_type": "code",
   "execution_count": 14,
   "id": "a18e0724-f157-4d95-97cc-f35cd33660f8",
   "metadata": {},
   "outputs": [
    {
     "data": {
      "text/plain": [
       "0     4\n",
       "1    11\n",
       "2     7\n",
       "3    17\n",
       "4    22\n",
       "Name: pickup_hour, dtype: category\n",
       "Categories (24, int64): [0, 1, 2, 3, ..., 20, 21, 22, 23]"
      ]
     },
     "execution_count": 14,
     "metadata": {},
     "output_type": "execute_result"
    }
   ],
   "source": [
    "df['pickup_hour'].head()"
   ]
  },
  {
   "cell_type": "markdown",
   "id": "8eba03ad-41af-4199-9466-bc4a1aeb4c85",
   "metadata": {},
   "source": [
    "We can explore the categories and the code that has been assigned by pandas."
   ]
  },
  {
   "cell_type": "code",
   "execution_count": 15,
   "id": "7c3ff806-9f06-4676-9907-3206882efdef",
   "metadata": {},
   "outputs": [
    {
     "data": {
      "text/plain": [
       "Index(['am', 'pm'], dtype='object')"
      ]
     },
     "execution_count": 15,
     "metadata": {},
     "output_type": "execute_result"
    }
   ],
   "source": [
    "# Review the categories of the variable\n",
    "df['pickup_ampm'].cat.categories"
   ]
  },
  {
   "cell_type": "code",
   "execution_count": 16,
   "id": "f1b9ff3e-8eaa-4552-ab20-1902ed5ec7ef",
   "metadata": {},
   "outputs": [
    {
     "data": {
      "text/plain": [
       "0         0\n",
       "1         0\n",
       "2         0\n",
       "3         1\n",
       "4         1\n",
       "         ..\n",
       "119995    0\n",
       "119996    0\n",
       "119997    1\n",
       "119998    0\n",
       "119999    1\n",
       "Length: 120000, dtype: int8"
      ]
     },
     "execution_count": 16,
     "metadata": {},
     "output_type": "execute_result"
    }
   ],
   "source": [
    "# Review the codes of the categories\n",
    "df['pickup_ampm'].cat.codes"
   ]
  },
  {
   "cell_type": "markdown",
   "id": "45d822ce-a674-45fe-87ca-f8aab70ed78c",
   "metadata": {},
   "source": [
    "To transform these into tensors, we need to extract the variables as numpy arrays and stack the variables to create a single array.\n",
    "\n",
    "```\n",
    "hr = df['pickup_hour'].cat.codes.values\n",
    "ampm = df['pickup_ampm'].cat.codes.values\n",
    "weekday = df['pickup_weekday'].cat.codes.values\n",
    "day = df['pickup_day'].cat.codes.values\n",
    "\n",
    "cats = np.stack([hr, ampm, weekday, day],axis=1)\n",
    "```\n",
    "\n",
    "This will create an array of shape (1200,4).\n",
    "\n",
    "It can also be achieved with a list comprehension."
   ]
  },
  {
   "cell_type": "code",
   "execution_count": 17,
   "id": "d3ce8883-23b0-45a7-a1b1-af55845e54f2",
   "metadata": {},
   "outputs": [
    {
     "data": {
      "text/plain": [
       "array([[ 4,  0,  1,  8],\n",
       "       [11,  0,  2,  6],\n",
       "       [ 7,  0,  2,  6],\n",
       "       ...,\n",
       "       [14,  1,  3,  7],\n",
       "       [ 4,  0,  5,  2],\n",
       "       [12,  1,  2,  6]], dtype=int8)"
      ]
     },
     "execution_count": 17,
     "metadata": {},
     "output_type": "execute_result"
    }
   ],
   "source": [
    "cats = np.stack([df[c].cat.codes.values for c in cat_cols],axis=1)\n",
    "cats"
   ]
  },
  {
   "cell_type": "markdown",
   "id": "a87bb31c-a977-4f13-9dd1-3516e8de4e40",
   "metadata": {},
   "source": [
    "Convert to a tensor"
   ]
  },
  {
   "cell_type": "code",
   "execution_count": 18,
   "id": "27af97ef-bbe7-4346-af20-90da7c51b504",
   "metadata": {},
   "outputs": [],
   "source": [
    "cats = torch.tensor(cats,dtype=torch.int64)"
   ]
  },
  {
   "cell_type": "markdown",
   "id": "a294c590-cef9-4202-aab2-c800f957771d",
   "metadata": {},
   "source": [
    "Convert the continuous variables into tensors"
   ]
  },
  {
   "cell_type": "code",
   "execution_count": 19,
   "id": "cc4e4eb6-2cfd-4776-b464-021a5b095690",
   "metadata": {},
   "outputs": [
    {
     "data": {
      "text/plain": [
       "tensor([[-73.9924,  40.7305, -73.9755,  40.7447,   1.0000,   2.1263],\n",
       "        [-73.9901,  40.7406, -73.9742,  40.7441,   1.0000,   1.3923],\n",
       "        [-73.9941,  40.7511, -73.9601,  40.7662,   2.0000,   3.3268],\n",
       "        ...,\n",
       "        [-73.9886,  40.7498, -74.0115,  40.7078,   3.0000,   5.0525],\n",
       "        [-74.0044,  40.7245, -73.9927,  40.7308,   1.0000,   1.2089],\n",
       "        [-73.9554,  40.7719, -73.9676,  40.7630,   3.0000,   1.4274]])"
      ]
     },
     "execution_count": 19,
     "metadata": {},
     "output_type": "execute_result"
    }
   ],
   "source": [
    "conts = torch.tensor(np.stack([df[c].values for c in cont_cols],axis=1),dtype=torch.float)\n",
    "conts"
   ]
  },
  {
   "cell_type": "markdown",
   "id": "b02df114-ae9e-4f57-9463-4af72491a60b",
   "metadata": {},
   "source": [
    "Convert the target variable to a tensor"
   ]
  },
  {
   "cell_type": "code",
   "execution_count": 20,
   "id": "2c9e75a6-f02f-4f8f-811c-ba13b40f51a0",
   "metadata": {},
   "outputs": [],
   "source": [
    "y = torch.tensor(df[y_col].values,dtype=torch.float)"
   ]
  },
  {
   "cell_type": "code",
   "execution_count": 21,
   "id": "8a716741-a613-4b61-86e2-77362f246572",
   "metadata": {},
   "outputs": [
    {
     "data": {
      "text/plain": [
       "(torch.Size([120000, 4]), torch.Size([120000, 6]), torch.Size([120000, 1]))"
      ]
     },
     "execution_count": 21,
     "metadata": {},
     "output_type": "execute_result"
    }
   ],
   "source": [
    "cats.shape, conts.shape, y.shape"
   ]
  },
  {
   "cell_type": "markdown",
   "id": "e56cb710-0d7d-4c1a-85c8-d0f82ece81b7",
   "metadata": {},
   "source": [
    "## Embedding sizes"
   ]
  },
  {
   "cell_type": "markdown",
   "id": "2b001c1a-324d-48ee-bb76-ce9003507690",
   "metadata": {},
   "source": [
    "We will set the embeddings size for the categorical variables. Embeddings will be similar to one-hot encoding the variables; however embeddings give us semantic information about categorical variables.\n",
    "\n",
    "The rule of thumb for determining the embedding size is to divide the number of unique entries in each column by 2, but not to exceed 50."
   ]
  },
  {
   "cell_type": "code",
   "execution_count": 22,
   "id": "65b2250d-d19d-4630-a39d-0ca5e370d0f9",
   "metadata": {},
   "outputs": [
    {
     "data": {
      "text/plain": [
       "[24, 2, 7, 14]"
      ]
     },
     "execution_count": 22,
     "metadata": {},
     "output_type": "execute_result"
    }
   ],
   "source": [
    "# Determining the number of categories in each categorical column\n",
    "cat_szs = [len(df[col].cat.categories) for col in cat_cols]\n",
    "cat_szs"
   ]
  },
  {
   "cell_type": "code",
   "execution_count": 23,
   "id": "0e78b480-9140-4429-ad19-ee907dd4d0af",
   "metadata": {},
   "outputs": [
    {
     "data": {
      "text/plain": [
       "[(24, 12), (2, 1), (7, 4), (14, 7)]"
      ]
     },
     "execution_count": 23,
     "metadata": {},
     "output_type": "execute_result"
    }
   ],
   "source": [
    "# Create the embedding sizes for each of the cat cols\n",
    "emb_szs = [(size,min(50,size+1)//2) for size in cat_szs] # Add 1 to sizes to handle entries with only 1 category\n",
    "emb_szs"
   ]
  },
  {
   "cell_type": "markdown",
   "id": "2514daeb-c6c7-46e5-8db0-885ca5e22566",
   "metadata": {},
   "source": [
    "# Defining a Tabular Module"
   ]
  },
  {
   "cell_type": "markdown",
   "id": "c873a718-2754-4f7c-a9ed-6f6e081ac721",
   "metadata": {},
   "source": [
    "We will be defining a module to work with tabular data that may include categorical and continous data.\n",
    "\n",
    "The steps to define this module are:\n",
    "\n",
    "1. Extend the base Module class to include:\n",
    "    - emb_szs: list of tuples: list of categorical variables sizes paired with their embedding sizes\n",
    "    - n_cont: int: number of continous variables\n",
    "    - out_sz: int: output size\n",
    "    - layers: list of int: list of layer sizes\n",
    "    - p: list of float: dropout probability for each layer\n",
    "\n",
    "```\n",
    "class TabularModel(nn.Module):\n",
    "    def __init__(self, emb_szs, n_cont, out_sz, layers, p=[0.5]):\n",
    "        super().__init__()\n",
    "```\n",
    "\n",
    "2. Set up the embedded layers with `torch.nn.ModuleList()` and `torch.nn.Embedding()`. Categorical data will be filtered through the embeddings when going through the forward pass.<br>\n",
    "`self.embeds = nn.ModuleList([nn.Embedding(ni,nf) for ni,nf in emb_szs])`\n",
    "where\n",
    "    - `ni`: number of categories\n",
    "    - `nf`: embedding dimensions\n",
    "\n",
    "3. Set up a droput function for the embeddings with `torch.nn.Dropout()`<br>\n",
    "`self.emb_drop = nn.Dropout(emb_dropout)`\n",
    "\n",
    "4. Set up a normalisation furnction for the continious variables with `torch.nn.BatchNorm1d()`<br>\n",
    "`self.bn_cont = nn.BatchNorm1d(n_cont)`\n",
    "\n",
    "5. Set up a sequence of neural network layers where each level includes a Linear function, an activation function (ReLU), a normalisation step, and a dropout layer. We'll combine the list of layers with `torch.nn.Sequential()`\n",
    "\n",
    "```\n",
    "self.bn_cont = nn.BatchNorm1d(n_cont)\n",
    "layerlist = []\n",
    "n_emb = sum((nf for ni,nf in emb_szs))\n",
    "n_in = n_emb + n_cont\n",
    "\n",
    "for i in layers:\n",
    "  layerlist.append(nn.Linear(n_in,i))\n",
    "  layerlist.append(nn.ReLU(inplace=True))\n",
    "  layerlist.append(nn.BatchNorm1d(i))\n",
    "  layerlist.append(nn.Dropout(p))\n",
    "  n_in = i\n",
    "layerlist.append(nn.Linear(layers[-1],out_sz))\n",
    "\n",
    "self.layers = nn.Sequential(*layerlist)\n",
    "```\n",
    "\n",
    "6. Define the forward method. Preprocess the embeddings and normalise the continous variables vefore passing them through the layers. Use `torch.cat()` to combine multiple tensors into one.\n",
    "\n",
    "```\n",
    "def forward(self, x_cat, x_cont):\n",
    "    embeddings = []\n",
    "    for i,e in enumerate(self.embeds):\n",
    "        embeddings.append(e(x_cat[:,i]))\n",
    "    x = torch.cat(embeddings, 1)\n",
    "    x = self.emb_drop(x)\n",
    "\n",
    "    x_cont = self.bn_cont(x_cont)\n",
    "    x = torch.cat([x, x_cont], 1)\n",
    "    x = self.layers(x)\n",
    "    return x\n",
    "```"
   ]
  },
  {
   "cell_type": "markdown",
   "id": "727a816b-c7fb-4ece-9511-ee5a9f5ee123",
   "metadata": {},
   "source": [
    "## Embedding layer explained"
   ]
  },
  {
   "cell_type": "markdown",
   "id": "59c826d3-f409-4a92-943b-161d549a4d92",
   "metadata": {},
   "source": [
    "<div class=\"alert alert-block alert-danger\">\n",
    "    Code in this section will be done inside the module through the forward pass. This section is just for explanatory purposes.\n",
    "</div>"
   ]
  },
  {
   "cell_type": "markdown",
   "id": "d3cc156c-36a6-42a8-a105-17baed74e1b0",
   "metadata": {},
   "source": [
    "Inside the module, we will be using `[nn.Embedings(ni,nf) for ni,nf in emb_szs]` and passing that to `nn.ModuleList(...)` in the forward pass."
   ]
  },
  {
   "cell_type": "code",
   "execution_count": 24,
   "id": "a9e1afcd-9713-44df-bae2-38d5dc366fe5",
   "metadata": {},
   "outputs": [
    {
     "data": {
      "text/plain": [
       "tensor([[ 4,  0,  1,  8],\n",
       "        [11,  0,  2,  6]])"
      ]
     },
     "execution_count": 24,
     "metadata": {},
     "output_type": "execute_result"
    }
   ],
   "source": [
    "catz = cats[:2]\n",
    "catz"
   ]
  },
  {
   "cell_type": "code",
   "execution_count": 25,
   "id": "0c5bc490-3d2b-4fee-ba67-a55ddfe42cb7",
   "metadata": {},
   "outputs": [
    {
     "data": {
      "text/plain": [
       "[Embedding(24, 12), Embedding(2, 1), Embedding(7, 4), Embedding(14, 7)]"
      ]
     },
     "execution_count": 25,
     "metadata": {},
     "output_type": "execute_result"
    }
   ],
   "source": [
    "[nn.Embedding(ni,nf) for ni,nf in emb_szs]"
   ]
  },
  {
   "cell_type": "code",
   "execution_count": 26,
   "id": "4d84f3c4-43d9-4374-aa03-0e00be9df74c",
   "metadata": {},
   "outputs": [
    {
     "data": {
      "text/plain": [
       "ModuleList(\n",
       "  (0): Embedding(24, 12)\n",
       "  (1): Embedding(2, 1)\n",
       "  (2): Embedding(7, 4)\n",
       "  (3): Embedding(14, 7)\n",
       ")"
      ]
     },
     "execution_count": 26,
     "metadata": {},
     "output_type": "execute_result"
    }
   ],
   "source": [
    "selfembeds = nn.ModuleList([nn.Embedding(ni,nf) for ni,nf in emb_szs])\n",
    "selfembeds"
   ]
  },
  {
   "cell_type": "markdown",
   "id": "1c984d14-94e1-4fe9-ba06-ac9312c2cba1",
   "metadata": {},
   "source": [
    "Inside the forward method, we will be passing our column of data through the embeddings. Each column represents one of our categorical values and it will be passed to the corresponding embedding.\n",
    "\n",
    "For example:\n",
    "\n",
    "`pickup_hour` has 24 categories and 12 embeddings, we will be passing the entire first row of our numpy array `catz[:,0]` through the embeddings which will create 12 values for each row in the first variable.\n",
    "\n",
    "Passing through the embeddings the `pickup_hour` column (index 0) for two rows returns:\n",
    "\n",
    "in: `(selfembeds[0](catz[:,0]))`\n",
    "\n",
    "out:\n",
    "\n",
    "```\n",
    "tensor([[ 0.4035,  1.1962,  0.4452,  1.1123,  2.2838,  1.1894, -0.5491,  0.1747,\n",
    "          0.4947, -1.0240, -1.8205,  0.7558],\n",
    "        [-0.0905, -0.1454, -1.0825,  2.2204, -0.1853, -0.1886,  0.6096, -1.0684,\n",
    "          0.0384, -1.5803,  0.2797, -0.6877]], grad_fn=<EmbeddingBackward0>)\n",
    "```\n",
    "\n",
    "in: `(selfembeds[0](catz[:,0])).shape`\n",
    "\n",
    "out: `torch.Size([2, 12])`\n"
   ]
  },
  {
   "cell_type": "code",
   "execution_count": 27,
   "id": "02fcaa43-cdff-4084-b5b2-6935d56ea862",
   "metadata": {},
   "outputs": [],
   "source": [
    "# Creating a list of tensors, each tensor is a list of the embeddings for each row of data passed.\n",
    "embeddingz = []\n",
    "\n",
    "for i,e in enumerate(selfembeds):\n",
    "    embeddingz.append(e(catz[:,i]))"
   ]
  },
  {
   "cell_type": "code",
   "execution_count": 28,
   "id": "c12527cd-b404-4b2d-af3e-625f03ba192a",
   "metadata": {},
   "outputs": [
    {
     "name": "stdout",
     "output_type": "stream",
     "text": [
      "torch.Size([2, 12])\n",
      "torch.Size([2, 1])\n",
      "torch.Size([2, 4])\n",
      "torch.Size([2, 7])\n"
     ]
    }
   ],
   "source": [
    "for t in embeddingz:\n",
    "    print(t.shape)"
   ]
  },
  {
   "cell_type": "code",
   "execution_count": 29,
   "id": "859203ad-947b-44d6-b3cf-509f81decf54",
   "metadata": {},
   "outputs": [
    {
     "data": {
      "text/plain": [
       "torch.Size([2, 24])"
      ]
     },
     "execution_count": 29,
     "metadata": {},
     "output_type": "execute_result"
    }
   ],
   "source": [
    "# Concatenate all embeddings into a single tesor\n",
    "z = torch.cat(embeddingz,dim=1)\n",
    "z.shape"
   ]
  },
  {
   "cell_type": "markdown",
   "id": "9c1a5ea7-9ef7-45f7-a678-529d2aa3af41",
   "metadata": {},
   "source": [
    "We will then pass the embeddings through a dropout layer which helps with overfitting by reducing the reliance of the network on any specific node. "
   ]
  },
  {
   "cell_type": "code",
   "execution_count": 30,
   "id": "6bab4037-bc30-4a70-9b34-9d670c065edd",
   "metadata": {},
   "outputs": [],
   "source": [
    "selfembdrop = nn.Dropout()"
   ]
  },
  {
   "cell_type": "code",
   "execution_count": 31,
   "id": "c6f846ce-c3d5-49ee-b971-ff8f2ef92f3b",
   "metadata": {},
   "outputs": [],
   "source": [
    "z = selfembdrop(z)"
   ]
  },
  {
   "cell_type": "code",
   "execution_count": 32,
   "id": "9b0f4823-2f5d-4eea-a16d-46141ea373ef",
   "metadata": {},
   "outputs": [
    {
     "data": {
      "text/plain": [
       "tensor([[-0.0000,  0.0000,  0.0000, -0.0000, -3.3826,  0.9769,  2.2569,  0.0000,\n",
       "         -2.2809,  0.7407,  3.4992, -0.0000, -0.0000, -0.0000, -0.0000,  1.0596,\n",
       "         -0.0000,  1.4185, -0.0000,  3.2381, -0.0000,  0.0000,  1.2261,  0.0000],\n",
       "        [ 0.0000,  0.0000,  0.0000,  0.0000, -0.0000,  0.0000, -0.3383, -3.4822,\n",
       "          0.0000, -0.0000,  0.1196, -2.5174, -2.5745,  0.0000, -0.0000,  0.0000,\n",
       "          2.5383, -0.0000, -0.0000,  0.0000, -0.0000, -2.7343, -0.9844, -0.7037]],\n",
       "       grad_fn=<MulBackward0>)"
      ]
     },
     "execution_count": 32,
     "metadata": {},
     "output_type": "execute_result"
    }
   ],
   "source": [
    "z"
   ]
  },
  {
   "cell_type": "markdown",
   "id": "19b3e137-9e8d-44a5-92d7-bb197732494e",
   "metadata": {},
   "source": [
    "## Tabular Model"
   ]
  },
  {
   "cell_type": "code",
   "execution_count": 33,
   "id": "9aad2c66-0797-497f-b7b7-91b6ffc73259",
   "metadata": {},
   "outputs": [],
   "source": [
    "class TabularModel(nn.Module):\n",
    "    '''\n",
    "    - emb_szs: list of tuples: list of categorical variables sizes paired with their embedding sizes\n",
    "    - n_cont: int: number of continous variables\n",
    "    - out_sz: int: output size\n",
    "    - layers: list of int: list of layer sizes\n",
    "    - p: list of float: dropout probability for each layer\n",
    "    '''\n",
    "    def __init__(self, emb_szs, n_cont, out_sz, layers, p=0.5):\n",
    "        \n",
    "        # Instanciate nn.Module\n",
    "        super().__init__()\n",
    "        \n",
    "        # Create the embedings ModuleList, dropout, and batch normalisation functions\n",
    "        self.embeds = nn.ModuleList([nn.Embedding(ni, nf) for ni,nf in emb_szs])\n",
    "        self.emb_drop = nn.Dropout(p)\n",
    "        self.bn_cont = nn.BatchNorm1d(n_cont) # Normalising continuous features to make sure they are in the same scale\n",
    "        \n",
    "        # Create the initial and hidden layers of the model\n",
    "        layerlist = []\n",
    "        n_emb = sum([nf for ni,nf in emb_szs])\n",
    "        # Total number of in features to the neural network\n",
    "        n_in = n_emb + n_cont\n",
    "        \n",
    "        for n,i in enumerate(layers):\n",
    "            layerlist.append(nn.Linear(n_in, i))    # Apply a linear transformatino for incomming data\n",
    "            layerlist.append(nn.ReLU(inplace=True)) # Apply ReLU to the data\n",
    "            layerlist.append(nn.BatchNorm1d(i))     # Normalise data\n",
    "            layerlist.append(nn.Dropout(p))         # Dropout nodes\n",
    "            n_in = i # This parameter will set the n_in for the next layer based on the size of the existing layer\n",
    "        \n",
    "        # Create an output layer\n",
    "        layerlist.append(nn.Linear(layers[-1],out_sz))\n",
    "        \n",
    "        # Create a sequential container for the layers\n",
    "        self.layers = nn.Sequential(*layerlist)\n",
    "            \n",
    "        \n",
    "    def forward(self, x_cat, x_cont):\n",
    "        # Initiate a list of embedding tensors\n",
    "        embeddings = []\n",
    "                \n",
    "        # Append to the embeddings list the embeddings for all categorical variables\n",
    "        for i,e in enumerate(self.embeds):\n",
    "            embeddings.append(e(x_cat[:,i]))\n",
    "            \n",
    "        # Concatenate the embedings on a row basis and apply dropout\n",
    "        x = torch.cat(embeddings,1)\n",
    "            \n",
    "        x = self.emb_drop(x)\n",
    "\n",
    "        # Apply batch normalisation to continuous variables\n",
    "        x_cont = self.bn_cont(x_cont)\n",
    "\n",
    "        # Concatenate continuous and categorical variables\n",
    "        x = torch.cat([x,x_cont], 1)\n",
    "\n",
    "        # Output of all layers\n",
    "        x = self.layers(x)\n",
    "        return x"
   ]
  },
  {
   "cell_type": "code",
   "execution_count": 34,
   "id": "b0816fe4-b1ad-459c-82df-e57a8a1f1604",
   "metadata": {},
   "outputs": [],
   "source": [
    "torch.manual_seed(33)\n",
    "model = TabularModel(emb_szs=emb_szs, n_cont=conts.shape[1], \n",
    "                     out_sz=1, layers=[200,100], p=0.4)"
   ]
  },
  {
   "cell_type": "code",
   "execution_count": 35,
   "id": "2b9bda56-55ea-4d9b-a7b7-5a09291dde15",
   "metadata": {},
   "outputs": [
    {
     "data": {
      "text/plain": [
       "TabularModel(\n",
       "  (embeds): ModuleList(\n",
       "    (0): Embedding(24, 12)\n",
       "    (1): Embedding(2, 1)\n",
       "    (2): Embedding(7, 4)\n",
       "    (3): Embedding(14, 7)\n",
       "  )\n",
       "  (emb_drop): Dropout(p=0.4, inplace=False)\n",
       "  (bn_cont): BatchNorm1d(6, eps=1e-05, momentum=0.1, affine=True, track_running_stats=True)\n",
       "  (layers): Sequential(\n",
       "    (0): Linear(in_features=30, out_features=200, bias=True)\n",
       "    (1): ReLU(inplace=True)\n",
       "    (2): BatchNorm1d(200, eps=1e-05, momentum=0.1, affine=True, track_running_stats=True)\n",
       "    (3): Dropout(p=0.4, inplace=False)\n",
       "    (4): Linear(in_features=200, out_features=100, bias=True)\n",
       "    (5): ReLU(inplace=True)\n",
       "    (6): BatchNorm1d(100, eps=1e-05, momentum=0.1, affine=True, track_running_stats=True)\n",
       "    (7): Dropout(p=0.4, inplace=False)\n",
       "    (8): Linear(in_features=100, out_features=1, bias=True)\n",
       "  )\n",
       ")"
      ]
     },
     "execution_count": 35,
     "metadata": {},
     "output_type": "execute_result"
    }
   ],
   "source": [
    "model"
   ]
  },
  {
   "cell_type": "markdown",
   "id": "5e86787a-32d2-4678-b0dd-fb5907d44089",
   "metadata": {},
   "source": [
    "## Loss function and optimiser"
   ]
  },
  {
   "cell_type": "markdown",
   "id": "e2eab2f3-20be-4d4a-8542-c1705a8ad75e",
   "metadata": {},
   "source": [
    "We will use root mean squared error (RMSE) for our loss function and Adam for our optimiser.\n",
    "\n",
    "RMSE = `np.sqrt(nn.MSELoss())`<br>\n",
    "Adam = `torch.optim.Adam(model.parameters())`"
   ]
  },
  {
   "cell_type": "code",
   "execution_count": 36,
   "id": "c4d19752-4d52-4339-a972-f34004625272",
   "metadata": {},
   "outputs": [],
   "source": [
    "# Define the criterion (loss function) and the optimiser\n",
    "criterion = nn.MSELoss()\n",
    "optimiser = torch.optim.Adam(model.parameters(),lr=0.001)"
   ]
  },
  {
   "cell_type": "markdown",
   "id": "6b8658bb-7510-4bf7-8d12-01ed8f85768d",
   "metadata": {},
   "source": [
    "# Training the model"
   ]
  },
  {
   "cell_type": "markdown",
   "id": "f6a0fe98-3e1d-4307-9b52-287a703e7319",
   "metadata": {},
   "source": [
    "## Train test split"
   ]
  },
  {
   "cell_type": "markdown",
   "id": "d8cbec21-2812-49d7-aa53-19965d2e761e",
   "metadata": {},
   "source": [
    "The existing dataset has 120,000 entries per batch. To speed up the training we will reduce the batch size to 60,000 entries."
   ]
  },
  {
   "cell_type": "code",
   "execution_count": 37,
   "id": "cdb26040-17a4-46fc-ae89-c7e5198b3931",
   "metadata": {},
   "outputs": [],
   "source": [
    "batch_size = 60000\n",
    "test_size = int(batch_size*0.2)"
   ]
  },
  {
   "cell_type": "code",
   "execution_count": 38,
   "id": "98b76c68-ce09-46c7-9664-768e118acd3b",
   "metadata": {},
   "outputs": [],
   "source": [
    "cat_train = cats[:batch_size-test_size]\n",
    "cat_test = cats[batch_size-test_size:batch_size]\n",
    "con_train = conts[:batch_size-test_size]\n",
    "con_test = conts[batch_size-test_size:batch_size]"
   ]
  },
  {
   "cell_type": "code",
   "execution_count": 39,
   "id": "c5443f1b-adca-4a5e-bb8e-1b735294d5b0",
   "metadata": {},
   "outputs": [],
   "source": [
    "y_train = y[:batch_size-test_size]\n",
    "y_test = y[batch_size-test_size:batch_size]"
   ]
  },
  {
   "cell_type": "markdown",
   "id": "32f22b66-4f26-4632-b3da-9606ea714362",
   "metadata": {
    "tags": []
   },
   "source": [
    "## Training"
   ]
  },
  {
   "cell_type": "code",
   "execution_count": 40,
   "id": "b223b145-91aa-45c7-a7de-abb9d936f778",
   "metadata": {},
   "outputs": [
    {
     "name": "stdout",
     "output_type": "stream",
     "text": [
      "epoch:   1  loss: 10.31181717\n",
      "epoch:   6  loss: 4.22650766\n",
      "epoch:  11  loss: 3.83772683\n",
      "epoch:  16  loss: 3.55971408\n",
      "epoch:  21  loss: 3.66577649\n",
      "epoch:  26  loss: 3.47655559\n",
      "epoch:  31  loss: 3.55553293\n",
      "epoch:  36  loss: 3.43503308\n",
      "epoch:  41  loss: 3.27361798\n",
      "epoch:  46  loss: 3.46268010\n",
      "epoch:  50  loss: 3.37067866\n",
      "\n",
      "Duration: 106 seconds\n"
     ]
    }
   ],
   "source": [
    "training_time = time.time()\n",
    "\n",
    "epochs = 50\n",
    "losses = []\n",
    "\n",
    "dataset_train = TensorDataset(cat_train, con_train, y_train)\n",
    "data_loader = DataLoader(dataset_train,batch_size=1000,num_workers=1)\n",
    "\n",
    "for i in range(epochs):\n",
    "    i+=1\n",
    "    \n",
    "    batch_losses = []\n",
    "    # For each epoch, for each dataset in the data loader\n",
    "    for cat_train, con_train, y_train in data_loader:\n",
    "        y_pred = model(cat_train, con_train)\n",
    "        loss = torch.sqrt(criterion(y_pred, y_train)) #RMSE\n",
    "        optimiser.zero_grad()\n",
    "        loss.backward()\n",
    "        optimiser.step()\n",
    "    \n",
    "    losses.append(loss)\n",
    "    \n",
    "    # a neat trick to save screen space:\n",
    "    if i%5 == 1:\n",
    "        print(f'epoch: {i:3}  loss: {loss.item():10.8f}')\n",
    "\n",
    "    \n",
    "\n",
    "print(f'epoch: {i:3}  loss: {loss.item():10.8f}') # print the last line\n",
    "print(f'\\nDuration: {time.time() - training_time:.0f} seconds') # print the time elapsed"
   ]
  },
  {
   "cell_type": "markdown",
   "id": "5698a2df-fdf6-485b-93e3-1090ac6397a5",
   "metadata": {},
   "source": [
    "## Plot the loss function"
   ]
  },
  {
   "cell_type": "code",
   "execution_count": 41,
   "id": "a92f23f5-8afd-4b02-9f13-62b71410c670",
   "metadata": {},
   "outputs": [
    {
     "data": {
      "image/png": "[encoded data removed]",
      "text/plain": [
       "<Figure size 432x288 with 1 Axes>"
      ]
     },
     "metadata": {
      "needs_background": "light"
     },
     "output_type": "display_data"
    }
   ],
   "source": [
    "plt.plot(range(epochs), [l.item() for l in losses])\n",
    "plt.ylabel('RMSE Loss')\n",
    "plt.xlabel('epoch');"
   ]
  },
  {
   "cell_type": "markdown",
   "id": "18e88ef2-5a8d-4f6c-98e9-e7643b111e6b",
   "metadata": {},
   "source": [
    "# Save the model"
   ]
  },
  {
   "cell_type": "code",
   "execution_count": 48,
   "id": "8fcfcfa4-ce4a-440a-aa40-2b27b7347fb9",
   "metadata": {},
   "outputs": [],
   "source": [
    "# Make sure to save the model only after the training has happened!\n",
    "if len(losses) == epochs:\n",
    "    torch.save(model.state_dict(), '2l-TaxiFareRegrModel.pt')\n",
    "else:\n",
    "    print('Model has not been trained. Consider loading a trained model instead.')"
   ]
  },
  {
   "cell_type": "markdown",
   "id": "bdc9e9bb-b767-4461-9a2b-66d0adadfca6",
   "metadata": {},
   "source": [
    "# Testing"
   ]
  },
  {
   "cell_type": "code",
   "execution_count": 49,
   "id": "76179950-808d-42cb-918a-12b1db2bd327",
   "metadata": {},
   "outputs": [
    {
     "data": {
      "text/plain": [
       "TabularModel(\n",
       "  (embeds): ModuleList(\n",
       "    (0): Embedding(24, 12)\n",
       "    (1): Embedding(2, 1)\n",
       "    (2): Embedding(7, 4)\n",
       "    (3): Embedding(14, 7)\n",
       "  )\n",
       "  (emb_drop): Dropout(p=0.4, inplace=False)\n",
       "  (bn_cont): BatchNorm1d(6, eps=1e-05, momentum=0.1, affine=True, track_running_stats=True)\n",
       "  (layers): Sequential(\n",
       "    (0): Linear(in_features=30, out_features=300, bias=True)\n",
       "    (1): ReLU(inplace=True)\n",
       "    (2): BatchNorm1d(300, eps=1e-05, momentum=0.1, affine=True, track_running_stats=True)\n",
       "    (3): Dropout(p=0.4, inplace=False)\n",
       "    (4): Linear(in_features=300, out_features=200, bias=True)\n",
       "    (5): ReLU(inplace=True)\n",
       "    (6): BatchNorm1d(200, eps=1e-05, momentum=0.1, affine=True, track_running_stats=True)\n",
       "    (7): Dropout(p=0.4, inplace=False)\n",
       "    (8): Linear(in_features=200, out_features=50, bias=True)\n",
       "    (9): ReLU(inplace=True)\n",
       "    (10): BatchNorm1d(50, eps=1e-05, momentum=0.1, affine=True, track_running_stats=True)\n",
       "    (11): Dropout(p=0.4, inplace=False)\n",
       "    (12): Linear(in_features=50, out_features=200, bias=True)\n",
       "    (13): ReLU(inplace=True)\n",
       "    (14): BatchNorm1d(200, eps=1e-05, momentum=0.1, affine=True, track_running_stats=True)\n",
       "    (15): Dropout(p=0.4, inplace=False)\n",
       "    (16): Linear(in_features=200, out_features=300, bias=True)\n",
       "    (17): ReLU(inplace=True)\n",
       "    (18): BatchNorm1d(300, eps=1e-05, momentum=0.1, affine=True, track_running_stats=True)\n",
       "    (19): Dropout(p=0.4, inplace=False)\n",
       "    (20): Linear(in_features=300, out_features=1, bias=True)\n",
       "  )\n",
       ")"
      ]
     },
     "execution_count": 49,
     "metadata": {},
     "output_type": "execute_result"
    }
   ],
   "source": [
    "torch.manual_seed(33)\n",
    "model2 = TabularModel(emb_szs=emb_szs, n_cont=conts.shape[1], \n",
    "                     out_sz=1, layers=[300,200,50,200,300], p=0.4)\n",
    "model2"
   ]
  },
  {
   "cell_type": "code",
   "execution_count": 50,
   "id": "6523bce8-0b12-488f-b39a-811cc931f345",
   "metadata": {},
   "outputs": [
    {
     "name": "stdout",
     "output_type": "stream",
     "text": [
      "epoch:   1  loss: 12.49856281\n",
      "epoch:   6  loss: 12.51194572\n",
      "epoch:  11  loss: 12.51322460\n",
      "epoch:  16  loss: 12.49982452\n",
      "epoch:  20  loss: 12.48223305\n",
      "\n",
      "Duration: 34 seconds\n"
     ]
    }
   ],
   "source": [
    "training_time = time.time()\n",
    "\n",
    "epochs = 20\n",
    "losses = []\n",
    "\n",
    "dataset_train = TensorDataset(cat_train, con_train, y_train)\n",
    "data_loader = DataLoader(dataset_train,batch_size=1000,num_workers=1)\n",
    "\n",
    "for i in range(epochs):\n",
    "    i+=1\n",
    "    \n",
    "    batch_losses = []\n",
    "    # For each epoch, for each dataset in the data loader\n",
    "    for cat_train, con_train, y_train in data_loader:\n",
    "        y_pred = model2(cat_train, con_train)\n",
    "        loss = torch.sqrt(criterion(y_pred, y_train)) #RMSE\n",
    "        optimiser.zero_grad()\n",
    "        loss.backward()\n",
    "        optimiser.step()\n",
    "    \n",
    "    losses.append(loss)\n",
    "    \n",
    "    # a neat trick to save screen space:\n",
    "    if i%5 == 1:\n",
    "        print(f'epoch: {i:3}  loss: {loss.item():10.8f}')\n",
    "\n",
    "    \n",
    "\n",
    "print(f'epoch: {i:3}  loss: {loss.item():10.8f}') # print the last line\n",
    "print(f'\\nDuration: {time.time() - training_time:.0f} seconds') # print the time elapsed"
   ]
  },
  {
   "cell_type": "code",
   "execution_count": 51,
   "id": "b85f9800-f6ae-4ebc-8819-4da088d3267a",
   "metadata": {},
   "outputs": [
    {
     "data": {
      "image/png": "[encoded data removed]",
      "text/plain": [
       "<Figure size 432x288 with 1 Axes>"
      ]
     },
     "metadata": {
      "needs_background": "light"
     },
     "output_type": "display_data"
    }
   ],
   "source": [
    "plt.plot(range(epochs), [l.item() for l in losses])\n",
    "plt.ylabel('RMSE Loss')\n",
    "plt.xlabel('epoch');"
   ]
  }
 ],
 "metadata": {
  "kernelspec": {
   "display_name": "Python 3 (ipykernel)",
   "language": "python",
   "name": "python3"
  },
  "language_info": {
   "codemirror_mode": {
    "name": "ipython",
    "version": 3
   },
   "file_extension": ".py",
   "mimetype": "text/x-python",
   "name": "python",
   "nbconvert_exporter": "python",
   "pygments_lexer": "ipython3",
   "version": "3.9.7"
  },
  "toc-autonumbering": false,
  "toc-showcode": false,
  "toc-showmarkdowntxt": false,
  "toc-showtags": false
 },
 "nbformat": 4,
 "nbformat_minor": 5
}
